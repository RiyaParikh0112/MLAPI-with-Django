{
 "cells": [
  {
   "cell_type": "code",
   "execution_count": 1,
   "id": "7bbc74a1",
   "metadata": {
    "_cell_guid": "b1076dfc-b9ad-4769-8c92-a6c4dae69d19",
    "_uuid": "8f2839f25d086af736a60e9eeb907d3b93b6e0e5",
    "execution": {
     "iopub.execute_input": "2022-08-21T05:31:06.144445Z",
     "iopub.status.busy": "2022-08-21T05:31:06.143446Z",
     "iopub.status.idle": "2022-08-21T05:31:14.251016Z",
     "shell.execute_reply": "2022-08-21T05:31:14.249563Z"
    },
    "papermill": {
     "duration": 8.120153,
     "end_time": "2022-08-21T05:31:14.253972",
     "exception": false,
     "start_time": "2022-08-21T05:31:06.133819",
     "status": "completed"
    },
    "tags": []
   },
   "outputs": [],
   "source": [
    "import pandas as pd\n",
    "import numpy as np\n",
    "import seaborn as sns\n",
    "import matplotlib.pyplot as plt\n",
    "from keras import Sequential\n",
    "from keras.layers import Dense\n",
    "from sklearn.model_selection import train_test_split\n",
    "from sklearn.metrics import accuracy_score,confusion_matrix\n",
    "from imblearn.over_sampling import SMOTE  # as it is an imbalanced data\n",
    "from sklearn.preprocessing import MinMaxScaler\n",
    "import warnings\n",
    "from collections import Counter #imbalanced dataset\n",
    "warnings.filterwarnings('ignore')\n",
    "\n"
   ]
  },
  {
   "cell_type": "code",
   "execution_count": 2,
   "id": "efcb8204",
   "metadata": {
    "execution": {
     "iopub.execute_input": "2022-08-21T05:31:14.269250Z",
     "iopub.status.busy": "2022-08-21T05:31:14.268562Z",
     "iopub.status.idle": "2022-08-21T05:31:14.288473Z",
     "shell.execute_reply": "2022-08-21T05:31:14.287295Z"
    },
    "papermill": {
     "duration": 0.030527,
     "end_time": "2022-08-21T05:31:14.291206",
     "exception": false,
     "start_time": "2022-08-21T05:31:14.260679",
     "status": "completed"
    },
    "tags": []
   },
   "outputs": [],
   "source": [
    "df = pd.read_csv('../input/bankloan/bankloan.csv')"
   ]
  },
  {
   "cell_type": "code",
   "execution_count": 3,
   "id": "af6b3cb6",
   "metadata": {
    "execution": {
     "iopub.execute_input": "2022-08-21T05:31:14.306123Z",
     "iopub.status.busy": "2022-08-21T05:31:14.305713Z",
     "iopub.status.idle": "2022-08-21T05:31:14.336057Z",
     "shell.execute_reply": "2022-08-21T05:31:14.335007Z"
    },
    "papermill": {
     "duration": 0.04086,
     "end_time": "2022-08-21T05:31:14.338598",
     "exception": false,
     "start_time": "2022-08-21T05:31:14.297738",
     "status": "completed"
    },
    "tags": []
   },
   "outputs": [
    {
     "data": {
      "text/html": [
       "<div>\n",
       "<style scoped>\n",
       "    .dataframe tbody tr th:only-of-type {\n",
       "        vertical-align: middle;\n",
       "    }\n",
       "\n",
       "    .dataframe tbody tr th {\n",
       "        vertical-align: top;\n",
       "    }\n",
       "\n",
       "    .dataframe thead th {\n",
       "        text-align: right;\n",
       "    }\n",
       "</style>\n",
       "<table border=\"1\" class=\"dataframe\">\n",
       "  <thead>\n",
       "    <tr style=\"text-align: right;\">\n",
       "      <th></th>\n",
       "      <th>Loan_ID</th>\n",
       "      <th>Gender</th>\n",
       "      <th>Married</th>\n",
       "      <th>Dependents</th>\n",
       "      <th>Education</th>\n",
       "      <th>Self_Employed</th>\n",
       "      <th>ApplicantIncome</th>\n",
       "      <th>CoapplicantIncome</th>\n",
       "      <th>LoanAmount</th>\n",
       "      <th>Loan_Amount_Term</th>\n",
       "      <th>Credit_History</th>\n",
       "      <th>Property_Area</th>\n",
       "      <th>Loan_Status</th>\n",
       "    </tr>\n",
       "  </thead>\n",
       "  <tbody>\n",
       "    <tr>\n",
       "      <th>0</th>\n",
       "      <td>LP001002</td>\n",
       "      <td>Male</td>\n",
       "      <td>No</td>\n",
       "      <td>0.0</td>\n",
       "      <td>Graduate</td>\n",
       "      <td>No</td>\n",
       "      <td>5849</td>\n",
       "      <td>0.0</td>\n",
       "      <td>NaN</td>\n",
       "      <td>360.0</td>\n",
       "      <td>1.0</td>\n",
       "      <td>Urban</td>\n",
       "      <td>Y</td>\n",
       "    </tr>\n",
       "    <tr>\n",
       "      <th>1</th>\n",
       "      <td>LP001003</td>\n",
       "      <td>Male</td>\n",
       "      <td>Yes</td>\n",
       "      <td>1.0</td>\n",
       "      <td>Graduate</td>\n",
       "      <td>No</td>\n",
       "      <td>4583</td>\n",
       "      <td>1508.0</td>\n",
       "      <td>128.0</td>\n",
       "      <td>360.0</td>\n",
       "      <td>1.0</td>\n",
       "      <td>Rural</td>\n",
       "      <td>N</td>\n",
       "    </tr>\n",
       "    <tr>\n",
       "      <th>2</th>\n",
       "      <td>LP001005</td>\n",
       "      <td>Male</td>\n",
       "      <td>Yes</td>\n",
       "      <td>0.0</td>\n",
       "      <td>Graduate</td>\n",
       "      <td>Yes</td>\n",
       "      <td>3000</td>\n",
       "      <td>0.0</td>\n",
       "      <td>66.0</td>\n",
       "      <td>360.0</td>\n",
       "      <td>1.0</td>\n",
       "      <td>Urban</td>\n",
       "      <td>Y</td>\n",
       "    </tr>\n",
       "    <tr>\n",
       "      <th>3</th>\n",
       "      <td>LP001006</td>\n",
       "      <td>Male</td>\n",
       "      <td>Yes</td>\n",
       "      <td>0.0</td>\n",
       "      <td>Not Graduate</td>\n",
       "      <td>No</td>\n",
       "      <td>2583</td>\n",
       "      <td>2358.0</td>\n",
       "      <td>120.0</td>\n",
       "      <td>360.0</td>\n",
       "      <td>1.0</td>\n",
       "      <td>Urban</td>\n",
       "      <td>Y</td>\n",
       "    </tr>\n",
       "    <tr>\n",
       "      <th>4</th>\n",
       "      <td>LP001008</td>\n",
       "      <td>Male</td>\n",
       "      <td>No</td>\n",
       "      <td>0.0</td>\n",
       "      <td>Graduate</td>\n",
       "      <td>No</td>\n",
       "      <td>6000</td>\n",
       "      <td>0.0</td>\n",
       "      <td>141.0</td>\n",
       "      <td>360.0</td>\n",
       "      <td>1.0</td>\n",
       "      <td>Urban</td>\n",
       "      <td>Y</td>\n",
       "    </tr>\n",
       "  </tbody>\n",
       "</table>\n",
       "</div>"
      ],
      "text/plain": [
       "    Loan_ID Gender Married  Dependents     Education Self_Employed  \\\n",
       "0  LP001002   Male      No         0.0      Graduate            No   \n",
       "1  LP001003   Male     Yes         1.0      Graduate            No   \n",
       "2  LP001005   Male     Yes         0.0      Graduate           Yes   \n",
       "3  LP001006   Male     Yes         0.0  Not Graduate            No   \n",
       "4  LP001008   Male      No         0.0      Graduate            No   \n",
       "\n",
       "   ApplicantIncome  CoapplicantIncome  LoanAmount  Loan_Amount_Term  \\\n",
       "0             5849                0.0         NaN             360.0   \n",
       "1             4583             1508.0       128.0             360.0   \n",
       "2             3000                0.0        66.0             360.0   \n",
       "3             2583             2358.0       120.0             360.0   \n",
       "4             6000                0.0       141.0             360.0   \n",
       "\n",
       "   Credit_History Property_Area Loan_Status  \n",
       "0             1.0         Urban           Y  \n",
       "1             1.0         Rural           N  \n",
       "2             1.0         Urban           Y  \n",
       "3             1.0         Urban           Y  \n",
       "4             1.0         Urban           Y  "
      ]
     },
     "execution_count": 3,
     "metadata": {},
     "output_type": "execute_result"
    }
   ],
   "source": [
    "df.head()"
   ]
  },
  {
   "cell_type": "code",
   "execution_count": 4,
   "id": "2fff9a35",
   "metadata": {
    "execution": {
     "iopub.execute_input": "2022-08-21T05:31:14.355304Z",
     "iopub.status.busy": "2022-08-21T05:31:14.354365Z",
     "iopub.status.idle": "2022-08-21T05:31:14.362198Z",
     "shell.execute_reply": "2022-08-21T05:31:14.361043Z"
    },
    "papermill": {
     "duration": 0.018387,
     "end_time": "2022-08-21T05:31:14.364520",
     "exception": false,
     "start_time": "2022-08-21T05:31:14.346133",
     "status": "completed"
    },
    "tags": []
   },
   "outputs": [
    {
     "data": {
      "text/plain": [
       "(614, 13)"
      ]
     },
     "execution_count": 4,
     "metadata": {},
     "output_type": "execute_result"
    }
   ],
   "source": [
    "df.shape"
   ]
  },
  {
   "cell_type": "code",
   "execution_count": 5,
   "id": "f4a386d7",
   "metadata": {
    "execution": {
     "iopub.execute_input": "2022-08-21T05:31:14.380366Z",
     "iopub.status.busy": "2022-08-21T05:31:14.379441Z",
     "iopub.status.idle": "2022-08-21T05:31:14.393642Z",
     "shell.execute_reply": "2022-08-21T05:31:14.392494Z"
    },
    "papermill": {
     "duration": 0.024835,
     "end_time": "2022-08-21T05:31:14.396079",
     "exception": false,
     "start_time": "2022-08-21T05:31:14.371244",
     "status": "completed"
    },
    "tags": []
   },
   "outputs": [
    {
     "data": {
      "text/plain": [
       "True     7\n",
       "False    6\n",
       "dtype: int64"
      ]
     },
     "execution_count": 5,
     "metadata": {},
     "output_type": "execute_result"
    }
   ],
   "source": [
    "df.isna().any().value_counts()"
   ]
  },
  {
   "cell_type": "code",
   "execution_count": 6,
   "id": "652e4bef",
   "metadata": {
    "execution": {
     "iopub.execute_input": "2022-08-21T05:31:14.411423Z",
     "iopub.status.busy": "2022-08-21T05:31:14.411030Z",
     "iopub.status.idle": "2022-08-21T05:31:14.423490Z",
     "shell.execute_reply": "2022-08-21T05:31:14.422519Z"
    },
    "papermill": {
     "duration": 0.02293,
     "end_time": "2022-08-21T05:31:14.425837",
     "exception": false,
     "start_time": "2022-08-21T05:31:14.402907",
     "status": "completed"
    },
    "tags": []
   },
   "outputs": [],
   "source": [
    "df = df.dropna()"
   ]
  },
  {
   "cell_type": "code",
   "execution_count": 7,
   "id": "3796aed9",
   "metadata": {
    "execution": {
     "iopub.execute_input": "2022-08-21T05:31:14.441798Z",
     "iopub.status.busy": "2022-08-21T05:31:14.440676Z",
     "iopub.status.idle": "2022-08-21T05:31:14.447870Z",
     "shell.execute_reply": "2022-08-21T05:31:14.446880Z"
    },
    "papermill": {
     "duration": 0.01789,
     "end_time": "2022-08-21T05:31:14.450514",
     "exception": false,
     "start_time": "2022-08-21T05:31:14.432624",
     "status": "completed"
    },
    "tags": []
   },
   "outputs": [],
   "source": [
    "df = df.drop('Loan_ID',axis = 1)"
   ]
  },
  {
   "cell_type": "code",
   "execution_count": 8,
   "id": "aaa8cf95",
   "metadata": {
    "execution": {
     "iopub.execute_input": "2022-08-21T05:31:14.466212Z",
     "iopub.status.busy": "2022-08-21T05:31:14.465489Z",
     "iopub.status.idle": "2022-08-21T05:31:14.473767Z",
     "shell.execute_reply": "2022-08-21T05:31:14.472868Z"
    },
    "papermill": {
     "duration": 0.019092,
     "end_time": "2022-08-21T05:31:14.476496",
     "exception": false,
     "start_time": "2022-08-21T05:31:14.457404",
     "status": "completed"
    },
    "tags": []
   },
   "outputs": [],
   "source": [
    "df['LoanAmount'] = (df['LoanAmount']*1000).astype(int)"
   ]
  },
  {
   "cell_type": "code",
   "execution_count": 9,
   "id": "1e7ed9f4",
   "metadata": {
    "execution": {
     "iopub.execute_input": "2022-08-21T05:31:14.493429Z",
     "iopub.status.busy": "2022-08-21T05:31:14.492037Z",
     "iopub.status.idle": "2022-08-21T05:31:14.511823Z",
     "shell.execute_reply": "2022-08-21T05:31:14.510881Z"
    },
    "papermill": {
     "duration": 0.030653,
     "end_time": "2022-08-21T05:31:14.514125",
     "exception": false,
     "start_time": "2022-08-21T05:31:14.483472",
     "status": "completed"
    },
    "tags": []
   },
   "outputs": [
    {
     "data": {
      "text/html": [
       "<div>\n",
       "<style scoped>\n",
       "    .dataframe tbody tr th:only-of-type {\n",
       "        vertical-align: middle;\n",
       "    }\n",
       "\n",
       "    .dataframe tbody tr th {\n",
       "        vertical-align: top;\n",
       "    }\n",
       "\n",
       "    .dataframe thead th {\n",
       "        text-align: right;\n",
       "    }\n",
       "</style>\n",
       "<table border=\"1\" class=\"dataframe\">\n",
       "  <thead>\n",
       "    <tr style=\"text-align: right;\">\n",
       "      <th></th>\n",
       "      <th>Gender</th>\n",
       "      <th>Married</th>\n",
       "      <th>Dependents</th>\n",
       "      <th>Education</th>\n",
       "      <th>Self_Employed</th>\n",
       "      <th>ApplicantIncome</th>\n",
       "      <th>CoapplicantIncome</th>\n",
       "      <th>LoanAmount</th>\n",
       "      <th>Loan_Amount_Term</th>\n",
       "      <th>Credit_History</th>\n",
       "      <th>Property_Area</th>\n",
       "      <th>Loan_Status</th>\n",
       "    </tr>\n",
       "  </thead>\n",
       "  <tbody>\n",
       "    <tr>\n",
       "      <th>1</th>\n",
       "      <td>Male</td>\n",
       "      <td>Yes</td>\n",
       "      <td>1.0</td>\n",
       "      <td>Graduate</td>\n",
       "      <td>No</td>\n",
       "      <td>4583</td>\n",
       "      <td>1508.0</td>\n",
       "      <td>128000</td>\n",
       "      <td>360.0</td>\n",
       "      <td>1.0</td>\n",
       "      <td>Rural</td>\n",
       "      <td>N</td>\n",
       "    </tr>\n",
       "    <tr>\n",
       "      <th>2</th>\n",
       "      <td>Male</td>\n",
       "      <td>Yes</td>\n",
       "      <td>0.0</td>\n",
       "      <td>Graduate</td>\n",
       "      <td>Yes</td>\n",
       "      <td>3000</td>\n",
       "      <td>0.0</td>\n",
       "      <td>66000</td>\n",
       "      <td>360.0</td>\n",
       "      <td>1.0</td>\n",
       "      <td>Urban</td>\n",
       "      <td>Y</td>\n",
       "    </tr>\n",
       "    <tr>\n",
       "      <th>3</th>\n",
       "      <td>Male</td>\n",
       "      <td>Yes</td>\n",
       "      <td>0.0</td>\n",
       "      <td>Not Graduate</td>\n",
       "      <td>No</td>\n",
       "      <td>2583</td>\n",
       "      <td>2358.0</td>\n",
       "      <td>120000</td>\n",
       "      <td>360.0</td>\n",
       "      <td>1.0</td>\n",
       "      <td>Urban</td>\n",
       "      <td>Y</td>\n",
       "    </tr>\n",
       "    <tr>\n",
       "      <th>4</th>\n",
       "      <td>Male</td>\n",
       "      <td>No</td>\n",
       "      <td>0.0</td>\n",
       "      <td>Graduate</td>\n",
       "      <td>No</td>\n",
       "      <td>6000</td>\n",
       "      <td>0.0</td>\n",
       "      <td>141000</td>\n",
       "      <td>360.0</td>\n",
       "      <td>1.0</td>\n",
       "      <td>Urban</td>\n",
       "      <td>Y</td>\n",
       "    </tr>\n",
       "    <tr>\n",
       "      <th>5</th>\n",
       "      <td>Male</td>\n",
       "      <td>Yes</td>\n",
       "      <td>2.0</td>\n",
       "      <td>Graduate</td>\n",
       "      <td>Yes</td>\n",
       "      <td>5417</td>\n",
       "      <td>4196.0</td>\n",
       "      <td>267000</td>\n",
       "      <td>360.0</td>\n",
       "      <td>1.0</td>\n",
       "      <td>Urban</td>\n",
       "      <td>Y</td>\n",
       "    </tr>\n",
       "  </tbody>\n",
       "</table>\n",
       "</div>"
      ],
      "text/plain": [
       "  Gender Married  Dependents     Education Self_Employed  ApplicantIncome  \\\n",
       "1   Male     Yes         1.0      Graduate            No             4583   \n",
       "2   Male     Yes         0.0      Graduate           Yes             3000   \n",
       "3   Male     Yes         0.0  Not Graduate            No             2583   \n",
       "4   Male      No         0.0      Graduate            No             6000   \n",
       "5   Male     Yes         2.0      Graduate           Yes             5417   \n",
       "\n",
       "   CoapplicantIncome  LoanAmount  Loan_Amount_Term  Credit_History  \\\n",
       "1             1508.0      128000             360.0             1.0   \n",
       "2                0.0       66000             360.0             1.0   \n",
       "3             2358.0      120000             360.0             1.0   \n",
       "4                0.0      141000             360.0             1.0   \n",
       "5             4196.0      267000             360.0             1.0   \n",
       "\n",
       "  Property_Area Loan_Status  \n",
       "1         Rural           N  \n",
       "2         Urban           Y  \n",
       "3         Urban           Y  \n",
       "4         Urban           Y  \n",
       "5         Urban           Y  "
      ]
     },
     "execution_count": 9,
     "metadata": {},
     "output_type": "execute_result"
    }
   ],
   "source": [
    "df.head()"
   ]
  },
  {
   "cell_type": "code",
   "execution_count": 10,
   "id": "2c7da8b8",
   "metadata": {
    "execution": {
     "iopub.execute_input": "2022-08-21T05:31:14.530577Z",
     "iopub.status.busy": "2022-08-21T05:31:14.529975Z",
     "iopub.status.idle": "2022-08-21T05:31:14.536554Z",
     "shell.execute_reply": "2022-08-21T05:31:14.535733Z"
    },
    "papermill": {
     "duration": 0.017657,
     "end_time": "2022-08-21T05:31:14.539010",
     "exception": false,
     "start_time": "2022-08-21T05:31:14.521353",
     "status": "completed"
    },
    "tags": []
   },
   "outputs": [
    {
     "data": {
      "text/plain": [
       "Counter({'N': 148, 'Y': 332})"
      ]
     },
     "execution_count": 10,
     "metadata": {},
     "output_type": "execute_result"
    }
   ],
   "source": [
    "Counter(df['Loan_Status'])"
   ]
  },
  {
   "cell_type": "code",
   "execution_count": 11,
   "id": "14ca67f8",
   "metadata": {
    "execution": {
     "iopub.execute_input": "2022-08-21T05:31:14.555730Z",
     "iopub.status.busy": "2022-08-21T05:31:14.555123Z",
     "iopub.status.idle": "2022-08-21T05:31:14.561144Z",
     "shell.execute_reply": "2022-08-21T05:31:14.560280Z"
    },
    "papermill": {
     "duration": 0.016872,
     "end_time": "2022-08-21T05:31:14.563304",
     "exception": false,
     "start_time": "2022-08-21T05:31:14.546432",
     "status": "completed"
    },
    "tags": []
   },
   "outputs": [
    {
     "data": {
      "text/plain": [
       "0.6916666666666667"
      ]
     },
     "execution_count": 11,
     "metadata": {},
     "output_type": "execute_result"
    }
   ],
   "source": [
    "Counter(df['Loan_Status'])['Y']/df['Loan_Status'].size"
   ]
  },
  {
   "cell_type": "markdown",
   "id": "6cb60f49",
   "metadata": {
    "papermill": {
     "duration": 0.006954,
     "end_time": "2022-08-21T05:31:14.577621",
     "exception": false,
     "start_time": "2022-08-21T05:31:14.570667",
     "status": "completed"
    },
    "tags": []
   },
   "source": [
    "This is an imbalanced data and we need to balance it"
   ]
  },
  {
   "cell_type": "markdown",
   "id": "73d22752",
   "metadata": {
    "papermill": {
     "duration": 0.006856,
     "end_time": "2022-08-21T05:31:14.591704",
     "exception": false,
     "start_time": "2022-08-21T05:31:14.584848",
     "status": "completed"
    },
    "tags": []
   },
   "source": [
    "### Importing Data"
   ]
  },
  {
   "cell_type": "code",
   "execution_count": 12,
   "id": "cda07f97",
   "metadata": {
    "execution": {
     "iopub.execute_input": "2022-08-21T05:31:14.609523Z",
     "iopub.status.busy": "2022-08-21T05:31:14.608916Z",
     "iopub.status.idle": "2022-08-21T05:31:14.625523Z",
     "shell.execute_reply": "2022-08-21T05:31:14.624640Z"
    },
    "papermill": {
     "duration": 0.028241,
     "end_time": "2022-08-21T05:31:14.628041",
     "exception": false,
     "start_time": "2022-08-21T05:31:14.599800",
     "status": "completed"
    },
    "tags": []
   },
   "outputs": [],
   "source": [
    "pre_Y= df['Loan_Status']\n",
    "pre_X = df.drop('Loan_Status',axis = 1)\n",
    "X = pd.get_dummies(pre_X)\n",
    "Y = pre_Y.map(dict(Y = 1, N = 0))"
   ]
  },
  {
   "cell_type": "code",
   "execution_count": 13,
   "id": "9e1f373a",
   "metadata": {
    "execution": {
     "iopub.execute_input": "2022-08-21T05:31:14.644418Z",
     "iopub.status.busy": "2022-08-21T05:31:14.644024Z",
     "iopub.status.idle": "2022-08-21T05:31:14.663699Z",
     "shell.execute_reply": "2022-08-21T05:31:14.662545Z"
    },
    "papermill": {
     "duration": 0.030946,
     "end_time": "2022-08-21T05:31:14.666327",
     "exception": false,
     "start_time": "2022-08-21T05:31:14.635381",
     "status": "completed"
    },
    "tags": []
   },
   "outputs": [
    {
     "data": {
      "text/html": [
       "<div>\n",
       "<style scoped>\n",
       "    .dataframe tbody tr th:only-of-type {\n",
       "        vertical-align: middle;\n",
       "    }\n",
       "\n",
       "    .dataframe tbody tr th {\n",
       "        vertical-align: top;\n",
       "    }\n",
       "\n",
       "    .dataframe thead th {\n",
       "        text-align: right;\n",
       "    }\n",
       "</style>\n",
       "<table border=\"1\" class=\"dataframe\">\n",
       "  <thead>\n",
       "    <tr style=\"text-align: right;\">\n",
       "      <th></th>\n",
       "      <th>Gender</th>\n",
       "      <th>Married</th>\n",
       "      <th>Dependents</th>\n",
       "      <th>Education</th>\n",
       "      <th>Self_Employed</th>\n",
       "      <th>ApplicantIncome</th>\n",
       "      <th>CoapplicantIncome</th>\n",
       "      <th>LoanAmount</th>\n",
       "      <th>Loan_Amount_Term</th>\n",
       "      <th>Credit_History</th>\n",
       "      <th>Property_Area</th>\n",
       "    </tr>\n",
       "  </thead>\n",
       "  <tbody>\n",
       "    <tr>\n",
       "      <th>1</th>\n",
       "      <td>Male</td>\n",
       "      <td>Yes</td>\n",
       "      <td>1.0</td>\n",
       "      <td>Graduate</td>\n",
       "      <td>No</td>\n",
       "      <td>4583</td>\n",
       "      <td>1508.0</td>\n",
       "      <td>128000</td>\n",
       "      <td>360.0</td>\n",
       "      <td>1.0</td>\n",
       "      <td>Rural</td>\n",
       "    </tr>\n",
       "    <tr>\n",
       "      <th>2</th>\n",
       "      <td>Male</td>\n",
       "      <td>Yes</td>\n",
       "      <td>0.0</td>\n",
       "      <td>Graduate</td>\n",
       "      <td>Yes</td>\n",
       "      <td>3000</td>\n",
       "      <td>0.0</td>\n",
       "      <td>66000</td>\n",
       "      <td>360.0</td>\n",
       "      <td>1.0</td>\n",
       "      <td>Urban</td>\n",
       "    </tr>\n",
       "    <tr>\n",
       "      <th>3</th>\n",
       "      <td>Male</td>\n",
       "      <td>Yes</td>\n",
       "      <td>0.0</td>\n",
       "      <td>Not Graduate</td>\n",
       "      <td>No</td>\n",
       "      <td>2583</td>\n",
       "      <td>2358.0</td>\n",
       "      <td>120000</td>\n",
       "      <td>360.0</td>\n",
       "      <td>1.0</td>\n",
       "      <td>Urban</td>\n",
       "    </tr>\n",
       "    <tr>\n",
       "      <th>4</th>\n",
       "      <td>Male</td>\n",
       "      <td>No</td>\n",
       "      <td>0.0</td>\n",
       "      <td>Graduate</td>\n",
       "      <td>No</td>\n",
       "      <td>6000</td>\n",
       "      <td>0.0</td>\n",
       "      <td>141000</td>\n",
       "      <td>360.0</td>\n",
       "      <td>1.0</td>\n",
       "      <td>Urban</td>\n",
       "    </tr>\n",
       "    <tr>\n",
       "      <th>5</th>\n",
       "      <td>Male</td>\n",
       "      <td>Yes</td>\n",
       "      <td>2.0</td>\n",
       "      <td>Graduate</td>\n",
       "      <td>Yes</td>\n",
       "      <td>5417</td>\n",
       "      <td>4196.0</td>\n",
       "      <td>267000</td>\n",
       "      <td>360.0</td>\n",
       "      <td>1.0</td>\n",
       "      <td>Urban</td>\n",
       "    </tr>\n",
       "  </tbody>\n",
       "</table>\n",
       "</div>"
      ],
      "text/plain": [
       "  Gender Married  Dependents     Education Self_Employed  ApplicantIncome  \\\n",
       "1   Male     Yes         1.0      Graduate            No             4583   \n",
       "2   Male     Yes         0.0      Graduate           Yes             3000   \n",
       "3   Male     Yes         0.0  Not Graduate            No             2583   \n",
       "4   Male      No         0.0      Graduate            No             6000   \n",
       "5   Male     Yes         2.0      Graduate           Yes             5417   \n",
       "\n",
       "   CoapplicantIncome  LoanAmount  Loan_Amount_Term  Credit_History  \\\n",
       "1             1508.0      128000             360.0             1.0   \n",
       "2                0.0       66000             360.0             1.0   \n",
       "3             2358.0      120000             360.0             1.0   \n",
       "4                0.0      141000             360.0             1.0   \n",
       "5             4196.0      267000             360.0             1.0   \n",
       "\n",
       "  Property_Area  \n",
       "1         Rural  \n",
       "2         Urban  \n",
       "3         Urban  \n",
       "4         Urban  \n",
       "5         Urban  "
      ]
     },
     "execution_count": 13,
     "metadata": {},
     "output_type": "execute_result"
    }
   ],
   "source": [
    "pre_X.head()"
   ]
  },
  {
   "cell_type": "code",
   "execution_count": 14,
   "id": "f4df3c4f",
   "metadata": {
    "execution": {
     "iopub.execute_input": "2022-08-21T05:31:14.683849Z",
     "iopub.status.busy": "2022-08-21T05:31:14.682744Z",
     "iopub.status.idle": "2022-08-21T05:31:14.701701Z",
     "shell.execute_reply": "2022-08-21T05:31:14.700861Z"
    },
    "papermill": {
     "duration": 0.029873,
     "end_time": "2022-08-21T05:31:14.703892",
     "exception": false,
     "start_time": "2022-08-21T05:31:14.674019",
     "status": "completed"
    },
    "tags": []
   },
   "outputs": [
    {
     "data": {
      "text/html": [
       "<div>\n",
       "<style scoped>\n",
       "    .dataframe tbody tr th:only-of-type {\n",
       "        vertical-align: middle;\n",
       "    }\n",
       "\n",
       "    .dataframe tbody tr th {\n",
       "        vertical-align: top;\n",
       "    }\n",
       "\n",
       "    .dataframe thead th {\n",
       "        text-align: right;\n",
       "    }\n",
       "</style>\n",
       "<table border=\"1\" class=\"dataframe\">\n",
       "  <thead>\n",
       "    <tr style=\"text-align: right;\">\n",
       "      <th></th>\n",
       "      <th>Dependents</th>\n",
       "      <th>ApplicantIncome</th>\n",
       "      <th>CoapplicantIncome</th>\n",
       "      <th>LoanAmount</th>\n",
       "      <th>Loan_Amount_Term</th>\n",
       "      <th>Credit_History</th>\n",
       "      <th>Gender_Female</th>\n",
       "      <th>Gender_Male</th>\n",
       "      <th>Married_No</th>\n",
       "      <th>Married_Yes</th>\n",
       "      <th>Education_Graduate</th>\n",
       "      <th>Education_Not Graduate</th>\n",
       "      <th>Self_Employed_No</th>\n",
       "      <th>Self_Employed_Yes</th>\n",
       "      <th>Property_Area_Rural</th>\n",
       "      <th>Property_Area_Semiurban</th>\n",
       "      <th>Property_Area_Urban</th>\n",
       "    </tr>\n",
       "  </thead>\n",
       "  <tbody>\n",
       "    <tr>\n",
       "      <th>1</th>\n",
       "      <td>1.0</td>\n",
       "      <td>4583</td>\n",
       "      <td>1508.0</td>\n",
       "      <td>128000</td>\n",
       "      <td>360.0</td>\n",
       "      <td>1.0</td>\n",
       "      <td>0</td>\n",
       "      <td>1</td>\n",
       "      <td>0</td>\n",
       "      <td>1</td>\n",
       "      <td>1</td>\n",
       "      <td>0</td>\n",
       "      <td>1</td>\n",
       "      <td>0</td>\n",
       "      <td>1</td>\n",
       "      <td>0</td>\n",
       "      <td>0</td>\n",
       "    </tr>\n",
       "    <tr>\n",
       "      <th>2</th>\n",
       "      <td>0.0</td>\n",
       "      <td>3000</td>\n",
       "      <td>0.0</td>\n",
       "      <td>66000</td>\n",
       "      <td>360.0</td>\n",
       "      <td>1.0</td>\n",
       "      <td>0</td>\n",
       "      <td>1</td>\n",
       "      <td>0</td>\n",
       "      <td>1</td>\n",
       "      <td>1</td>\n",
       "      <td>0</td>\n",
       "      <td>0</td>\n",
       "      <td>1</td>\n",
       "      <td>0</td>\n",
       "      <td>0</td>\n",
       "      <td>1</td>\n",
       "    </tr>\n",
       "    <tr>\n",
       "      <th>3</th>\n",
       "      <td>0.0</td>\n",
       "      <td>2583</td>\n",
       "      <td>2358.0</td>\n",
       "      <td>120000</td>\n",
       "      <td>360.0</td>\n",
       "      <td>1.0</td>\n",
       "      <td>0</td>\n",
       "      <td>1</td>\n",
       "      <td>0</td>\n",
       "      <td>1</td>\n",
       "      <td>0</td>\n",
       "      <td>1</td>\n",
       "      <td>1</td>\n",
       "      <td>0</td>\n",
       "      <td>0</td>\n",
       "      <td>0</td>\n",
       "      <td>1</td>\n",
       "    </tr>\n",
       "    <tr>\n",
       "      <th>4</th>\n",
       "      <td>0.0</td>\n",
       "      <td>6000</td>\n",
       "      <td>0.0</td>\n",
       "      <td>141000</td>\n",
       "      <td>360.0</td>\n",
       "      <td>1.0</td>\n",
       "      <td>0</td>\n",
       "      <td>1</td>\n",
       "      <td>1</td>\n",
       "      <td>0</td>\n",
       "      <td>1</td>\n",
       "      <td>0</td>\n",
       "      <td>1</td>\n",
       "      <td>0</td>\n",
       "      <td>0</td>\n",
       "      <td>0</td>\n",
       "      <td>1</td>\n",
       "    </tr>\n",
       "    <tr>\n",
       "      <th>5</th>\n",
       "      <td>2.0</td>\n",
       "      <td>5417</td>\n",
       "      <td>4196.0</td>\n",
       "      <td>267000</td>\n",
       "      <td>360.0</td>\n",
       "      <td>1.0</td>\n",
       "      <td>0</td>\n",
       "      <td>1</td>\n",
       "      <td>0</td>\n",
       "      <td>1</td>\n",
       "      <td>1</td>\n",
       "      <td>0</td>\n",
       "      <td>0</td>\n",
       "      <td>1</td>\n",
       "      <td>0</td>\n",
       "      <td>0</td>\n",
       "      <td>1</td>\n",
       "    </tr>\n",
       "  </tbody>\n",
       "</table>\n",
       "</div>"
      ],
      "text/plain": [
       "   Dependents  ApplicantIncome  CoapplicantIncome  LoanAmount  \\\n",
       "1         1.0             4583             1508.0      128000   \n",
       "2         0.0             3000                0.0       66000   \n",
       "3         0.0             2583             2358.0      120000   \n",
       "4         0.0             6000                0.0      141000   \n",
       "5         2.0             5417             4196.0      267000   \n",
       "\n",
       "   Loan_Amount_Term  Credit_History  Gender_Female  Gender_Male  Married_No  \\\n",
       "1             360.0             1.0              0            1           0   \n",
       "2             360.0             1.0              0            1           0   \n",
       "3             360.0             1.0              0            1           0   \n",
       "4             360.0             1.0              0            1           1   \n",
       "5             360.0             1.0              0            1           0   \n",
       "\n",
       "   Married_Yes  Education_Graduate  Education_Not Graduate  Self_Employed_No  \\\n",
       "1            1                   1                       0                 1   \n",
       "2            1                   1                       0                 0   \n",
       "3            1                   0                       1                 1   \n",
       "4            0                   1                       0                 1   \n",
       "5            1                   1                       0                 0   \n",
       "\n",
       "   Self_Employed_Yes  Property_Area_Rural  Property_Area_Semiurban  \\\n",
       "1                  0                    1                        0   \n",
       "2                  1                    0                        0   \n",
       "3                  0                    0                        0   \n",
       "4                  0                    0                        0   \n",
       "5                  1                    0                        0   \n",
       "\n",
       "   Property_Area_Urban  \n",
       "1                    0  \n",
       "2                    1  \n",
       "3                    1  \n",
       "4                    1  \n",
       "5                    1  "
      ]
     },
     "execution_count": 14,
     "metadata": {},
     "output_type": "execute_result"
    }
   ],
   "source": [
    "X.head()"
   ]
  },
  {
   "cell_type": "markdown",
   "id": "be306ac0",
   "metadata": {
    "papermill": {
     "duration": 0.007472,
     "end_time": "2022-08-21T05:31:14.719411",
     "exception": false,
     "start_time": "2022-08-21T05:31:14.711939",
     "status": "completed"
    },
    "tags": []
   },
   "source": [
    "# Synthetic Minority Oversampling Technique - SMOTE"
   ]
  },
  {
   "cell_type": "code",
   "execution_count": 15,
   "id": "054e5d52",
   "metadata": {
    "execution": {
     "iopub.execute_input": "2022-08-21T05:31:14.736714Z",
     "iopub.status.busy": "2022-08-21T05:31:14.736319Z",
     "iopub.status.idle": "2022-08-21T05:31:14.781517Z",
     "shell.execute_reply": "2022-08-21T05:31:14.779569Z"
    },
    "papermill": {
     "duration": 0.058289,
     "end_time": "2022-08-21T05:31:14.785603",
     "exception": false,
     "start_time": "2022-08-21T05:31:14.727314",
     "status": "completed"
    },
    "tags": []
   },
   "outputs": [],
   "source": [
    "smote = SMOTE(sampling_strategy = 'minority')\n",
    "X1 , y = smote.fit_resample(X,Y)\n",
    "sc = MinMaxScaler()\n",
    "X = sc.fit_transform(X1)"
   ]
  },
  {
   "cell_type": "code",
   "execution_count": 16,
   "id": "f2c4f566",
   "metadata": {
    "execution": {
     "iopub.execute_input": "2022-08-21T05:31:14.828208Z",
     "iopub.status.busy": "2022-08-21T05:31:14.827552Z",
     "iopub.status.idle": "2022-08-21T05:31:14.837434Z",
     "shell.execute_reply": "2022-08-21T05:31:14.836304Z"
    },
    "papermill": {
     "duration": 0.036026,
     "end_time": "2022-08-21T05:31:14.841469",
     "exception": false,
     "start_time": "2022-08-21T05:31:14.805443",
     "status": "completed"
    },
    "tags": []
   },
   "outputs": [
    {
     "data": {
      "text/plain": [
       "Counter({0: 332, 1: 332})"
      ]
     },
     "execution_count": 16,
     "metadata": {},
     "output_type": "execute_result"
    }
   ],
   "source": [
    "Counter(y)"
   ]
  },
  {
   "cell_type": "markdown",
   "id": "e6a2f45c",
   "metadata": {
    "papermill": {
     "duration": 0.017498,
     "end_time": "2022-08-21T05:31:14.879237",
     "exception": false,
     "start_time": "2022-08-21T05:31:14.861739",
     "status": "completed"
    },
    "tags": []
   },
   "source": [
    "## Train Test Split"
   ]
  },
  {
   "cell_type": "code",
   "execution_count": 17,
   "id": "57173da2",
   "metadata": {
    "execution": {
     "iopub.execute_input": "2022-08-21T05:31:14.897501Z",
     "iopub.status.busy": "2022-08-21T05:31:14.897116Z",
     "iopub.status.idle": "2022-08-21T05:31:14.903759Z",
     "shell.execute_reply": "2022-08-21T05:31:14.902939Z"
    },
    "papermill": {
     "duration": 0.018344,
     "end_time": "2022-08-21T05:31:14.906038",
     "exception": false,
     "start_time": "2022-08-21T05:31:14.887694",
     "status": "completed"
    },
    "tags": []
   },
   "outputs": [],
   "source": [
    "X_train,X_test,Y_train,Y_test = train_test_split(X,y,test_size= 0.1,shuffle = True, random_state = 42)"
   ]
  },
  {
   "cell_type": "markdown",
   "id": "12ca7131",
   "metadata": {
    "papermill": {
     "duration": 0.007648,
     "end_time": "2022-08-21T05:31:14.921679",
     "exception": false,
     "start_time": "2022-08-21T05:31:14.914031",
     "status": "completed"
    },
    "tags": []
   },
   "source": [
    "### Create the Neural Network"
   ]
  },
  {
   "cell_type": "code",
   "execution_count": 18,
   "id": "1c7fac0e",
   "metadata": {
    "execution": {
     "iopub.execute_input": "2022-08-21T05:31:14.939759Z",
     "iopub.status.busy": "2022-08-21T05:31:14.939004Z",
     "iopub.status.idle": "2022-08-21T05:31:21.289089Z",
     "shell.execute_reply": "2022-08-21T05:31:21.288120Z"
    },
    "papermill": {
     "duration": 6.361847,
     "end_time": "2022-08-21T05:31:21.291424",
     "exception": false,
     "start_time": "2022-08-21T05:31:14.929577",
     "status": "completed"
    },
    "tags": []
   },
   "outputs": [
    {
     "name": "stderr",
     "output_type": "stream",
     "text": [
      "2022-08-21 05:31:14.982472: I tensorflow/core/common_runtime/process_util.cc:146] Creating new thread pool with default inter op setting: 2. Tune using inter_op_parallelism_threads for best performance.\n",
      "2022-08-21 05:31:15.167683: I tensorflow/compiler/mlir/mlir_graph_optimization_pass.cc:185] None of the MLIR Optimization Passes are enabled (registered 2)\n"
     ]
    },
    {
     "name": "stdout",
     "output_type": "stream",
     "text": [
      "19/19 [==============================] - 0s 2ms/step - loss: 0.2885 - accuracy: 0.8827\n"
     ]
    },
    {
     "data": {
      "text/plain": [
       "[0.2884882688522339, 0.8827470541000366]"
      ]
     },
     "execution_count": 18,
     "metadata": {},
     "output_type": "execute_result"
    }
   ],
   "source": [
    "classifier = Sequential()\n",
    "classifier.add(Dense(200,activation = 'relu',kernel_initializer='random_normal',input_dim =X_test.shape[1]))\n",
    "classifier.add(Dense(400,activation = 'relu',kernel_initializer='random_normal'))\n",
    "classifier.add(Dense(4,activation = 'relu',kernel_initializer='random_normal'))\n",
    "classifier.add(Dense(1,activation = 'sigmoid',kernel_initializer='random_normal'))\n",
    "classifier.compile(optimizer = 'adam',loss= 'binary_crossentropy',metrics = ['accuracy'])\n",
    "classifier.fit(X_train,Y_train,batch_size= 20,epochs = 50,verbose = 0)\n",
    "evaluate_model = classifier.evaluate(X_train,Y_train)\n",
    "evaluate_model\n",
    "               \n",
    "               \n",
    "\n"
   ]
  },
  {
   "cell_type": "code",
   "execution_count": 19,
   "id": "2fee28a9",
   "metadata": {
    "execution": {
     "iopub.execute_input": "2022-08-21T05:31:21.310125Z",
     "iopub.status.busy": "2022-08-21T05:31:21.309173Z",
     "iopub.status.idle": "2022-08-21T05:31:21.458049Z",
     "shell.execute_reply": "2022-08-21T05:31:21.456974Z"
    },
    "papermill": {
     "duration": 0.161278,
     "end_time": "2022-08-21T05:31:21.461003",
     "exception": false,
     "start_time": "2022-08-21T05:31:21.299725",
     "status": "completed"
    },
    "tags": []
   },
   "outputs": [],
   "source": [
    "Y_pred = classifier.predict(X_test)\n",
    "Y_pred = (Y_pred >0.5)"
   ]
  },
  {
   "cell_type": "code",
   "execution_count": 20,
   "id": "c649bffb",
   "metadata": {
    "execution": {
     "iopub.execute_input": "2022-08-21T05:31:21.479963Z",
     "iopub.status.busy": "2022-08-21T05:31:21.478927Z",
     "iopub.status.idle": "2022-08-21T05:31:21.486089Z",
     "shell.execute_reply": "2022-08-21T05:31:21.485241Z"
    },
    "papermill": {
     "duration": 0.018855,
     "end_time": "2022-08-21T05:31:21.488239",
     "exception": false,
     "start_time": "2022-08-21T05:31:21.469384",
     "status": "completed"
    },
    "tags": []
   },
   "outputs": [
    {
     "data": {
      "text/plain": [
       "array([[ True],\n",
       "       [False],\n",
       "       [False],\n",
       "       [ True],\n",
       "       [ True],\n",
       "       [ True],\n",
       "       [False],\n",
       "       [ True],\n",
       "       [False],\n",
       "       [ True],\n",
       "       [ True],\n",
       "       [ True],\n",
       "       [False],\n",
       "       [ True],\n",
       "       [ True],\n",
       "       [False],\n",
       "       [ True],\n",
       "       [False],\n",
       "       [ True],\n",
       "       [ True],\n",
       "       [ True],\n",
       "       [ True],\n",
       "       [ True],\n",
       "       [ True],\n",
       "       [False],\n",
       "       [ True],\n",
       "       [False],\n",
       "       [False],\n",
       "       [ True],\n",
       "       [ True],\n",
       "       [False],\n",
       "       [False],\n",
       "       [False],\n",
       "       [ True],\n",
       "       [ True],\n",
       "       [ True],\n",
       "       [ True],\n",
       "       [False],\n",
       "       [ True],\n",
       "       [False],\n",
       "       [False],\n",
       "       [False],\n",
       "       [ True],\n",
       "       [ True],\n",
       "       [ True],\n",
       "       [False],\n",
       "       [False],\n",
       "       [ True],\n",
       "       [False],\n",
       "       [ True],\n",
       "       [ True],\n",
       "       [False],\n",
       "       [ True],\n",
       "       [False],\n",
       "       [ True],\n",
       "       [False],\n",
       "       [ True],\n",
       "       [ True],\n",
       "       [False],\n",
       "       [False],\n",
       "       [ True],\n",
       "       [False],\n",
       "       [ True],\n",
       "       [ True],\n",
       "       [ True],\n",
       "       [False],\n",
       "       [False]])"
      ]
     },
     "execution_count": 20,
     "metadata": {},
     "output_type": "execute_result"
    }
   ],
   "source": [
    "Y_pred"
   ]
  },
  {
   "cell_type": "code",
   "execution_count": 21,
   "id": "68524d34",
   "metadata": {
    "execution": {
     "iopub.execute_input": "2022-08-21T05:31:21.507643Z",
     "iopub.status.busy": "2022-08-21T05:31:21.506664Z",
     "iopub.status.idle": "2022-08-21T05:31:21.783189Z",
     "shell.execute_reply": "2022-08-21T05:31:21.782076Z"
    },
    "papermill": {
     "duration": 0.288986,
     "end_time": "2022-08-21T05:31:21.785912",
     "exception": false,
     "start_time": "2022-08-21T05:31:21.496926",
     "status": "completed"
    },
    "tags": []
   },
   "outputs": [
    {
     "data": {
      "text/plain": [
       "[Text(0, 0.5, 'No'), Text(0, 1.5, 'Yes')]"
      ]
     },
     "execution_count": 21,
     "metadata": {},
     "output_type": "execute_result"
    },
    {
     "data": {
      "image/png": "[encoded data removed]",
      "text/plain": [
       "<Figure size 432x288 with 2 Axes>"
      ]
     },
     "metadata": {
      "needs_background": "light"
     },
     "output_type": "display_data"
    }
   ],
   "source": [
    "from sklearn.metrics import confusion_matrix\n",
    "cm = confusion_matrix(Y_test,Y_pred)\n",
    "axis = plt.subplot()\n",
    "sns.heatmap(cm,annot = True,ax=axis) #annote = True is to annotate cells\n",
    "#labels, titles and ticks\n",
    "axis.set_xlabel('Predicted')\n",
    "axis.set_ylabel('Actual')\n",
    "axis.set_title('Confusion Matrix')\n",
    "axis.xaxis.set_ticklabels(['No','Yes'])\n",
    "axis.yaxis.set_ticklabels(['No','Yes'])\n",
    "\n"
   ]
  },
  {
   "cell_type": "code",
   "execution_count": null,
   "id": "5f64a0a6",
   "metadata": {
    "papermill": {
     "duration": 0.008672,
     "end_time": "2022-08-21T05:31:21.803919",
     "exception": false,
     "start_time": "2022-08-21T05:31:21.795247",
     "status": "completed"
    },
    "tags": []
   },
   "outputs": [],
   "source": []
  }
 ],
 "metadata": {
  "kernelspec": {
   "display_name": "Python 3",
   "language": "python",
   "name": "python3"
  },
  "language_info": {
   "codemirror_mode": {
    "name": "ipython",
    "version": 3
   },
   "file_extension": ".py",
   "mimetype": "text/x-python",
   "name": "python",
   "nbconvert_exporter": "python",
   "pygments_lexer": "ipython3",
   "version": "3.7.12"
  },
  "papermill": {
   "default_parameters": {},
   "duration": 28.200049,
   "end_time": "2022-08-21T05:31:24.966987",
   "environment_variables": {},
   "exception": null,
   "input_path": "__notebook__.ipynb",
   "output_path": "__notebook__.ipynb",
   "parameters": {},
   "start_time": "2022-08-21T05:30:56.766938",
   "version": "2.3.4"
  }
 },
 "nbformat": 4,
 "nbformat_minor": 5
}
