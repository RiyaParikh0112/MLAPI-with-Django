{
 "cells": [
  {
   "cell_type": "code",
   "execution_count": 1,
   "id": "314001f1",
   "metadata": {
    "_cell_guid": "b1076dfc-b9ad-4769-8c92-a6c4dae69d19",
    "_uuid": "8f2839f25d086af736a60e9eeb907d3b93b6e0e5",
    "execution": {
     "iopub.execute_input": "2022-08-21T05:09:33.704573Z",
     "iopub.status.busy": "2022-08-21T05:09:33.704069Z",
     "iopub.status.idle": "2022-08-21T05:09:42.540767Z",
     "shell.execute_reply": "2022-08-21T05:09:42.539684Z"
    },
    "papermill": {
     "duration": 8.849364,
     "end_time": "2022-08-21T05:09:42.544135",
     "exception": false,
     "start_time": "2022-08-21T05:09:33.694771",
     "status": "completed"
    },
    "tags": []
   },
   "outputs": [],
   "source": [
    "import pandas as pd\n",
    "import numpy as np\n",
    "import seaborn as sns\n",
    "import matplotlib.pyplot as plt\n",
    "from keras import Sequential\n",
    "from keras.layers import Dense\n",
    "from sklearn.model_selection import train_test_split\n",
    "from sklearn.metrics import accuracy_score,confusion_matrix\n",
    "from imblearn.over_sampling import SMOTE  # as it is an imbalanced data\n",
    "from sklearn.preprocessing import MinMaxScaler\n",
    "import warnings\n",
    "from collections import Counter #imbalanced dataset\n",
    "warnings.filterwarnings('ignore')\n",
    "\n"
   ]
  },
  {
   "cell_type": "code",
   "execution_count": 2,
   "id": "99b25171",
   "metadata": {
    "execution": {
     "iopub.execute_input": "2022-08-21T05:09:42.558229Z",
     "iopub.status.busy": "2022-08-21T05:09:42.557140Z",
     "iopub.status.idle": "2022-08-21T05:09:42.583445Z",
     "shell.execute_reply": "2022-08-21T05:09:42.582123Z"
    },
    "papermill": {
     "duration": 0.036553,
     "end_time": "2022-08-21T05:09:42.586658",
     "exception": false,
     "start_time": "2022-08-21T05:09:42.550105",
     "status": "completed"
    },
    "tags": []
   },
   "outputs": [],
   "source": [
    "df = pd.read_csv('../input/bankloan/bankloan.csv')"
   ]
  },
  {
   "cell_type": "code",
   "execution_count": 3,
   "id": "f2fd43de",
   "metadata": {
    "execution": {
     "iopub.execute_input": "2022-08-21T05:09:42.600274Z",
     "iopub.status.busy": "2022-08-21T05:09:42.599846Z",
     "iopub.status.idle": "2022-08-21T05:09:42.628861Z",
     "shell.execute_reply": "2022-08-21T05:09:42.627676Z"
    },
    "papermill": {
     "duration": 0.040165,
     "end_time": "2022-08-21T05:09:42.632720",
     "exception": false,
     "start_time": "2022-08-21T05:09:42.592555",
     "status": "completed"
    },
    "tags": []
   },
   "outputs": [
    {
     "data": {
      "text/html": [
       "<div>\n",
       "<style scoped>\n",
       "    .dataframe tbody tr th:only-of-type {\n",
       "        vertical-align: middle;\n",
       "    }\n",
       "\n",
       "    .dataframe tbody tr th {\n",
       "        vertical-align: top;\n",
       "    }\n",
       "\n",
       "    .dataframe thead th {\n",
       "        text-align: right;\n",
       "    }\n",
       "</style>\n",
       "<table border=\"1\" class=\"dataframe\">\n",
       "  <thead>\n",
       "    <tr style=\"text-align: right;\">\n",
       "      <th></th>\n",
       "      <th>Loan_ID</th>\n",
       "      <th>Gender</th>\n",
       "      <th>Married</th>\n",
       "      <th>Dependents</th>\n",
       "      <th>Education</th>\n",
       "      <th>Self_Employed</th>\n",
       "      <th>ApplicantIncome</th>\n",
       "      <th>CoapplicantIncome</th>\n",
       "      <th>LoanAmount</th>\n",
       "      <th>Loan_Amount_Term</th>\n",
       "      <th>Credit_History</th>\n",
       "      <th>Property_Area</th>\n",
       "      <th>Loan_Status</th>\n",
       "    </tr>\n",
       "  </thead>\n",
       "  <tbody>\n",
       "    <tr>\n",
       "      <th>0</th>\n",
       "      <td>LP001002</td>\n",
       "      <td>Male</td>\n",
       "      <td>No</td>\n",
       "      <td>0.0</td>\n",
       "      <td>Graduate</td>\n",
       "      <td>No</td>\n",
       "      <td>5849</td>\n",
       "      <td>0.0</td>\n",
       "      <td>NaN</td>\n",
       "      <td>360.0</td>\n",
       "      <td>1.0</td>\n",
       "      <td>Urban</td>\n",
       "      <td>Y</td>\n",
       "    </tr>\n",
       "    <tr>\n",
       "      <th>1</th>\n",
       "      <td>LP001003</td>\n",
       "      <td>Male</td>\n",
       "      <td>Yes</td>\n",
       "      <td>1.0</td>\n",
       "      <td>Graduate</td>\n",
       "      <td>No</td>\n",
       "      <td>4583</td>\n",
       "      <td>1508.0</td>\n",
       "      <td>128.0</td>\n",
       "      <td>360.0</td>\n",
       "      <td>1.0</td>\n",
       "      <td>Rural</td>\n",
       "      <td>N</td>\n",
       "    </tr>\n",
       "    <tr>\n",
       "      <th>2</th>\n",
       "      <td>LP001005</td>\n",
       "      <td>Male</td>\n",
       "      <td>Yes</td>\n",
       "      <td>0.0</td>\n",
       "      <td>Graduate</td>\n",
       "      <td>Yes</td>\n",
       "      <td>3000</td>\n",
       "      <td>0.0</td>\n",
       "      <td>66.0</td>\n",
       "      <td>360.0</td>\n",
       "      <td>1.0</td>\n",
       "      <td>Urban</td>\n",
       "      <td>Y</td>\n",
       "    </tr>\n",
       "    <tr>\n",
       "      <th>3</th>\n",
       "      <td>LP001006</td>\n",
       "      <td>Male</td>\n",
       "      <td>Yes</td>\n",
       "      <td>0.0</td>\n",
       "      <td>Not Graduate</td>\n",
       "      <td>No</td>\n",
       "      <td>2583</td>\n",
       "      <td>2358.0</td>\n",
       "      <td>120.0</td>\n",
       "      <td>360.0</td>\n",
       "      <td>1.0</td>\n",
       "      <td>Urban</td>\n",
       "      <td>Y</td>\n",
       "    </tr>\n",
       "    <tr>\n",
       "      <th>4</th>\n",
       "      <td>LP001008</td>\n",
       "      <td>Male</td>\n",
       "      <td>No</td>\n",
       "      <td>0.0</td>\n",
       "      <td>Graduate</td>\n",
       "      <td>No</td>\n",
       "      <td>6000</td>\n",
       "      <td>0.0</td>\n",
       "      <td>141.0</td>\n",
       "      <td>360.0</td>\n",
       "      <td>1.0</td>\n",
       "      <td>Urban</td>\n",
       "      <td>Y</td>\n",
       "    </tr>\n",
       "  </tbody>\n",
       "</table>\n",
       "</div>"
      ],
      "text/plain": [
       "    Loan_ID Gender Married  Dependents     Education Self_Employed  \\\n",
       "0  LP001002   Male      No         0.0      Graduate            No   \n",
       "1  LP001003   Male     Yes         1.0      Graduate            No   \n",
       "2  LP001005   Male     Yes         0.0      Graduate           Yes   \n",
       "3  LP001006   Male     Yes         0.0  Not Graduate            No   \n",
       "4  LP001008   Male      No         0.0      Graduate            No   \n",
       "\n",
       "   ApplicantIncome  CoapplicantIncome  LoanAmount  Loan_Amount_Term  \\\n",
       "0             5849                0.0         NaN             360.0   \n",
       "1             4583             1508.0       128.0             360.0   \n",
       "2             3000                0.0        66.0             360.0   \n",
       "3             2583             2358.0       120.0             360.0   \n",
       "4             6000                0.0       141.0             360.0   \n",
       "\n",
       "   Credit_History Property_Area Loan_Status  \n",
       "0             1.0         Urban           Y  \n",
       "1             1.0         Rural           N  \n",
       "2             1.0         Urban           Y  \n",
       "3             1.0         Urban           Y  \n",
       "4             1.0         Urban           Y  "
      ]
     },
     "execution_count": 3,
     "metadata": {},
     "output_type": "execute_result"
    }
   ],
   "source": [
    "df.head()"
   ]
  },
  {
   "cell_type": "code",
   "execution_count": 4,
   "id": "c8408120",
   "metadata": {
    "execution": {
     "iopub.execute_input": "2022-08-21T05:09:42.646734Z",
     "iopub.status.busy": "2022-08-21T05:09:42.646311Z",
     "iopub.status.idle": "2022-08-21T05:09:42.654112Z",
     "shell.execute_reply": "2022-08-21T05:09:42.652969Z"
    },
    "papermill": {
     "duration": 0.017773,
     "end_time": "2022-08-21T05:09:42.656660",
     "exception": false,
     "start_time": "2022-08-21T05:09:42.638887",
     "status": "completed"
    },
    "tags": []
   },
   "outputs": [
    {
     "data": {
      "text/plain": [
       "(614, 13)"
      ]
     },
     "execution_count": 4,
     "metadata": {},
     "output_type": "execute_result"
    }
   ],
   "source": [
    "df.shape"
   ]
  },
  {
   "cell_type": "code",
   "execution_count": 5,
   "id": "7acb1899",
   "metadata": {
    "execution": {
     "iopub.execute_input": "2022-08-21T05:09:42.670792Z",
     "iopub.status.busy": "2022-08-21T05:09:42.670371Z",
     "iopub.status.idle": "2022-08-21T05:09:42.684466Z",
     "shell.execute_reply": "2022-08-21T05:09:42.683193Z"
    },
    "papermill": {
     "duration": 0.024452,
     "end_time": "2022-08-21T05:09:42.687241",
     "exception": false,
     "start_time": "2022-08-21T05:09:42.662789",
     "status": "completed"
    },
    "tags": []
   },
   "outputs": [
    {
     "data": {
      "text/plain": [
       "True     7\n",
       "False    6\n",
       "dtype: int64"
      ]
     },
     "execution_count": 5,
     "metadata": {},
     "output_type": "execute_result"
    }
   ],
   "source": [
    "df.isna().any().value_counts()"
   ]
  },
  {
   "cell_type": "code",
   "execution_count": 6,
   "id": "a552477b",
   "metadata": {
    "execution": {
     "iopub.execute_input": "2022-08-21T05:09:42.701595Z",
     "iopub.status.busy": "2022-08-21T05:09:42.701126Z",
     "iopub.status.idle": "2022-08-21T05:09:42.714144Z",
     "shell.execute_reply": "2022-08-21T05:09:42.713204Z"
    },
    "papermill": {
     "duration": 0.023105,
     "end_time": "2022-08-21T05:09:42.716536",
     "exception": false,
     "start_time": "2022-08-21T05:09:42.693431",
     "status": "completed"
    },
    "tags": []
   },
   "outputs": [],
   "source": [
    "df = df.dropna()"
   ]
  },
  {
   "cell_type": "code",
   "execution_count": 7,
   "id": "214a34b8",
   "metadata": {
    "execution": {
     "iopub.execute_input": "2022-08-21T05:09:42.730815Z",
     "iopub.status.busy": "2022-08-21T05:09:42.730323Z",
     "iopub.status.idle": "2022-08-21T05:09:42.738137Z",
     "shell.execute_reply": "2022-08-21T05:09:42.736923Z"
    },
    "papermill": {
     "duration": 0.018186,
     "end_time": "2022-08-21T05:09:42.740913",
     "exception": false,
     "start_time": "2022-08-21T05:09:42.722727",
     "status": "completed"
    },
    "tags": []
   },
   "outputs": [],
   "source": [
    "df = df.drop('Loan_ID',axis = 1)"
   ]
  },
  {
   "cell_type": "code",
   "execution_count": 8,
   "id": "71efa942",
   "metadata": {
    "execution": {
     "iopub.execute_input": "2022-08-21T05:09:42.755916Z",
     "iopub.status.busy": "2022-08-21T05:09:42.755064Z",
     "iopub.status.idle": "2022-08-21T05:09:42.764522Z",
     "shell.execute_reply": "2022-08-21T05:09:42.763256Z"
    },
    "papermill": {
     "duration": 0.019945,
     "end_time": "2022-08-21T05:09:42.767411",
     "exception": false,
     "start_time": "2022-08-21T05:09:42.747466",
     "status": "completed"
    },
    "tags": []
   },
   "outputs": [],
   "source": [
    "df['LoanAmount'] = (df['LoanAmount']*1000).astype(int)"
   ]
  },
  {
   "cell_type": "code",
   "execution_count": 9,
   "id": "d55a5ffd",
   "metadata": {
    "execution": {
     "iopub.execute_input": "2022-08-21T05:09:42.783228Z",
     "iopub.status.busy": "2022-08-21T05:09:42.781983Z",
     "iopub.status.idle": "2022-08-21T05:09:42.804505Z",
     "shell.execute_reply": "2022-08-21T05:09:42.803131Z"
    },
    "papermill": {
     "duration": 0.033151,
     "end_time": "2022-08-21T05:09:42.807086",
     "exception": false,
     "start_time": "2022-08-21T05:09:42.773935",
     "status": "completed"
    },
    "tags": []
   },
   "outputs": [
    {
     "data": {
      "text/html": [
       "<div>\n",
       "<style scoped>\n",
       "    .dataframe tbody tr th:only-of-type {\n",
       "        vertical-align: middle;\n",
       "    }\n",
       "\n",
       "    .dataframe tbody tr th {\n",
       "        vertical-align: top;\n",
       "    }\n",
       "\n",
       "    .dataframe thead th {\n",
       "        text-align: right;\n",
       "    }\n",
       "</style>\n",
       "<table border=\"1\" class=\"dataframe\">\n",
       "  <thead>\n",
       "    <tr style=\"text-align: right;\">\n",
       "      <th></th>\n",
       "      <th>Gender</th>\n",
       "      <th>Married</th>\n",
       "      <th>Dependents</th>\n",
       "      <th>Education</th>\n",
       "      <th>Self_Employed</th>\n",
       "      <th>ApplicantIncome</th>\n",
       "      <th>CoapplicantIncome</th>\n",
       "      <th>LoanAmount</th>\n",
       "      <th>Loan_Amount_Term</th>\n",
       "      <th>Credit_History</th>\n",
       "      <th>Property_Area</th>\n",
       "      <th>Loan_Status</th>\n",
       "    </tr>\n",
       "  </thead>\n",
       "  <tbody>\n",
       "    <tr>\n",
       "      <th>1</th>\n",
       "      <td>Male</td>\n",
       "      <td>Yes</td>\n",
       "      <td>1.0</td>\n",
       "      <td>Graduate</td>\n",
       "      <td>No</td>\n",
       "      <td>4583</td>\n",
       "      <td>1508.0</td>\n",
       "      <td>128000</td>\n",
       "      <td>360.0</td>\n",
       "      <td>1.0</td>\n",
       "      <td>Rural</td>\n",
       "      <td>N</td>\n",
       "    </tr>\n",
       "    <tr>\n",
       "      <th>2</th>\n",
       "      <td>Male</td>\n",
       "      <td>Yes</td>\n",
       "      <td>0.0</td>\n",
       "      <td>Graduate</td>\n",
       "      <td>Yes</td>\n",
       "      <td>3000</td>\n",
       "      <td>0.0</td>\n",
       "      <td>66000</td>\n",
       "      <td>360.0</td>\n",
       "      <td>1.0</td>\n",
       "      <td>Urban</td>\n",
       "      <td>Y</td>\n",
       "    </tr>\n",
       "    <tr>\n",
       "      <th>3</th>\n",
       "      <td>Male</td>\n",
       "      <td>Yes</td>\n",
       "      <td>0.0</td>\n",
       "      <td>Not Graduate</td>\n",
       "      <td>No</td>\n",
       "      <td>2583</td>\n",
       "      <td>2358.0</td>\n",
       "      <td>120000</td>\n",
       "      <td>360.0</td>\n",
       "      <td>1.0</td>\n",
       "      <td>Urban</td>\n",
       "      <td>Y</td>\n",
       "    </tr>\n",
       "    <tr>\n",
       "      <th>4</th>\n",
       "      <td>Male</td>\n",
       "      <td>No</td>\n",
       "      <td>0.0</td>\n",
       "      <td>Graduate</td>\n",
       "      <td>No</td>\n",
       "      <td>6000</td>\n",
       "      <td>0.0</td>\n",
       "      <td>141000</td>\n",
       "      <td>360.0</td>\n",
       "      <td>1.0</td>\n",
       "      <td>Urban</td>\n",
       "      <td>Y</td>\n",
       "    </tr>\n",
       "    <tr>\n",
       "      <th>5</th>\n",
       "      <td>Male</td>\n",
       "      <td>Yes</td>\n",
       "      <td>2.0</td>\n",
       "      <td>Graduate</td>\n",
       "      <td>Yes</td>\n",
       "      <td>5417</td>\n",
       "      <td>4196.0</td>\n",
       "      <td>267000</td>\n",
       "      <td>360.0</td>\n",
       "      <td>1.0</td>\n",
       "      <td>Urban</td>\n",
       "      <td>Y</td>\n",
       "    </tr>\n",
       "  </tbody>\n",
       "</table>\n",
       "</div>"
      ],
      "text/plain": [
       "  Gender Married  Dependents     Education Self_Employed  ApplicantIncome  \\\n",
       "1   Male     Yes         1.0      Graduate            No             4583   \n",
       "2   Male     Yes         0.0      Graduate           Yes             3000   \n",
       "3   Male     Yes         0.0  Not Graduate            No             2583   \n",
       "4   Male      No         0.0      Graduate            No             6000   \n",
       "5   Male     Yes         2.0      Graduate           Yes             5417   \n",
       "\n",
       "   CoapplicantIncome  LoanAmount  Loan_Amount_Term  Credit_History  \\\n",
       "1             1508.0      128000             360.0             1.0   \n",
       "2                0.0       66000             360.0             1.0   \n",
       "3             2358.0      120000             360.0             1.0   \n",
       "4                0.0      141000             360.0             1.0   \n",
       "5             4196.0      267000             360.0             1.0   \n",
       "\n",
       "  Property_Area Loan_Status  \n",
       "1         Rural           N  \n",
       "2         Urban           Y  \n",
       "3         Urban           Y  \n",
       "4         Urban           Y  \n",
       "5         Urban           Y  "
      ]
     },
     "execution_count": 9,
     "metadata": {},
     "output_type": "execute_result"
    }
   ],
   "source": [
    "df.head()"
   ]
  },
  {
   "cell_type": "code",
   "execution_count": 10,
   "id": "ab0edbf0",
   "metadata": {
    "execution": {
     "iopub.execute_input": "2022-08-21T05:09:42.822012Z",
     "iopub.status.busy": "2022-08-21T05:09:42.820999Z",
     "iopub.status.idle": "2022-08-21T05:09:42.829469Z",
     "shell.execute_reply": "2022-08-21T05:09:42.828249Z"
    },
    "papermill": {
     "duration": 0.018876,
     "end_time": "2022-08-21T05:09:42.832453",
     "exception": false,
     "start_time": "2022-08-21T05:09:42.813577",
     "status": "completed"
    },
    "tags": []
   },
   "outputs": [
    {
     "data": {
      "text/plain": [
       "Counter({'N': 148, 'Y': 332})"
      ]
     },
     "execution_count": 10,
     "metadata": {},
     "output_type": "execute_result"
    }
   ],
   "source": [
    "Counter(df['Loan_Status'])"
   ]
  },
  {
   "cell_type": "code",
   "execution_count": 11,
   "id": "d5b9a37b",
   "metadata": {
    "execution": {
     "iopub.execute_input": "2022-08-21T05:09:42.847428Z",
     "iopub.status.busy": "2022-08-21T05:09:42.847012Z",
     "iopub.status.idle": "2022-08-21T05:09:42.854666Z",
     "shell.execute_reply": "2022-08-21T05:09:42.853329Z"
    },
    "papermill": {
     "duration": 0.018278,
     "end_time": "2022-08-21T05:09:42.857253",
     "exception": false,
     "start_time": "2022-08-21T05:09:42.838975",
     "status": "completed"
    },
    "tags": []
   },
   "outputs": [
    {
     "data": {
      "text/plain": [
       "0.6916666666666667"
      ]
     },
     "execution_count": 11,
     "metadata": {},
     "output_type": "execute_result"
    }
   ],
   "source": [
    "Counter(df['Loan_Status'])['Y']/df['Loan_Status'].size"
   ]
  },
  {
   "cell_type": "markdown",
   "id": "56063a43",
   "metadata": {
    "papermill": {
     "duration": 0.006122,
     "end_time": "2022-08-21T05:09:42.869742",
     "exception": false,
     "start_time": "2022-08-21T05:09:42.863620",
     "status": "completed"
    },
    "tags": []
   },
   "source": [
    "This is an imbalanced data and we need to balance it"
   ]
  },
  {
   "cell_type": "markdown",
   "id": "8a382942",
   "metadata": {
    "papermill": {
     "duration": 0.006007,
     "end_time": "2022-08-21T05:09:42.882213",
     "exception": false,
     "start_time": "2022-08-21T05:09:42.876206",
     "status": "completed"
    },
    "tags": []
   },
   "source": [
    "### Importing Data"
   ]
  },
  {
   "cell_type": "code",
   "execution_count": 12,
   "id": "c66b408b",
   "metadata": {
    "execution": {
     "iopub.execute_input": "2022-08-21T05:09:42.897915Z",
     "iopub.status.busy": "2022-08-21T05:09:42.897482Z",
     "iopub.status.idle": "2022-08-21T05:09:42.918278Z",
     "shell.execute_reply": "2022-08-21T05:09:42.916451Z"
    },
    "papermill": {
     "duration": 0.032134,
     "end_time": "2022-08-21T05:09:42.921595",
     "exception": false,
     "start_time": "2022-08-21T05:09:42.889461",
     "status": "completed"
    },
    "tags": []
   },
   "outputs": [],
   "source": [
    "pre_Y= df['Loan_Status']\n",
    "pre_X = df.drop('Loan_Status',axis = 1)\n",
    "X = pd.get_dummies(pre_X)\n",
    "Y = pre_Y.map(dict(Y = 1, N = 0))"
   ]
  },
  {
   "cell_type": "code",
   "execution_count": 13,
   "id": "dda82697",
   "metadata": {
    "execution": {
     "iopub.execute_input": "2022-08-21T05:09:42.938330Z",
     "iopub.status.busy": "2022-08-21T05:09:42.937414Z",
     "iopub.status.idle": "2022-08-21T05:09:42.956787Z",
     "shell.execute_reply": "2022-08-21T05:09:42.955931Z"
    },
    "papermill": {
     "duration": 0.030168,
     "end_time": "2022-08-21T05:09:42.959000",
     "exception": false,
     "start_time": "2022-08-21T05:09:42.928832",
     "status": "completed"
    },
    "tags": []
   },
   "outputs": [
    {
     "data": {
      "text/html": [
       "<div>\n",
       "<style scoped>\n",
       "    .dataframe tbody tr th:only-of-type {\n",
       "        vertical-align: middle;\n",
       "    }\n",
       "\n",
       "    .dataframe tbody tr th {\n",
       "        vertical-align: top;\n",
       "    }\n",
       "\n",
       "    .dataframe thead th {\n",
       "        text-align: right;\n",
       "    }\n",
       "</style>\n",
       "<table border=\"1\" class=\"dataframe\">\n",
       "  <thead>\n",
       "    <tr style=\"text-align: right;\">\n",
       "      <th></th>\n",
       "      <th>Gender</th>\n",
       "      <th>Married</th>\n",
       "      <th>Dependents</th>\n",
       "      <th>Education</th>\n",
       "      <th>Self_Employed</th>\n",
       "      <th>ApplicantIncome</th>\n",
       "      <th>CoapplicantIncome</th>\n",
       "      <th>LoanAmount</th>\n",
       "      <th>Loan_Amount_Term</th>\n",
       "      <th>Credit_History</th>\n",
       "      <th>Property_Area</th>\n",
       "    </tr>\n",
       "  </thead>\n",
       "  <tbody>\n",
       "    <tr>\n",
       "      <th>1</th>\n",
       "      <td>Male</td>\n",
       "      <td>Yes</td>\n",
       "      <td>1.0</td>\n",
       "      <td>Graduate</td>\n",
       "      <td>No</td>\n",
       "      <td>4583</td>\n",
       "      <td>1508.0</td>\n",
       "      <td>128000</td>\n",
       "      <td>360.0</td>\n",
       "      <td>1.0</td>\n",
       "      <td>Rural</td>\n",
       "    </tr>\n",
       "    <tr>\n",
       "      <th>2</th>\n",
       "      <td>Male</td>\n",
       "      <td>Yes</td>\n",
       "      <td>0.0</td>\n",
       "      <td>Graduate</td>\n",
       "      <td>Yes</td>\n",
       "      <td>3000</td>\n",
       "      <td>0.0</td>\n",
       "      <td>66000</td>\n",
       "      <td>360.0</td>\n",
       "      <td>1.0</td>\n",
       "      <td>Urban</td>\n",
       "    </tr>\n",
       "    <tr>\n",
       "      <th>3</th>\n",
       "      <td>Male</td>\n",
       "      <td>Yes</td>\n",
       "      <td>0.0</td>\n",
       "      <td>Not Graduate</td>\n",
       "      <td>No</td>\n",
       "      <td>2583</td>\n",
       "      <td>2358.0</td>\n",
       "      <td>120000</td>\n",
       "      <td>360.0</td>\n",
       "      <td>1.0</td>\n",
       "      <td>Urban</td>\n",
       "    </tr>\n",
       "    <tr>\n",
       "      <th>4</th>\n",
       "      <td>Male</td>\n",
       "      <td>No</td>\n",
       "      <td>0.0</td>\n",
       "      <td>Graduate</td>\n",
       "      <td>No</td>\n",
       "      <td>6000</td>\n",
       "      <td>0.0</td>\n",
       "      <td>141000</td>\n",
       "      <td>360.0</td>\n",
       "      <td>1.0</td>\n",
       "      <td>Urban</td>\n",
       "    </tr>\n",
       "    <tr>\n",
       "      <th>5</th>\n",
       "      <td>Male</td>\n",
       "      <td>Yes</td>\n",
       "      <td>2.0</td>\n",
       "      <td>Graduate</td>\n",
       "      <td>Yes</td>\n",
       "      <td>5417</td>\n",
       "      <td>4196.0</td>\n",
       "      <td>267000</td>\n",
       "      <td>360.0</td>\n",
       "      <td>1.0</td>\n",
       "      <td>Urban</td>\n",
       "    </tr>\n",
       "  </tbody>\n",
       "</table>\n",
       "</div>"
      ],
      "text/plain": [
       "  Gender Married  Dependents     Education Self_Employed  ApplicantIncome  \\\n",
       "1   Male     Yes         1.0      Graduate            No             4583   \n",
       "2   Male     Yes         0.0      Graduate           Yes             3000   \n",
       "3   Male     Yes         0.0  Not Graduate            No             2583   \n",
       "4   Male      No         0.0      Graduate            No             6000   \n",
       "5   Male     Yes         2.0      Graduate           Yes             5417   \n",
       "\n",
       "   CoapplicantIncome  LoanAmount  Loan_Amount_Term  Credit_History  \\\n",
       "1             1508.0      128000             360.0             1.0   \n",
       "2                0.0       66000             360.0             1.0   \n",
       "3             2358.0      120000             360.0             1.0   \n",
       "4                0.0      141000             360.0             1.0   \n",
       "5             4196.0      267000             360.0             1.0   \n",
       "\n",
       "  Property_Area  \n",
       "1         Rural  \n",
       "2         Urban  \n",
       "3         Urban  \n",
       "4         Urban  \n",
       "5         Urban  "
      ]
     },
     "execution_count": 13,
     "metadata": {},
     "output_type": "execute_result"
    }
   ],
   "source": [
    "pre_X.head()"
   ]
  },
  {
   "cell_type": "code",
   "execution_count": 14,
   "id": "0984b63b",
   "metadata": {
    "execution": {
     "iopub.execute_input": "2022-08-21T05:09:42.974598Z",
     "iopub.status.busy": "2022-08-21T05:09:42.974101Z",
     "iopub.status.idle": "2022-08-21T05:09:42.996064Z",
     "shell.execute_reply": "2022-08-21T05:09:42.994857Z"
    },
    "papermill": {
     "duration": 0.032981,
     "end_time": "2022-08-21T05:09:42.998773",
     "exception": false,
     "start_time": "2022-08-21T05:09:42.965792",
     "status": "completed"
    },
    "tags": []
   },
   "outputs": [
    {
     "data": {
      "text/html": [
       "<div>\n",
       "<style scoped>\n",
       "    .dataframe tbody tr th:only-of-type {\n",
       "        vertical-align: middle;\n",
       "    }\n",
       "\n",
       "    .dataframe tbody tr th {\n",
       "        vertical-align: top;\n",
       "    }\n",
       "\n",
       "    .dataframe thead th {\n",
       "        text-align: right;\n",
       "    }\n",
       "</style>\n",
       "<table border=\"1\" class=\"dataframe\">\n",
       "  <thead>\n",
       "    <tr style=\"text-align: right;\">\n",
       "      <th></th>\n",
       "      <th>Dependents</th>\n",
       "      <th>ApplicantIncome</th>\n",
       "      <th>CoapplicantIncome</th>\n",
       "      <th>LoanAmount</th>\n",
       "      <th>Loan_Amount_Term</th>\n",
       "      <th>Credit_History</th>\n",
       "      <th>Gender_Female</th>\n",
       "      <th>Gender_Male</th>\n",
       "      <th>Married_No</th>\n",
       "      <th>Married_Yes</th>\n",
       "      <th>Education_Graduate</th>\n",
       "      <th>Education_Not Graduate</th>\n",
       "      <th>Self_Employed_No</th>\n",
       "      <th>Self_Employed_Yes</th>\n",
       "      <th>Property_Area_Rural</th>\n",
       "      <th>Property_Area_Semiurban</th>\n",
       "      <th>Property_Area_Urban</th>\n",
       "    </tr>\n",
       "  </thead>\n",
       "  <tbody>\n",
       "    <tr>\n",
       "      <th>1</th>\n",
       "      <td>1.0</td>\n",
       "      <td>4583</td>\n",
       "      <td>1508.0</td>\n",
       "      <td>128000</td>\n",
       "      <td>360.0</td>\n",
       "      <td>1.0</td>\n",
       "      <td>0</td>\n",
       "      <td>1</td>\n",
       "      <td>0</td>\n",
       "      <td>1</td>\n",
       "      <td>1</td>\n",
       "      <td>0</td>\n",
       "      <td>1</td>\n",
       "      <td>0</td>\n",
       "      <td>1</td>\n",
       "      <td>0</td>\n",
       "      <td>0</td>\n",
       "    </tr>\n",
       "    <tr>\n",
       "      <th>2</th>\n",
       "      <td>0.0</td>\n",
       "      <td>3000</td>\n",
       "      <td>0.0</td>\n",
       "      <td>66000</td>\n",
       "      <td>360.0</td>\n",
       "      <td>1.0</td>\n",
       "      <td>0</td>\n",
       "      <td>1</td>\n",
       "      <td>0</td>\n",
       "      <td>1</td>\n",
       "      <td>1</td>\n",
       "      <td>0</td>\n",
       "      <td>0</td>\n",
       "      <td>1</td>\n",
       "      <td>0</td>\n",
       "      <td>0</td>\n",
       "      <td>1</td>\n",
       "    </tr>\n",
       "    <tr>\n",
       "      <th>3</th>\n",
       "      <td>0.0</td>\n",
       "      <td>2583</td>\n",
       "      <td>2358.0</td>\n",
       "      <td>120000</td>\n",
       "      <td>360.0</td>\n",
       "      <td>1.0</td>\n",
       "      <td>0</td>\n",
       "      <td>1</td>\n",
       "      <td>0</td>\n",
       "      <td>1</td>\n",
       "      <td>0</td>\n",
       "      <td>1</td>\n",
       "      <td>1</td>\n",
       "      <td>0</td>\n",
       "      <td>0</td>\n",
       "      <td>0</td>\n",
       "      <td>1</td>\n",
       "    </tr>\n",
       "    <tr>\n",
       "      <th>4</th>\n",
       "      <td>0.0</td>\n",
       "      <td>6000</td>\n",
       "      <td>0.0</td>\n",
       "      <td>141000</td>\n",
       "      <td>360.0</td>\n",
       "      <td>1.0</td>\n",
       "      <td>0</td>\n",
       "      <td>1</td>\n",
       "      <td>1</td>\n",
       "      <td>0</td>\n",
       "      <td>1</td>\n",
       "      <td>0</td>\n",
       "      <td>1</td>\n",
       "      <td>0</td>\n",
       "      <td>0</td>\n",
       "      <td>0</td>\n",
       "      <td>1</td>\n",
       "    </tr>\n",
       "    <tr>\n",
       "      <th>5</th>\n",
       "      <td>2.0</td>\n",
       "      <td>5417</td>\n",
       "      <td>4196.0</td>\n",
       "      <td>267000</td>\n",
       "      <td>360.0</td>\n",
       "      <td>1.0</td>\n",
       "      <td>0</td>\n",
       "      <td>1</td>\n",
       "      <td>0</td>\n",
       "      <td>1</td>\n",
       "      <td>1</td>\n",
       "      <td>0</td>\n",
       "      <td>0</td>\n",
       "      <td>1</td>\n",
       "      <td>0</td>\n",
       "      <td>0</td>\n",
       "      <td>1</td>\n",
       "    </tr>\n",
       "  </tbody>\n",
       "</table>\n",
       "</div>"
      ],
      "text/plain": [
       "   Dependents  ApplicantIncome  CoapplicantIncome  LoanAmount  \\\n",
       "1         1.0             4583             1508.0      128000   \n",
       "2         0.0             3000                0.0       66000   \n",
       "3         0.0             2583             2358.0      120000   \n",
       "4         0.0             6000                0.0      141000   \n",
       "5         2.0             5417             4196.0      267000   \n",
       "\n",
       "   Loan_Amount_Term  Credit_History  Gender_Female  Gender_Male  Married_No  \\\n",
       "1             360.0             1.0              0            1           0   \n",
       "2             360.0             1.0              0            1           0   \n",
       "3             360.0             1.0              0            1           0   \n",
       "4             360.0             1.0              0            1           1   \n",
       "5             360.0             1.0              0            1           0   \n",
       "\n",
       "   Married_Yes  Education_Graduate  Education_Not Graduate  Self_Employed_No  \\\n",
       "1            1                   1                       0                 1   \n",
       "2            1                   1                       0                 0   \n",
       "3            1                   0                       1                 1   \n",
       "4            0                   1                       0                 1   \n",
       "5            1                   1                       0                 0   \n",
       "\n",
       "   Self_Employed_Yes  Property_Area_Rural  Property_Area_Semiurban  \\\n",
       "1                  0                    1                        0   \n",
       "2                  1                    0                        0   \n",
       "3                  0                    0                        0   \n",
       "4                  0                    0                        0   \n",
       "5                  1                    0                        0   \n",
       "\n",
       "   Property_Area_Urban  \n",
       "1                    0  \n",
       "2                    1  \n",
       "3                    1  \n",
       "4                    1  \n",
       "5                    1  "
      ]
     },
     "execution_count": 14,
     "metadata": {},
     "output_type": "execute_result"
    }
   ],
   "source": [
    "X.head()"
   ]
  },
  {
   "cell_type": "markdown",
   "id": "43c1546a",
   "metadata": {
    "papermill": {
     "duration": 0.00676,
     "end_time": "2022-08-21T05:09:43.012670",
     "exception": false,
     "start_time": "2022-08-21T05:09:43.005910",
     "status": "completed"
    },
    "tags": []
   },
   "source": [
    "# Synthetic Minority Oversampling Technique - SMOTE"
   ]
  },
  {
   "cell_type": "code",
   "execution_count": 15,
   "id": "ab8e69a3",
   "metadata": {
    "execution": {
     "iopub.execute_input": "2022-08-21T05:09:43.028749Z",
     "iopub.status.busy": "2022-08-21T05:09:43.028249Z",
     "iopub.status.idle": "2022-08-21T05:09:43.070917Z",
     "shell.execute_reply": "2022-08-21T05:09:43.069336Z"
    },
    "papermill": {
     "duration": 0.056382,
     "end_time": "2022-08-21T05:09:43.076147",
     "exception": false,
     "start_time": "2022-08-21T05:09:43.019765",
     "status": "completed"
    },
    "tags": []
   },
   "outputs": [],
   "source": [
    "smote = SMOTE(sampling_strategy = 'minority')\n",
    "X1 , y = smote.fit_resample(X,Y)\n",
    "sc = MinMaxScaler()\n",
    "X = sc.fit_transform(X1)"
   ]
  },
  {
   "cell_type": "code",
   "execution_count": 16,
   "id": "1730705c",
   "metadata": {
    "execution": {
     "iopub.execute_input": "2022-08-21T05:09:43.114408Z",
     "iopub.status.busy": "2022-08-21T05:09:43.113533Z",
     "iopub.status.idle": "2022-08-21T05:09:43.125619Z",
     "shell.execute_reply": "2022-08-21T05:09:43.124061Z"
    },
    "papermill": {
     "duration": 0.036896,
     "end_time": "2022-08-21T05:09:43.130624",
     "exception": false,
     "start_time": "2022-08-21T05:09:43.093728",
     "status": "completed"
    },
    "tags": []
   },
   "outputs": [
    {
     "data": {
      "text/plain": [
       "Counter({0: 332, 1: 332})"
      ]
     },
     "execution_count": 16,
     "metadata": {},
     "output_type": "execute_result"
    }
   ],
   "source": [
    "Counter(y)"
   ]
  },
  {
   "cell_type": "markdown",
   "id": "a7dfc1b9",
   "metadata": {
    "papermill": {
     "duration": 0.016615,
     "end_time": "2022-08-21T05:09:43.164948",
     "exception": false,
     "start_time": "2022-08-21T05:09:43.148333",
     "status": "completed"
    },
    "tags": []
   },
   "source": [
    "## Train Test Split"
   ]
  },
  {
   "cell_type": "code",
   "execution_count": null,
   "id": "c73adccb",
   "metadata": {
    "papermill": {
     "duration": 0.006925,
     "end_time": "2022-08-21T05:09:43.180414",
     "exception": false,
     "start_time": "2022-08-21T05:09:43.173489",
     "status": "completed"
    },
    "tags": []
   },
   "outputs": [],
   "source": []
  }
 ],
 "metadata": {
  "kernelspec": {
   "display_name": "Python 3",
   "language": "python",
   "name": "python3"
  },
  "language_info": {
   "codemirror_mode": {
    "name": "ipython",
    "version": 3
   },
   "file_extension": ".py",
   "mimetype": "text/x-python",
   "name": "python",
   "nbconvert_exporter": "python",
   "pygments_lexer": "ipython3",
   "version": "3.7.12"
  },
  "papermill": {
   "default_parameters": {},
   "duration": 22.243178,
   "end_time": "2022-08-21T05:09:45.904758",
   "environment_variables": {},
   "exception": null,
   "input_path": "__notebook__.ipynb",
   "output_path": "__notebook__.ipynb",
   "parameters": {},
   "start_time": "2022-08-21T05:09:23.661580",
   "version": "2.3.4"
  }
 },
 "nbformat": 4,
 "nbformat_minor": 5
}
