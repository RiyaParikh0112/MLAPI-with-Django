{
 "cells": [
  {
   "cell_type": "code",
   "execution_count": 1,
   "id": "37e68821",
   "metadata": {
    "_cell_guid": "b1076dfc-b9ad-4769-8c92-a6c4dae69d19",
    "_uuid": "8f2839f25d086af736a60e9eeb907d3b93b6e0e5",
    "execution": {
     "iopub.execute_input": "2022-08-21T05:42:23.654325Z",
     "iopub.status.busy": "2022-08-21T05:42:23.653662Z",
     "iopub.status.idle": "2022-08-21T05:42:31.036391Z",
     "shell.execute_reply": "2022-08-21T05:42:31.035479Z"
    },
    "papermill": {
     "duration": 7.396099,
     "end_time": "2022-08-21T05:42:31.039246",
     "exception": false,
     "start_time": "2022-08-21T05:42:23.643147",
     "status": "completed"
    },
    "tags": []
   },
   "outputs": [],
   "source": [
    "import pandas as pd\n",
    "import numpy as np\n",
    "import seaborn as sns\n",
    "import matplotlib.pyplot as plt\n",
    "from keras import Sequential\n",
    "from keras.layers import Dense\n",
    "from sklearn.model_selection import train_test_split\n",
    "from sklearn.metrics import accuracy_score,confusion_matrix\n",
    "from imblearn.over_sampling import SMOTE  # as it is an imbalanced data\n",
    "from sklearn.preprocessing import MinMaxScaler\n",
    "import warnings\n",
    "from collections import Counter #imbalanced dataset\n",
    "warnings.filterwarnings('ignore')\n",
    "\n"
   ]
  },
  {
   "cell_type": "code",
   "execution_count": 2,
   "id": "47d4fd65",
   "metadata": {
    "execution": {
     "iopub.execute_input": "2022-08-21T05:42:31.054802Z",
     "iopub.status.busy": "2022-08-21T05:42:31.054112Z",
     "iopub.status.idle": "2022-08-21T05:42:31.074076Z",
     "shell.execute_reply": "2022-08-21T05:42:31.073195Z"
    },
    "papermill": {
     "duration": 0.030305,
     "end_time": "2022-08-21T05:42:31.076526",
     "exception": false,
     "start_time": "2022-08-21T05:42:31.046221",
     "status": "completed"
    },
    "tags": []
   },
   "outputs": [],
   "source": [
    "df = pd.read_csv('../input/bankloan/bankloan.csv')"
   ]
  },
  {
   "cell_type": "code",
   "execution_count": 3,
   "id": "3c67ed7f",
   "metadata": {
    "execution": {
     "iopub.execute_input": "2022-08-21T05:42:31.092236Z",
     "iopub.status.busy": "2022-08-21T05:42:31.091224Z",
     "iopub.status.idle": "2022-08-21T05:42:31.118346Z",
     "shell.execute_reply": "2022-08-21T05:42:31.117234Z"
    },
    "papermill": {
     "duration": 0.037501,
     "end_time": "2022-08-21T05:42:31.120870",
     "exception": false,
     "start_time": "2022-08-21T05:42:31.083369",
     "status": "completed"
    },
    "tags": []
   },
   "outputs": [
    {
     "data": {
      "text/html": [
       "<div>\n",
       "<style scoped>\n",
       "    .dataframe tbody tr th:only-of-type {\n",
       "        vertical-align: middle;\n",
       "    }\n",
       "\n",
       "    .dataframe tbody tr th {\n",
       "        vertical-align: top;\n",
       "    }\n",
       "\n",
       "    .dataframe thead th {\n",
       "        text-align: right;\n",
       "    }\n",
       "</style>\n",
       "<table border=\"1\" class=\"dataframe\">\n",
       "  <thead>\n",
       "    <tr style=\"text-align: right;\">\n",
       "      <th></th>\n",
       "      <th>Loan_ID</th>\n",
       "      <th>Gender</th>\n",
       "      <th>Married</th>\n",
       "      <th>Dependents</th>\n",
       "      <th>Education</th>\n",
       "      <th>Self_Employed</th>\n",
       "      <th>ApplicantIncome</th>\n",
       "      <th>CoapplicantIncome</th>\n",
       "      <th>LoanAmount</th>\n",
       "      <th>Loan_Amount_Term</th>\n",
       "      <th>Credit_History</th>\n",
       "      <th>Property_Area</th>\n",
       "      <th>Loan_Status</th>\n",
       "    </tr>\n",
       "  </thead>\n",
       "  <tbody>\n",
       "    <tr>\n",
       "      <th>0</th>\n",
       "      <td>LP001002</td>\n",
       "      <td>Male</td>\n",
       "      <td>No</td>\n",
       "      <td>0.0</td>\n",
       "      <td>Graduate</td>\n",
       "      <td>No</td>\n",
       "      <td>5849</td>\n",
       "      <td>0.0</td>\n",
       "      <td>NaN</td>\n",
       "      <td>360.0</td>\n",
       "      <td>1.0</td>\n",
       "      <td>Urban</td>\n",
       "      <td>Y</td>\n",
       "    </tr>\n",
       "    <tr>\n",
       "      <th>1</th>\n",
       "      <td>LP001003</td>\n",
       "      <td>Male</td>\n",
       "      <td>Yes</td>\n",
       "      <td>1.0</td>\n",
       "      <td>Graduate</td>\n",
       "      <td>No</td>\n",
       "      <td>4583</td>\n",
       "      <td>1508.0</td>\n",
       "      <td>128.0</td>\n",
       "      <td>360.0</td>\n",
       "      <td>1.0</td>\n",
       "      <td>Rural</td>\n",
       "      <td>N</td>\n",
       "    </tr>\n",
       "    <tr>\n",
       "      <th>2</th>\n",
       "      <td>LP001005</td>\n",
       "      <td>Male</td>\n",
       "      <td>Yes</td>\n",
       "      <td>0.0</td>\n",
       "      <td>Graduate</td>\n",
       "      <td>Yes</td>\n",
       "      <td>3000</td>\n",
       "      <td>0.0</td>\n",
       "      <td>66.0</td>\n",
       "      <td>360.0</td>\n",
       "      <td>1.0</td>\n",
       "      <td>Urban</td>\n",
       "      <td>Y</td>\n",
       "    </tr>\n",
       "    <tr>\n",
       "      <th>3</th>\n",
       "      <td>LP001006</td>\n",
       "      <td>Male</td>\n",
       "      <td>Yes</td>\n",
       "      <td>0.0</td>\n",
       "      <td>Not Graduate</td>\n",
       "      <td>No</td>\n",
       "      <td>2583</td>\n",
       "      <td>2358.0</td>\n",
       "      <td>120.0</td>\n",
       "      <td>360.0</td>\n",
       "      <td>1.0</td>\n",
       "      <td>Urban</td>\n",
       "      <td>Y</td>\n",
       "    </tr>\n",
       "    <tr>\n",
       "      <th>4</th>\n",
       "      <td>LP001008</td>\n",
       "      <td>Male</td>\n",
       "      <td>No</td>\n",
       "      <td>0.0</td>\n",
       "      <td>Graduate</td>\n",
       "      <td>No</td>\n",
       "      <td>6000</td>\n",
       "      <td>0.0</td>\n",
       "      <td>141.0</td>\n",
       "      <td>360.0</td>\n",
       "      <td>1.0</td>\n",
       "      <td>Urban</td>\n",
       "      <td>Y</td>\n",
       "    </tr>\n",
       "  </tbody>\n",
       "</table>\n",
       "</div>"
      ],
      "text/plain": [
       "    Loan_ID Gender Married  Dependents     Education Self_Employed  \\\n",
       "0  LP001002   Male      No         0.0      Graduate            No   \n",
       "1  LP001003   Male     Yes         1.0      Graduate            No   \n",
       "2  LP001005   Male     Yes         0.0      Graduate           Yes   \n",
       "3  LP001006   Male     Yes         0.0  Not Graduate            No   \n",
       "4  LP001008   Male      No         0.0      Graduate            No   \n",
       "\n",
       "   ApplicantIncome  CoapplicantIncome  LoanAmount  Loan_Amount_Term  \\\n",
       "0             5849                0.0         NaN             360.0   \n",
       "1             4583             1508.0       128.0             360.0   \n",
       "2             3000                0.0        66.0             360.0   \n",
       "3             2583             2358.0       120.0             360.0   \n",
       "4             6000                0.0       141.0             360.0   \n",
       "\n",
       "   Credit_History Property_Area Loan_Status  \n",
       "0             1.0         Urban           Y  \n",
       "1             1.0         Rural           N  \n",
       "2             1.0         Urban           Y  \n",
       "3             1.0         Urban           Y  \n",
       "4             1.0         Urban           Y  "
      ]
     },
     "execution_count": 3,
     "metadata": {},
     "output_type": "execute_result"
    }
   ],
   "source": [
    "df.head()"
   ]
  },
  {
   "cell_type": "code",
   "execution_count": 4,
   "id": "6e0e4c99",
   "metadata": {
    "execution": {
     "iopub.execute_input": "2022-08-21T05:42:31.136960Z",
     "iopub.status.busy": "2022-08-21T05:42:31.136555Z",
     "iopub.status.idle": "2022-08-21T05:42:31.144089Z",
     "shell.execute_reply": "2022-08-21T05:42:31.142957Z"
    },
    "papermill": {
     "duration": 0.017964,
     "end_time": "2022-08-21T05:42:31.146447",
     "exception": false,
     "start_time": "2022-08-21T05:42:31.128483",
     "status": "completed"
    },
    "tags": []
   },
   "outputs": [
    {
     "data": {
      "text/plain": [
       "(614, 13)"
      ]
     },
     "execution_count": 4,
     "metadata": {},
     "output_type": "execute_result"
    }
   ],
   "source": [
    "df.shape"
   ]
  },
  {
   "cell_type": "code",
   "execution_count": 5,
   "id": "1f7c2d35",
   "metadata": {
    "execution": {
     "iopub.execute_input": "2022-08-21T05:42:31.162078Z",
     "iopub.status.busy": "2022-08-21T05:42:31.161691Z",
     "iopub.status.idle": "2022-08-21T05:42:31.174392Z",
     "shell.execute_reply": "2022-08-21T05:42:31.173228Z"
    },
    "papermill": {
     "duration": 0.023373,
     "end_time": "2022-08-21T05:42:31.176964",
     "exception": false,
     "start_time": "2022-08-21T05:42:31.153591",
     "status": "completed"
    },
    "tags": []
   },
   "outputs": [
    {
     "data": {
      "text/plain": [
       "True     7\n",
       "False    6\n",
       "dtype: int64"
      ]
     },
     "execution_count": 5,
     "metadata": {},
     "output_type": "execute_result"
    }
   ],
   "source": [
    "df.isna().any().value_counts()"
   ]
  },
  {
   "cell_type": "code",
   "execution_count": 6,
   "id": "018411a0",
   "metadata": {
    "execution": {
     "iopub.execute_input": "2022-08-21T05:42:31.193494Z",
     "iopub.status.busy": "2022-08-21T05:42:31.193047Z",
     "iopub.status.idle": "2022-08-21T05:42:31.205473Z",
     "shell.execute_reply": "2022-08-21T05:42:31.204163Z"
    },
    "papermill": {
     "duration": 0.023604,
     "end_time": "2022-08-21T05:42:31.207971",
     "exception": false,
     "start_time": "2022-08-21T05:42:31.184367",
     "status": "completed"
    },
    "tags": []
   },
   "outputs": [],
   "source": [
    "df = df.dropna()"
   ]
  },
  {
   "cell_type": "code",
   "execution_count": 7,
   "id": "84277806",
   "metadata": {
    "execution": {
     "iopub.execute_input": "2022-08-21T05:42:31.224379Z",
     "iopub.status.busy": "2022-08-21T05:42:31.223976Z",
     "iopub.status.idle": "2022-08-21T05:42:31.230207Z",
     "shell.execute_reply": "2022-08-21T05:42:31.229045Z"
    },
    "papermill": {
     "duration": 0.017338,
     "end_time": "2022-08-21T05:42:31.232464",
     "exception": false,
     "start_time": "2022-08-21T05:42:31.215126",
     "status": "completed"
    },
    "tags": []
   },
   "outputs": [],
   "source": [
    "df = df.drop('Loan_ID',axis = 1)"
   ]
  },
  {
   "cell_type": "code",
   "execution_count": 8,
   "id": "5beceb3b",
   "metadata": {
    "execution": {
     "iopub.execute_input": "2022-08-21T05:42:31.248940Z",
     "iopub.status.busy": "2022-08-21T05:42:31.248087Z",
     "iopub.status.idle": "2022-08-21T05:42:31.255954Z",
     "shell.execute_reply": "2022-08-21T05:42:31.255150Z"
    },
    "papermill": {
     "duration": 0.018804,
     "end_time": "2022-08-21T05:42:31.258408",
     "exception": false,
     "start_time": "2022-08-21T05:42:31.239604",
     "status": "completed"
    },
    "tags": []
   },
   "outputs": [],
   "source": [
    "df['LoanAmount'] = (df['LoanAmount']*1000).astype(int)"
   ]
  },
  {
   "cell_type": "code",
   "execution_count": 9,
   "id": "659630c5",
   "metadata": {
    "execution": {
     "iopub.execute_input": "2022-08-21T05:42:31.275107Z",
     "iopub.status.busy": "2022-08-21T05:42:31.274332Z",
     "iopub.status.idle": "2022-08-21T05:42:31.293599Z",
     "shell.execute_reply": "2022-08-21T05:42:31.292411Z"
    },
    "papermill": {
     "duration": 0.030578,
     "end_time": "2022-08-21T05:42:31.296082",
     "exception": false,
     "start_time": "2022-08-21T05:42:31.265504",
     "status": "completed"
    },
    "tags": []
   },
   "outputs": [
    {
     "data": {
      "text/html": [
       "<div>\n",
       "<style scoped>\n",
       "    .dataframe tbody tr th:only-of-type {\n",
       "        vertical-align: middle;\n",
       "    }\n",
       "\n",
       "    .dataframe tbody tr th {\n",
       "        vertical-align: top;\n",
       "    }\n",
       "\n",
       "    .dataframe thead th {\n",
       "        text-align: right;\n",
       "    }\n",
       "</style>\n",
       "<table border=\"1\" class=\"dataframe\">\n",
       "  <thead>\n",
       "    <tr style=\"text-align: right;\">\n",
       "      <th></th>\n",
       "      <th>Gender</th>\n",
       "      <th>Married</th>\n",
       "      <th>Dependents</th>\n",
       "      <th>Education</th>\n",
       "      <th>Self_Employed</th>\n",
       "      <th>ApplicantIncome</th>\n",
       "      <th>CoapplicantIncome</th>\n",
       "      <th>LoanAmount</th>\n",
       "      <th>Loan_Amount_Term</th>\n",
       "      <th>Credit_History</th>\n",
       "      <th>Property_Area</th>\n",
       "      <th>Loan_Status</th>\n",
       "    </tr>\n",
       "  </thead>\n",
       "  <tbody>\n",
       "    <tr>\n",
       "      <th>1</th>\n",
       "      <td>Male</td>\n",
       "      <td>Yes</td>\n",
       "      <td>1.0</td>\n",
       "      <td>Graduate</td>\n",
       "      <td>No</td>\n",
       "      <td>4583</td>\n",
       "      <td>1508.0</td>\n",
       "      <td>128000</td>\n",
       "      <td>360.0</td>\n",
       "      <td>1.0</td>\n",
       "      <td>Rural</td>\n",
       "      <td>N</td>\n",
       "    </tr>\n",
       "    <tr>\n",
       "      <th>2</th>\n",
       "      <td>Male</td>\n",
       "      <td>Yes</td>\n",
       "      <td>0.0</td>\n",
       "      <td>Graduate</td>\n",
       "      <td>Yes</td>\n",
       "      <td>3000</td>\n",
       "      <td>0.0</td>\n",
       "      <td>66000</td>\n",
       "      <td>360.0</td>\n",
       "      <td>1.0</td>\n",
       "      <td>Urban</td>\n",
       "      <td>Y</td>\n",
       "    </tr>\n",
       "    <tr>\n",
       "      <th>3</th>\n",
       "      <td>Male</td>\n",
       "      <td>Yes</td>\n",
       "      <td>0.0</td>\n",
       "      <td>Not Graduate</td>\n",
       "      <td>No</td>\n",
       "      <td>2583</td>\n",
       "      <td>2358.0</td>\n",
       "      <td>120000</td>\n",
       "      <td>360.0</td>\n",
       "      <td>1.0</td>\n",
       "      <td>Urban</td>\n",
       "      <td>Y</td>\n",
       "    </tr>\n",
       "    <tr>\n",
       "      <th>4</th>\n",
       "      <td>Male</td>\n",
       "      <td>No</td>\n",
       "      <td>0.0</td>\n",
       "      <td>Graduate</td>\n",
       "      <td>No</td>\n",
       "      <td>6000</td>\n",
       "      <td>0.0</td>\n",
       "      <td>141000</td>\n",
       "      <td>360.0</td>\n",
       "      <td>1.0</td>\n",
       "      <td>Urban</td>\n",
       "      <td>Y</td>\n",
       "    </tr>\n",
       "    <tr>\n",
       "      <th>5</th>\n",
       "      <td>Male</td>\n",
       "      <td>Yes</td>\n",
       "      <td>2.0</td>\n",
       "      <td>Graduate</td>\n",
       "      <td>Yes</td>\n",
       "      <td>5417</td>\n",
       "      <td>4196.0</td>\n",
       "      <td>267000</td>\n",
       "      <td>360.0</td>\n",
       "      <td>1.0</td>\n",
       "      <td>Urban</td>\n",
       "      <td>Y</td>\n",
       "    </tr>\n",
       "  </tbody>\n",
       "</table>\n",
       "</div>"
      ],
      "text/plain": [
       "  Gender Married  Dependents     Education Self_Employed  ApplicantIncome  \\\n",
       "1   Male     Yes         1.0      Graduate            No             4583   \n",
       "2   Male     Yes         0.0      Graduate           Yes             3000   \n",
       "3   Male     Yes         0.0  Not Graduate            No             2583   \n",
       "4   Male      No         0.0      Graduate            No             6000   \n",
       "5   Male     Yes         2.0      Graduate           Yes             5417   \n",
       "\n",
       "   CoapplicantIncome  LoanAmount  Loan_Amount_Term  Credit_History  \\\n",
       "1             1508.0      128000             360.0             1.0   \n",
       "2                0.0       66000             360.0             1.0   \n",
       "3             2358.0      120000             360.0             1.0   \n",
       "4                0.0      141000             360.0             1.0   \n",
       "5             4196.0      267000             360.0             1.0   \n",
       "\n",
       "  Property_Area Loan_Status  \n",
       "1         Rural           N  \n",
       "2         Urban           Y  \n",
       "3         Urban           Y  \n",
       "4         Urban           Y  \n",
       "5         Urban           Y  "
      ]
     },
     "execution_count": 9,
     "metadata": {},
     "output_type": "execute_result"
    }
   ],
   "source": [
    "df.head()"
   ]
  },
  {
   "cell_type": "code",
   "execution_count": 10,
   "id": "9f887c45",
   "metadata": {
    "execution": {
     "iopub.execute_input": "2022-08-21T05:42:31.312779Z",
     "iopub.status.busy": "2022-08-21T05:42:31.311747Z",
     "iopub.status.idle": "2022-08-21T05:42:31.319821Z",
     "shell.execute_reply": "2022-08-21T05:42:31.318909Z"
    },
    "papermill": {
     "duration": 0.018683,
     "end_time": "2022-08-21T05:42:31.322067",
     "exception": false,
     "start_time": "2022-08-21T05:42:31.303384",
     "status": "completed"
    },
    "tags": []
   },
   "outputs": [
    {
     "data": {
      "text/plain": [
       "Counter({'N': 148, 'Y': 332})"
      ]
     },
     "execution_count": 10,
     "metadata": {},
     "output_type": "execute_result"
    }
   ],
   "source": [
    "Counter(df['Loan_Status'])"
   ]
  },
  {
   "cell_type": "code",
   "execution_count": 11,
   "id": "3374c170",
   "metadata": {
    "execution": {
     "iopub.execute_input": "2022-08-21T05:42:31.339931Z",
     "iopub.status.busy": "2022-08-21T05:42:31.339103Z",
     "iopub.status.idle": "2022-08-21T05:42:31.346765Z",
     "shell.execute_reply": "2022-08-21T05:42:31.345638Z"
    },
    "papermill": {
     "duration": 0.018778,
     "end_time": "2022-08-21T05:42:31.349056",
     "exception": false,
     "start_time": "2022-08-21T05:42:31.330278",
     "status": "completed"
    },
    "tags": []
   },
   "outputs": [
    {
     "data": {
      "text/plain": [
       "0.6916666666666667"
      ]
     },
     "execution_count": 11,
     "metadata": {},
     "output_type": "execute_result"
    }
   ],
   "source": [
    "Counter(df['Loan_Status'])['Y']/df['Loan_Status'].size"
   ]
  },
  {
   "cell_type": "markdown",
   "id": "405b31f6",
   "metadata": {
    "papermill": {
     "duration": 0.007217,
     "end_time": "2022-08-21T05:42:31.363857",
     "exception": false,
     "start_time": "2022-08-21T05:42:31.356640",
     "status": "completed"
    },
    "tags": []
   },
   "source": [
    "This is an imbalanced data and we need to balance it"
   ]
  },
  {
   "cell_type": "markdown",
   "id": "e714ad4c",
   "metadata": {
    "papermill": {
     "duration": 0.007156,
     "end_time": "2022-08-21T05:42:31.378667",
     "exception": false,
     "start_time": "2022-08-21T05:42:31.371511",
     "status": "completed"
    },
    "tags": []
   },
   "source": [
    "### Importing Data"
   ]
  },
  {
   "cell_type": "code",
   "execution_count": 12,
   "id": "8980d777",
   "metadata": {
    "execution": {
     "iopub.execute_input": "2022-08-21T05:42:31.396075Z",
     "iopub.status.busy": "2022-08-21T05:42:31.395304Z",
     "iopub.status.idle": "2022-08-21T05:42:31.412718Z",
     "shell.execute_reply": "2022-08-21T05:42:31.411862Z"
    },
    "papermill": {
     "duration": 0.029109,
     "end_time": "2022-08-21T05:42:31.415321",
     "exception": false,
     "start_time": "2022-08-21T05:42:31.386212",
     "status": "completed"
    },
    "tags": []
   },
   "outputs": [],
   "source": [
    "pre_Y= df['Loan_Status']\n",
    "pre_X = df.drop('Loan_Status',axis = 1)\n",
    "X = pd.get_dummies(pre_X)\n",
    "Y = pre_Y.map(dict(Y = 1, N = 0))"
   ]
  },
  {
   "cell_type": "code",
   "execution_count": 13,
   "id": "51b7f3b5",
   "metadata": {
    "execution": {
     "iopub.execute_input": "2022-08-21T05:42:31.432757Z",
     "iopub.status.busy": "2022-08-21T05:42:31.431970Z",
     "iopub.status.idle": "2022-08-21T05:42:31.449569Z",
     "shell.execute_reply": "2022-08-21T05:42:31.448391Z"
    },
    "papermill": {
     "duration": 0.029351,
     "end_time": "2022-08-21T05:42:31.452299",
     "exception": false,
     "start_time": "2022-08-21T05:42:31.422948",
     "status": "completed"
    },
    "tags": []
   },
   "outputs": [
    {
     "data": {
      "text/html": [
       "<div>\n",
       "<style scoped>\n",
       "    .dataframe tbody tr th:only-of-type {\n",
       "        vertical-align: middle;\n",
       "    }\n",
       "\n",
       "    .dataframe tbody tr th {\n",
       "        vertical-align: top;\n",
       "    }\n",
       "\n",
       "    .dataframe thead th {\n",
       "        text-align: right;\n",
       "    }\n",
       "</style>\n",
       "<table border=\"1\" class=\"dataframe\">\n",
       "  <thead>\n",
       "    <tr style=\"text-align: right;\">\n",
       "      <th></th>\n",
       "      <th>Gender</th>\n",
       "      <th>Married</th>\n",
       "      <th>Dependents</th>\n",
       "      <th>Education</th>\n",
       "      <th>Self_Employed</th>\n",
       "      <th>ApplicantIncome</th>\n",
       "      <th>CoapplicantIncome</th>\n",
       "      <th>LoanAmount</th>\n",
       "      <th>Loan_Amount_Term</th>\n",
       "      <th>Credit_History</th>\n",
       "      <th>Property_Area</th>\n",
       "    </tr>\n",
       "  </thead>\n",
       "  <tbody>\n",
       "    <tr>\n",
       "      <th>1</th>\n",
       "      <td>Male</td>\n",
       "      <td>Yes</td>\n",
       "      <td>1.0</td>\n",
       "      <td>Graduate</td>\n",
       "      <td>No</td>\n",
       "      <td>4583</td>\n",
       "      <td>1508.0</td>\n",
       "      <td>128000</td>\n",
       "      <td>360.0</td>\n",
       "      <td>1.0</td>\n",
       "      <td>Rural</td>\n",
       "    </tr>\n",
       "    <tr>\n",
       "      <th>2</th>\n",
       "      <td>Male</td>\n",
       "      <td>Yes</td>\n",
       "      <td>0.0</td>\n",
       "      <td>Graduate</td>\n",
       "      <td>Yes</td>\n",
       "      <td>3000</td>\n",
       "      <td>0.0</td>\n",
       "      <td>66000</td>\n",
       "      <td>360.0</td>\n",
       "      <td>1.0</td>\n",
       "      <td>Urban</td>\n",
       "    </tr>\n",
       "    <tr>\n",
       "      <th>3</th>\n",
       "      <td>Male</td>\n",
       "      <td>Yes</td>\n",
       "      <td>0.0</td>\n",
       "      <td>Not Graduate</td>\n",
       "      <td>No</td>\n",
       "      <td>2583</td>\n",
       "      <td>2358.0</td>\n",
       "      <td>120000</td>\n",
       "      <td>360.0</td>\n",
       "      <td>1.0</td>\n",
       "      <td>Urban</td>\n",
       "    </tr>\n",
       "    <tr>\n",
       "      <th>4</th>\n",
       "      <td>Male</td>\n",
       "      <td>No</td>\n",
       "      <td>0.0</td>\n",
       "      <td>Graduate</td>\n",
       "      <td>No</td>\n",
       "      <td>6000</td>\n",
       "      <td>0.0</td>\n",
       "      <td>141000</td>\n",
       "      <td>360.0</td>\n",
       "      <td>1.0</td>\n",
       "      <td>Urban</td>\n",
       "    </tr>\n",
       "    <tr>\n",
       "      <th>5</th>\n",
       "      <td>Male</td>\n",
       "      <td>Yes</td>\n",
       "      <td>2.0</td>\n",
       "      <td>Graduate</td>\n",
       "      <td>Yes</td>\n",
       "      <td>5417</td>\n",
       "      <td>4196.0</td>\n",
       "      <td>267000</td>\n",
       "      <td>360.0</td>\n",
       "      <td>1.0</td>\n",
       "      <td>Urban</td>\n",
       "    </tr>\n",
       "  </tbody>\n",
       "</table>\n",
       "</div>"
      ],
      "text/plain": [
       "  Gender Married  Dependents     Education Self_Employed  ApplicantIncome  \\\n",
       "1   Male     Yes         1.0      Graduate            No             4583   \n",
       "2   Male     Yes         0.0      Graduate           Yes             3000   \n",
       "3   Male     Yes         0.0  Not Graduate            No             2583   \n",
       "4   Male      No         0.0      Graduate            No             6000   \n",
       "5   Male     Yes         2.0      Graduate           Yes             5417   \n",
       "\n",
       "   CoapplicantIncome  LoanAmount  Loan_Amount_Term  Credit_History  \\\n",
       "1             1508.0      128000             360.0             1.0   \n",
       "2                0.0       66000             360.0             1.0   \n",
       "3             2358.0      120000             360.0             1.0   \n",
       "4                0.0      141000             360.0             1.0   \n",
       "5             4196.0      267000             360.0             1.0   \n",
       "\n",
       "  Property_Area  \n",
       "1         Rural  \n",
       "2         Urban  \n",
       "3         Urban  \n",
       "4         Urban  \n",
       "5         Urban  "
      ]
     },
     "execution_count": 13,
     "metadata": {},
     "output_type": "execute_result"
    }
   ],
   "source": [
    "pre_X.head()"
   ]
  },
  {
   "cell_type": "code",
   "execution_count": 14,
   "id": "2eb984bb",
   "metadata": {
    "execution": {
     "iopub.execute_input": "2022-08-21T05:42:31.469594Z",
     "iopub.status.busy": "2022-08-21T05:42:31.469145Z",
     "iopub.status.idle": "2022-08-21T05:42:31.489310Z",
     "shell.execute_reply": "2022-08-21T05:42:31.488191Z"
    },
    "papermill": {
     "duration": 0.031822,
     "end_time": "2022-08-21T05:42:31.491858",
     "exception": false,
     "start_time": "2022-08-21T05:42:31.460036",
     "status": "completed"
    },
    "tags": []
   },
   "outputs": [
    {
     "data": {
      "text/html": [
       "<div>\n",
       "<style scoped>\n",
       "    .dataframe tbody tr th:only-of-type {\n",
       "        vertical-align: middle;\n",
       "    }\n",
       "\n",
       "    .dataframe tbody tr th {\n",
       "        vertical-align: top;\n",
       "    }\n",
       "\n",
       "    .dataframe thead th {\n",
       "        text-align: right;\n",
       "    }\n",
       "</style>\n",
       "<table border=\"1\" class=\"dataframe\">\n",
       "  <thead>\n",
       "    <tr style=\"text-align: right;\">\n",
       "      <th></th>\n",
       "      <th>Dependents</th>\n",
       "      <th>ApplicantIncome</th>\n",
       "      <th>CoapplicantIncome</th>\n",
       "      <th>LoanAmount</th>\n",
       "      <th>Loan_Amount_Term</th>\n",
       "      <th>Credit_History</th>\n",
       "      <th>Gender_Female</th>\n",
       "      <th>Gender_Male</th>\n",
       "      <th>Married_No</th>\n",
       "      <th>Married_Yes</th>\n",
       "      <th>Education_Graduate</th>\n",
       "      <th>Education_Not Graduate</th>\n",
       "      <th>Self_Employed_No</th>\n",
       "      <th>Self_Employed_Yes</th>\n",
       "      <th>Property_Area_Rural</th>\n",
       "      <th>Property_Area_Semiurban</th>\n",
       "      <th>Property_Area_Urban</th>\n",
       "    </tr>\n",
       "  </thead>\n",
       "  <tbody>\n",
       "    <tr>\n",
       "      <th>1</th>\n",
       "      <td>1.0</td>\n",
       "      <td>4583</td>\n",
       "      <td>1508.0</td>\n",
       "      <td>128000</td>\n",
       "      <td>360.0</td>\n",
       "      <td>1.0</td>\n",
       "      <td>0</td>\n",
       "      <td>1</td>\n",
       "      <td>0</td>\n",
       "      <td>1</td>\n",
       "      <td>1</td>\n",
       "      <td>0</td>\n",
       "      <td>1</td>\n",
       "      <td>0</td>\n",
       "      <td>1</td>\n",
       "      <td>0</td>\n",
       "      <td>0</td>\n",
       "    </tr>\n",
       "    <tr>\n",
       "      <th>2</th>\n",
       "      <td>0.0</td>\n",
       "      <td>3000</td>\n",
       "      <td>0.0</td>\n",
       "      <td>66000</td>\n",
       "      <td>360.0</td>\n",
       "      <td>1.0</td>\n",
       "      <td>0</td>\n",
       "      <td>1</td>\n",
       "      <td>0</td>\n",
       "      <td>1</td>\n",
       "      <td>1</td>\n",
       "      <td>0</td>\n",
       "      <td>0</td>\n",
       "      <td>1</td>\n",
       "      <td>0</td>\n",
       "      <td>0</td>\n",
       "      <td>1</td>\n",
       "    </tr>\n",
       "    <tr>\n",
       "      <th>3</th>\n",
       "      <td>0.0</td>\n",
       "      <td>2583</td>\n",
       "      <td>2358.0</td>\n",
       "      <td>120000</td>\n",
       "      <td>360.0</td>\n",
       "      <td>1.0</td>\n",
       "      <td>0</td>\n",
       "      <td>1</td>\n",
       "      <td>0</td>\n",
       "      <td>1</td>\n",
       "      <td>0</td>\n",
       "      <td>1</td>\n",
       "      <td>1</td>\n",
       "      <td>0</td>\n",
       "      <td>0</td>\n",
       "      <td>0</td>\n",
       "      <td>1</td>\n",
       "    </tr>\n",
       "    <tr>\n",
       "      <th>4</th>\n",
       "      <td>0.0</td>\n",
       "      <td>6000</td>\n",
       "      <td>0.0</td>\n",
       "      <td>141000</td>\n",
       "      <td>360.0</td>\n",
       "      <td>1.0</td>\n",
       "      <td>0</td>\n",
       "      <td>1</td>\n",
       "      <td>1</td>\n",
       "      <td>0</td>\n",
       "      <td>1</td>\n",
       "      <td>0</td>\n",
       "      <td>1</td>\n",
       "      <td>0</td>\n",
       "      <td>0</td>\n",
       "      <td>0</td>\n",
       "      <td>1</td>\n",
       "    </tr>\n",
       "    <tr>\n",
       "      <th>5</th>\n",
       "      <td>2.0</td>\n",
       "      <td>5417</td>\n",
       "      <td>4196.0</td>\n",
       "      <td>267000</td>\n",
       "      <td>360.0</td>\n",
       "      <td>1.0</td>\n",
       "      <td>0</td>\n",
       "      <td>1</td>\n",
       "      <td>0</td>\n",
       "      <td>1</td>\n",
       "      <td>1</td>\n",
       "      <td>0</td>\n",
       "      <td>0</td>\n",
       "      <td>1</td>\n",
       "      <td>0</td>\n",
       "      <td>0</td>\n",
       "      <td>1</td>\n",
       "    </tr>\n",
       "  </tbody>\n",
       "</table>\n",
       "</div>"
      ],
      "text/plain": [
       "   Dependents  ApplicantIncome  CoapplicantIncome  LoanAmount  \\\n",
       "1         1.0             4583             1508.0      128000   \n",
       "2         0.0             3000                0.0       66000   \n",
       "3         0.0             2583             2358.0      120000   \n",
       "4         0.0             6000                0.0      141000   \n",
       "5         2.0             5417             4196.0      267000   \n",
       "\n",
       "   Loan_Amount_Term  Credit_History  Gender_Female  Gender_Male  Married_No  \\\n",
       "1             360.0             1.0              0            1           0   \n",
       "2             360.0             1.0              0            1           0   \n",
       "3             360.0             1.0              0            1           0   \n",
       "4             360.0             1.0              0            1           1   \n",
       "5             360.0             1.0              0            1           0   \n",
       "\n",
       "   Married_Yes  Education_Graduate  Education_Not Graduate  Self_Employed_No  \\\n",
       "1            1                   1                       0                 1   \n",
       "2            1                   1                       0                 0   \n",
       "3            1                   0                       1                 1   \n",
       "4            0                   1                       0                 1   \n",
       "5            1                   1                       0                 0   \n",
       "\n",
       "   Self_Employed_Yes  Property_Area_Rural  Property_Area_Semiurban  \\\n",
       "1                  0                    1                        0   \n",
       "2                  1                    0                        0   \n",
       "3                  0                    0                        0   \n",
       "4                  0                    0                        0   \n",
       "5                  1                    0                        0   \n",
       "\n",
       "   Property_Area_Urban  \n",
       "1                    0  \n",
       "2                    1  \n",
       "3                    1  \n",
       "4                    1  \n",
       "5                    1  "
      ]
     },
     "execution_count": 14,
     "metadata": {},
     "output_type": "execute_result"
    }
   ],
   "source": [
    "X.head()"
   ]
  },
  {
   "cell_type": "markdown",
   "id": "3bcea29e",
   "metadata": {
    "papermill": {
     "duration": 0.007901,
     "end_time": "2022-08-21T05:42:31.508450",
     "exception": false,
     "start_time": "2022-08-21T05:42:31.500549",
     "status": "completed"
    },
    "tags": []
   },
   "source": [
    "# Synthetic Minority Oversampling Technique - SMOTE"
   ]
  },
  {
   "cell_type": "code",
   "execution_count": 15,
   "id": "6ad25668",
   "metadata": {
    "execution": {
     "iopub.execute_input": "2022-08-21T05:42:31.526368Z",
     "iopub.status.busy": "2022-08-21T05:42:31.525965Z",
     "iopub.status.idle": "2022-08-21T05:42:31.563888Z",
     "shell.execute_reply": "2022-08-21T05:42:31.562277Z"
    },
    "papermill": {
     "duration": 0.051843,
     "end_time": "2022-08-21T05:42:31.568452",
     "exception": false,
     "start_time": "2022-08-21T05:42:31.516609",
     "status": "completed"
    },
    "tags": []
   },
   "outputs": [],
   "source": [
    "smote = SMOTE(sampling_strategy = 'minority')\n",
    "X1 , y = smote.fit_resample(X,Y)\n",
    "sc = MinMaxScaler()\n",
    "X = sc.fit_transform(X1)"
   ]
  },
  {
   "cell_type": "code",
   "execution_count": 16,
   "id": "b9de4d9b",
   "metadata": {
    "execution": {
     "iopub.execute_input": "2022-08-21T05:42:31.612628Z",
     "iopub.status.busy": "2022-08-21T05:42:31.611896Z",
     "iopub.status.idle": "2022-08-21T05:42:31.622916Z",
     "shell.execute_reply": "2022-08-21T05:42:31.621449Z"
    },
    "papermill": {
     "duration": 0.037367,
     "end_time": "2022-08-21T05:42:31.627005",
     "exception": false,
     "start_time": "2022-08-21T05:42:31.589638",
     "status": "completed"
    },
    "tags": []
   },
   "outputs": [
    {
     "data": {
      "text/plain": [
       "Counter({0: 332, 1: 332})"
      ]
     },
     "execution_count": 16,
     "metadata": {},
     "output_type": "execute_result"
    }
   ],
   "source": [
    "Counter(y)"
   ]
  },
  {
   "cell_type": "markdown",
   "id": "ed214cc8",
   "metadata": {
    "papermill": {
     "duration": 0.015258,
     "end_time": "2022-08-21T05:42:31.663159",
     "exception": false,
     "start_time": "2022-08-21T05:42:31.647901",
     "status": "completed"
    },
    "tags": []
   },
   "source": [
    "## Train Test Split"
   ]
  },
  {
   "cell_type": "code",
   "execution_count": 17,
   "id": "15e2a9bd",
   "metadata": {
    "execution": {
     "iopub.execute_input": "2022-08-21T05:42:31.681091Z",
     "iopub.status.busy": "2022-08-21T05:42:31.680710Z",
     "iopub.status.idle": "2022-08-21T05:42:31.686798Z",
     "shell.execute_reply": "2022-08-21T05:42:31.685833Z"
    },
    "papermill": {
     "duration": 0.017437,
     "end_time": "2022-08-21T05:42:31.688820",
     "exception": false,
     "start_time": "2022-08-21T05:42:31.671383",
     "status": "completed"
    },
    "tags": []
   },
   "outputs": [],
   "source": [
    "X_train,X_test,Y_train,Y_test = train_test_split(X,y,test_size= 0.1,shuffle = True, random_state = 42)"
   ]
  },
  {
   "cell_type": "markdown",
   "id": "2ebbcabf",
   "metadata": {
    "papermill": {
     "duration": 0.007795,
     "end_time": "2022-08-21T05:42:31.704901",
     "exception": false,
     "start_time": "2022-08-21T05:42:31.697106",
     "status": "completed"
    },
    "tags": []
   },
   "source": [
    "### Create the Neural Network"
   ]
  },
  {
   "cell_type": "code",
   "execution_count": 18,
   "id": "712aa6da",
   "metadata": {
    "execution": {
     "iopub.execute_input": "2022-08-21T05:42:31.723147Z",
     "iopub.status.busy": "2022-08-21T05:42:31.722529Z",
     "iopub.status.idle": "2022-08-21T05:42:43.154262Z",
     "shell.execute_reply": "2022-08-21T05:42:43.153204Z"
    },
    "papermill": {
     "duration": 11.443585,
     "end_time": "2022-08-21T05:42:43.156580",
     "exception": false,
     "start_time": "2022-08-21T05:42:31.712995",
     "status": "completed"
    },
    "tags": []
   },
   "outputs": [
    {
     "name": "stderr",
     "output_type": "stream",
     "text": [
      "2022-08-21 05:42:31.761698: I tensorflow/core/common_runtime/process_util.cc:146] Creating new thread pool with default inter op setting: 2. Tune using inter_op_parallelism_threads for best performance.\n",
      "2022-08-21 05:42:31.940591: I tensorflow/compiler/mlir/mlir_graph_optimization_pass.cc:185] None of the MLIR Optimization Passes are enabled (registered 2)\n"
     ]
    },
    {
     "name": "stdout",
     "output_type": "stream",
     "text": [
      "19/19 [==============================] - 0s 2ms/step - loss: 0.1583 - accuracy: 0.9397\n"
     ]
    },
    {
     "data": {
      "text/plain": [
       "[0.15825936198234558, 0.9396985173225403]"
      ]
     },
     "execution_count": 18,
     "metadata": {},
     "output_type": "execute_result"
    }
   ],
   "source": [
    "classifier = Sequential()\n",
    "classifier.add(Dense(400,activation = 'relu',kernel_initializer='random_normal',input_dim =X_test.shape[1]))\n",
    "classifier.add(Dense(800,activation = 'relu',kernel_initializer='random_normal'))\n",
    "classifier.add(Dense(10,activation = 'relu',kernel_initializer='random_normal'))\n",
    "classifier.add(Dense(1,activation = 'sigmoid',kernel_initializer='random_normal'))\n",
    "classifier.compile(optimizer = 'adam',loss= 'binary_crossentropy',metrics = ['accuracy'])\n",
    "classifier.fit(X_train,Y_train,batch_size= 20,epochs = 100,verbose = 0)\n",
    "evaluate_model = classifier.evaluate(X_train,Y_train)\n",
    "evaluate_model\n",
    "               \n",
    "               \n",
    "\n"
   ]
  },
  {
   "cell_type": "code",
   "execution_count": 19,
   "id": "f03755fe",
   "metadata": {
    "execution": {
     "iopub.execute_input": "2022-08-21T05:42:43.175467Z",
     "iopub.status.busy": "2022-08-21T05:42:43.174796Z",
     "iopub.status.idle": "2022-08-21T05:42:43.320369Z",
     "shell.execute_reply": "2022-08-21T05:42:43.319126Z"
    },
    "papermill": {
     "duration": 0.157927,
     "end_time": "2022-08-21T05:42:43.322989",
     "exception": false,
     "start_time": "2022-08-21T05:42:43.165062",
     "status": "completed"
    },
    "tags": []
   },
   "outputs": [],
   "source": [
    "Y_pred = classifier.predict(X_test)\n",
    "Y_pred = (Y_pred >0.5)"
   ]
  },
  {
   "cell_type": "code",
   "execution_count": 20,
   "id": "fc843bd9",
   "metadata": {
    "execution": {
     "iopub.execute_input": "2022-08-21T05:42:43.342030Z",
     "iopub.status.busy": "2022-08-21T05:42:43.341127Z",
     "iopub.status.idle": "2022-08-21T05:42:43.348478Z",
     "shell.execute_reply": "2022-08-21T05:42:43.347455Z"
    },
    "papermill": {
     "duration": 0.019231,
     "end_time": "2022-08-21T05:42:43.350729",
     "exception": false,
     "start_time": "2022-08-21T05:42:43.331498",
     "status": "completed"
    },
    "tags": []
   },
   "outputs": [
    {
     "data": {
      "text/plain": [
       "array([[ True],\n",
       "       [False],\n",
       "       [False],\n",
       "       [ True],\n",
       "       [ True],\n",
       "       [ True],\n",
       "       [False],\n",
       "       [False],\n",
       "       [False],\n",
       "       [False],\n",
       "       [ True],\n",
       "       [ True],\n",
       "       [False],\n",
       "       [ True],\n",
       "       [ True],\n",
       "       [False],\n",
       "       [False],\n",
       "       [False],\n",
       "       [ True],\n",
       "       [ True],\n",
       "       [ True],\n",
       "       [ True],\n",
       "       [ True],\n",
       "       [ True],\n",
       "       [False],\n",
       "       [ True],\n",
       "       [False],\n",
       "       [False],\n",
       "       [ True],\n",
       "       [ True],\n",
       "       [False],\n",
       "       [False],\n",
       "       [False],\n",
       "       [ True],\n",
       "       [ True],\n",
       "       [False],\n",
       "       [False],\n",
       "       [False],\n",
       "       [ True],\n",
       "       [False],\n",
       "       [False],\n",
       "       [False],\n",
       "       [ True],\n",
       "       [ True],\n",
       "       [ True],\n",
       "       [False],\n",
       "       [False],\n",
       "       [ True],\n",
       "       [False],\n",
       "       [ True],\n",
       "       [ True],\n",
       "       [False],\n",
       "       [ True],\n",
       "       [False],\n",
       "       [ True],\n",
       "       [False],\n",
       "       [ True],\n",
       "       [ True],\n",
       "       [False],\n",
       "       [False],\n",
       "       [ True],\n",
       "       [False],\n",
       "       [ True],\n",
       "       [ True],\n",
       "       [ True],\n",
       "       [False],\n",
       "       [False]])"
      ]
     },
     "execution_count": 20,
     "metadata": {},
     "output_type": "execute_result"
    }
   ],
   "source": [
    "Y_pred"
   ]
  },
  {
   "cell_type": "code",
   "execution_count": 21,
   "id": "fc53b9cd",
   "metadata": {
    "execution": {
     "iopub.execute_input": "2022-08-21T05:42:43.369575Z",
     "iopub.status.busy": "2022-08-21T05:42:43.369190Z",
     "iopub.status.idle": "2022-08-21T05:42:43.616954Z",
     "shell.execute_reply": "2022-08-21T05:42:43.615826Z"
    },
    "papermill": {
     "duration": 0.260228,
     "end_time": "2022-08-21T05:42:43.619590",
     "exception": false,
     "start_time": "2022-08-21T05:42:43.359362",
     "status": "completed"
    },
    "tags": []
   },
   "outputs": [
    {
     "data": {
      "text/plain": [
       "[Text(0, 0.5, 'No'), Text(0, 1.5, 'Yes')]"
      ]
     },
     "execution_count": 21,
     "metadata": {},
     "output_type": "execute_result"
    },
    {
     "data": {
      "image/png": "[encoded data removed]",
      "text/plain": [
       "<Figure size 432x288 with 2 Axes>"
      ]
     },
     "metadata": {
      "needs_background": "light"
     },
     "output_type": "display_data"
    }
   ],
   "source": [
    "from sklearn.metrics import confusion_matrix\n",
    "cm = confusion_matrix(Y_test,Y_pred)\n",
    "axis = plt.subplot()\n",
    "sns.heatmap(cm,annot = True,ax=axis) #annote = True is to annotate cells\n",
    "#labels, titles and ticks\n",
    "axis.set_xlabel('Predicted')\n",
    "axis.set_ylabel('Actual')\n",
    "axis.set_title('Confusion Matrix')\n",
    "axis.xaxis.set_ticklabels(['No','Yes'])\n",
    "axis.yaxis.set_ticklabels(['No','Yes'])\n",
    "\n"
   ]
  },
  {
   "cell_type": "markdown",
   "id": "15586827",
   "metadata": {
    "papermill": {
     "duration": 0.008919,
     "end_time": "2022-08-21T05:42:43.637749",
     "exception": false,
     "start_time": "2022-08-21T05:42:43.628830",
     "status": "completed"
    },
    "tags": []
   },
   "source": [
    "We have created a model called classifier and it can be pickled and reused"
   ]
  },
  {
   "cell_type": "code",
   "execution_count": 22,
   "id": "7daea985",
   "metadata": {
    "execution": {
     "iopub.execute_input": "2022-08-21T05:42:43.658419Z",
     "iopub.status.busy": "2022-08-21T05:42:43.657222Z",
     "iopub.status.idle": "2022-08-21T05:42:43.665046Z",
     "shell.execute_reply": "2022-08-21T05:42:43.663975Z"
    },
    "papermill": {
     "duration": 0.020452,
     "end_time": "2022-08-21T05:42:43.667309",
     "exception": false,
     "start_time": "2022-08-21T05:42:43.646857",
     "status": "completed"
    },
    "tags": []
   },
   "outputs": [
    {
     "data": {
      "text/plain": [
       "['loan_model.pkl']"
      ]
     },
     "execution_count": 22,
     "metadata": {},
     "output_type": "execute_result"
    }
   ],
   "source": [
    "import pickle\n",
    "import joblib\n",
    "filename = 'loan_model.pkl'\n",
    "joblib.dump('classifier',filename)"
   ]
  },
  {
   "cell_type": "code",
   "execution_count": null,
   "id": "22c50ccc",
   "metadata": {
    "papermill": {
     "duration": 0.008728,
     "end_time": "2022-08-21T05:42:43.685373",
     "exception": false,
     "start_time": "2022-08-21T05:42:43.676645",
     "status": "completed"
    },
    "tags": []
   },
   "outputs": [],
   "source": []
  }
 ],
 "metadata": {
  "kernelspec": {
   "display_name": "Python 3",
   "language": "python",
   "name": "python3"
  },
  "language_info": {
   "codemirror_mode": {
    "name": "ipython",
    "version": 3
   },
   "file_extension": ".py",
   "mimetype": "text/x-python",
   "name": "python",
   "nbconvert_exporter": "python",
   "pygments_lexer": "ipython3",
   "version": "3.7.12"
  },
  "papermill": {
   "default_parameters": {},
   "duration": 32.16629,
   "end_time": "2022-08-21T05:42:46.817417",
   "environment_variables": {},
   "exception": null,
   "input_path": "__notebook__.ipynb",
   "output_path": "__notebook__.ipynb",
   "parameters": {},
   "start_time": "2022-08-21T05:42:14.651127",
   "version": "2.3.4"
  }
 },
 "nbformat": 4,
 "nbformat_minor": 5
}
