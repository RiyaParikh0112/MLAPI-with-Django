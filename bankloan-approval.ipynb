{
 "cells": [
  {
   "cell_type": "code",
   "execution_count": 1,
   "id": "803b5d86",
   "metadata": {
    "_cell_guid": "b1076dfc-b9ad-4769-8c92-a6c4dae69d19",
    "_uuid": "8f2839f25d086af736a60e9eeb907d3b93b6e0e5",
    "execution": {
     "iopub.execute_input": "2022-08-21T05:42:46.430935Z",
     "iopub.status.busy": "2022-08-21T05:42:46.430446Z",
     "iopub.status.idle": "2022-08-21T05:42:52.737648Z",
     "shell.execute_reply": "2022-08-21T05:42:52.736648Z"
    },
    "papermill": {
     "duration": 6.318408,
     "end_time": "2022-08-21T05:42:52.740473",
     "exception": false,
     "start_time": "2022-08-21T05:42:46.422065",
     "status": "completed"
    },
    "tags": []
   },
   "outputs": [],
   "source": [
    "import pandas as pd\n",
    "import numpy as np\n",
    "import seaborn as sns\n",
    "import matplotlib.pyplot as plt\n",
    "from keras import Sequential\n",
    "from keras.layers import Dense\n",
    "from sklearn.model_selection import train_test_split\n",
    "from sklearn.metrics import accuracy_score,confusion_matrix\n",
    "from imblearn.over_sampling import SMOTE  # as it is an imbalanced data\n",
    "from sklearn.preprocessing import MinMaxScaler\n",
    "import warnings\n",
    "from collections import Counter #imbalanced dataset\n",
    "warnings.filterwarnings('ignore')\n",
    "\n"
   ]
  },
  {
   "cell_type": "code",
   "execution_count": 2,
   "id": "3f6284f9",
   "metadata": {
    "execution": {
     "iopub.execute_input": "2022-08-21T05:42:52.754035Z",
     "iopub.status.busy": "2022-08-21T05:42:52.753461Z",
     "iopub.status.idle": "2022-08-21T05:42:52.774083Z",
     "shell.execute_reply": "2022-08-21T05:42:52.773208Z"
    },
    "papermill": {
     "duration": 0.029428,
     "end_time": "2022-08-21T05:42:52.776066",
     "exception": false,
     "start_time": "2022-08-21T05:42:52.746638",
     "status": "completed"
    },
    "tags": []
   },
   "outputs": [],
   "source": [
    "df = pd.read_csv('../input/bankloan/bankloan.csv')"
   ]
  },
  {
   "cell_type": "code",
   "execution_count": 3,
   "id": "e5845c62",
   "metadata": {
    "execution": {
     "iopub.execute_input": "2022-08-21T05:42:52.789350Z",
     "iopub.status.busy": "2022-08-21T05:42:52.788403Z",
     "iopub.status.idle": "2022-08-21T05:42:52.813657Z",
     "shell.execute_reply": "2022-08-21T05:42:52.812483Z"
    },
    "papermill": {
     "duration": 0.035725,
     "end_time": "2022-08-21T05:42:52.817451",
     "exception": false,
     "start_time": "2022-08-21T05:42:52.781726",
     "status": "completed"
    },
    "tags": []
   },
   "outputs": [
    {
     "data": {
      "text/html": [
       "<div>\n",
       "<style scoped>\n",
       "    .dataframe tbody tr th:only-of-type {\n",
       "        vertical-align: middle;\n",
       "    }\n",
       "\n",
       "    .dataframe tbody tr th {\n",
       "        vertical-align: top;\n",
       "    }\n",
       "\n",
       "    .dataframe thead th {\n",
       "        text-align: right;\n",
       "    }\n",
       "</style>\n",
       "<table border=\"1\" class=\"dataframe\">\n",
       "  <thead>\n",
       "    <tr style=\"text-align: right;\">\n",
       "      <th></th>\n",
       "      <th>Loan_ID</th>\n",
       "      <th>Gender</th>\n",
       "      <th>Married</th>\n",
       "      <th>Dependents</th>\n",
       "      <th>Education</th>\n",
       "      <th>Self_Employed</th>\n",
       "      <th>ApplicantIncome</th>\n",
       "      <th>CoapplicantIncome</th>\n",
       "      <th>LoanAmount</th>\n",
       "      <th>Loan_Amount_Term</th>\n",
       "      <th>Credit_History</th>\n",
       "      <th>Property_Area</th>\n",
       "      <th>Loan_Status</th>\n",
       "    </tr>\n",
       "  </thead>\n",
       "  <tbody>\n",
       "    <tr>\n",
       "      <th>0</th>\n",
       "      <td>LP001002</td>\n",
       "      <td>Male</td>\n",
       "      <td>No</td>\n",
       "      <td>0.0</td>\n",
       "      <td>Graduate</td>\n",
       "      <td>No</td>\n",
       "      <td>5849</td>\n",
       "      <td>0.0</td>\n",
       "      <td>NaN</td>\n",
       "      <td>360.0</td>\n",
       "      <td>1.0</td>\n",
       "      <td>Urban</td>\n",
       "      <td>Y</td>\n",
       "    </tr>\n",
       "    <tr>\n",
       "      <th>1</th>\n",
       "      <td>LP001003</td>\n",
       "      <td>Male</td>\n",
       "      <td>Yes</td>\n",
       "      <td>1.0</td>\n",
       "      <td>Graduate</td>\n",
       "      <td>No</td>\n",
       "      <td>4583</td>\n",
       "      <td>1508.0</td>\n",
       "      <td>128.0</td>\n",
       "      <td>360.0</td>\n",
       "      <td>1.0</td>\n",
       "      <td>Rural</td>\n",
       "      <td>N</td>\n",
       "    </tr>\n",
       "    <tr>\n",
       "      <th>2</th>\n",
       "      <td>LP001005</td>\n",
       "      <td>Male</td>\n",
       "      <td>Yes</td>\n",
       "      <td>0.0</td>\n",
       "      <td>Graduate</td>\n",
       "      <td>Yes</td>\n",
       "      <td>3000</td>\n",
       "      <td>0.0</td>\n",
       "      <td>66.0</td>\n",
       "      <td>360.0</td>\n",
       "      <td>1.0</td>\n",
       "      <td>Urban</td>\n",
       "      <td>Y</td>\n",
       "    </tr>\n",
       "    <tr>\n",
       "      <th>3</th>\n",
       "      <td>LP001006</td>\n",
       "      <td>Male</td>\n",
       "      <td>Yes</td>\n",
       "      <td>0.0</td>\n",
       "      <td>Not Graduate</td>\n",
       "      <td>No</td>\n",
       "      <td>2583</td>\n",
       "      <td>2358.0</td>\n",
       "      <td>120.0</td>\n",
       "      <td>360.0</td>\n",
       "      <td>1.0</td>\n",
       "      <td>Urban</td>\n",
       "      <td>Y</td>\n",
       "    </tr>\n",
       "    <tr>\n",
       "      <th>4</th>\n",
       "      <td>LP001008</td>\n",
       "      <td>Male</td>\n",
       "      <td>No</td>\n",
       "      <td>0.0</td>\n",
       "      <td>Graduate</td>\n",
       "      <td>No</td>\n",
       "      <td>6000</td>\n",
       "      <td>0.0</td>\n",
       "      <td>141.0</td>\n",
       "      <td>360.0</td>\n",
       "      <td>1.0</td>\n",
       "      <td>Urban</td>\n",
       "      <td>Y</td>\n",
       "    </tr>\n",
       "  </tbody>\n",
       "</table>\n",
       "</div>"
      ],
      "text/plain": [
       "    Loan_ID Gender Married  Dependents     Education Self_Employed  \\\n",
       "0  LP001002   Male      No         0.0      Graduate            No   \n",
       "1  LP001003   Male     Yes         1.0      Graduate            No   \n",
       "2  LP001005   Male     Yes         0.0      Graduate           Yes   \n",
       "3  LP001006   Male     Yes         0.0  Not Graduate            No   \n",
       "4  LP001008   Male      No         0.0      Graduate            No   \n",
       "\n",
       "   ApplicantIncome  CoapplicantIncome  LoanAmount  Loan_Amount_Term  \\\n",
       "0             5849                0.0         NaN             360.0   \n",
       "1             4583             1508.0       128.0             360.0   \n",
       "2             3000                0.0        66.0             360.0   \n",
       "3             2583             2358.0       120.0             360.0   \n",
       "4             6000                0.0       141.0             360.0   \n",
       "\n",
       "   Credit_History Property_Area Loan_Status  \n",
       "0             1.0         Urban           Y  \n",
       "1             1.0         Rural           N  \n",
       "2             1.0         Urban           Y  \n",
       "3             1.0         Urban           Y  \n",
       "4             1.0         Urban           Y  "
      ]
     },
     "execution_count": 3,
     "metadata": {},
     "output_type": "execute_result"
    }
   ],
   "source": [
    "df.head()"
   ]
  },
  {
   "cell_type": "code",
   "execution_count": 4,
   "id": "d511a9a0",
   "metadata": {
    "execution": {
     "iopub.execute_input": "2022-08-21T05:42:52.832053Z",
     "iopub.status.busy": "2022-08-21T05:42:52.831722Z",
     "iopub.status.idle": "2022-08-21T05:42:52.837934Z",
     "shell.execute_reply": "2022-08-21T05:42:52.836896Z"
    },
    "papermill": {
     "duration": 0.0163,
     "end_time": "2022-08-21T05:42:52.840447",
     "exception": false,
     "start_time": "2022-08-21T05:42:52.824147",
     "status": "completed"
    },
    "tags": []
   },
   "outputs": [
    {
     "data": {
      "text/plain": [
       "(614, 13)"
      ]
     },
     "execution_count": 4,
     "metadata": {},
     "output_type": "execute_result"
    }
   ],
   "source": [
    "df.shape"
   ]
  },
  {
   "cell_type": "code",
   "execution_count": 5,
   "id": "136cea25",
   "metadata": {
    "execution": {
     "iopub.execute_input": "2022-08-21T05:42:52.854862Z",
     "iopub.status.busy": "2022-08-21T05:42:52.854558Z",
     "iopub.status.idle": "2022-08-21T05:42:52.866166Z",
     "shell.execute_reply": "2022-08-21T05:42:52.865136Z"
    },
    "papermill": {
     "duration": 0.021215,
     "end_time": "2022-08-21T05:42:52.868333",
     "exception": false,
     "start_time": "2022-08-21T05:42:52.847118",
     "status": "completed"
    },
    "tags": []
   },
   "outputs": [
    {
     "data": {
      "text/plain": [
       "True     7\n",
       "False    6\n",
       "dtype: int64"
      ]
     },
     "execution_count": 5,
     "metadata": {},
     "output_type": "execute_result"
    }
   ],
   "source": [
    "df.isna().any().value_counts()"
   ]
  },
  {
   "cell_type": "code",
   "execution_count": 6,
   "id": "004b39f1",
   "metadata": {
    "execution": {
     "iopub.execute_input": "2022-08-21T05:42:52.882458Z",
     "iopub.status.busy": "2022-08-21T05:42:52.881722Z",
     "iopub.status.idle": "2022-08-21T05:42:52.891636Z",
     "shell.execute_reply": "2022-08-21T05:42:52.890795Z"
    },
    "papermill": {
     "duration": 0.018845,
     "end_time": "2022-08-21T05:42:52.893688",
     "exception": false,
     "start_time": "2022-08-21T05:42:52.874843",
     "status": "completed"
    },
    "tags": []
   },
   "outputs": [],
   "source": [
    "df = df.dropna()"
   ]
  },
  {
   "cell_type": "code",
   "execution_count": 7,
   "id": "60b39cdf",
   "metadata": {
    "execution": {
     "iopub.execute_input": "2022-08-21T05:42:52.907134Z",
     "iopub.status.busy": "2022-08-21T05:42:52.906428Z",
     "iopub.status.idle": "2022-08-21T05:42:52.911791Z",
     "shell.execute_reply": "2022-08-21T05:42:52.910832Z"
    },
    "papermill": {
     "duration": 0.013994,
     "end_time": "2022-08-21T05:42:52.913800",
     "exception": false,
     "start_time": "2022-08-21T05:42:52.899806",
     "status": "completed"
    },
    "tags": []
   },
   "outputs": [],
   "source": [
    "df = df.drop('Loan_ID',axis = 1)"
   ]
  },
  {
   "cell_type": "code",
   "execution_count": 8,
   "id": "bf70a22b",
   "metadata": {
    "execution": {
     "iopub.execute_input": "2022-08-21T05:42:52.927217Z",
     "iopub.status.busy": "2022-08-21T05:42:52.926960Z",
     "iopub.status.idle": "2022-08-21T05:42:52.933877Z",
     "shell.execute_reply": "2022-08-21T05:42:52.932831Z"
    },
    "papermill": {
     "duration": 0.015953,
     "end_time": "2022-08-21T05:42:52.935902",
     "exception": false,
     "start_time": "2022-08-21T05:42:52.919949",
     "status": "completed"
    },
    "tags": []
   },
   "outputs": [],
   "source": [
    "df['LoanAmount'] = (df['LoanAmount']*1000).astype(int)"
   ]
  },
  {
   "cell_type": "code",
   "execution_count": 9,
   "id": "d25cda4a",
   "metadata": {
    "execution": {
     "iopub.execute_input": "2022-08-21T05:42:52.950725Z",
     "iopub.status.busy": "2022-08-21T05:42:52.949995Z",
     "iopub.status.idle": "2022-08-21T05:42:52.968249Z",
     "shell.execute_reply": "2022-08-21T05:42:52.967172Z"
    },
    "papermill": {
     "duration": 0.027624,
     "end_time": "2022-08-21T05:42:52.970673",
     "exception": false,
     "start_time": "2022-08-21T05:42:52.943049",
     "status": "completed"
    },
    "tags": []
   },
   "outputs": [
    {
     "data": {
      "text/html": [
       "<div>\n",
       "<style scoped>\n",
       "    .dataframe tbody tr th:only-of-type {\n",
       "        vertical-align: middle;\n",
       "    }\n",
       "\n",
       "    .dataframe tbody tr th {\n",
       "        vertical-align: top;\n",
       "    }\n",
       "\n",
       "    .dataframe thead th {\n",
       "        text-align: right;\n",
       "    }\n",
       "</style>\n",
       "<table border=\"1\" class=\"dataframe\">\n",
       "  <thead>\n",
       "    <tr style=\"text-align: right;\">\n",
       "      <th></th>\n",
       "      <th>Gender</th>\n",
       "      <th>Married</th>\n",
       "      <th>Dependents</th>\n",
       "      <th>Education</th>\n",
       "      <th>Self_Employed</th>\n",
       "      <th>ApplicantIncome</th>\n",
       "      <th>CoapplicantIncome</th>\n",
       "      <th>LoanAmount</th>\n",
       "      <th>Loan_Amount_Term</th>\n",
       "      <th>Credit_History</th>\n",
       "      <th>Property_Area</th>\n",
       "      <th>Loan_Status</th>\n",
       "    </tr>\n",
       "  </thead>\n",
       "  <tbody>\n",
       "    <tr>\n",
       "      <th>1</th>\n",
       "      <td>Male</td>\n",
       "      <td>Yes</td>\n",
       "      <td>1.0</td>\n",
       "      <td>Graduate</td>\n",
       "      <td>No</td>\n",
       "      <td>4583</td>\n",
       "      <td>1508.0</td>\n",
       "      <td>128000</td>\n",
       "      <td>360.0</td>\n",
       "      <td>1.0</td>\n",
       "      <td>Rural</td>\n",
       "      <td>N</td>\n",
       "    </tr>\n",
       "    <tr>\n",
       "      <th>2</th>\n",
       "      <td>Male</td>\n",
       "      <td>Yes</td>\n",
       "      <td>0.0</td>\n",
       "      <td>Graduate</td>\n",
       "      <td>Yes</td>\n",
       "      <td>3000</td>\n",
       "      <td>0.0</td>\n",
       "      <td>66000</td>\n",
       "      <td>360.0</td>\n",
       "      <td>1.0</td>\n",
       "      <td>Urban</td>\n",
       "      <td>Y</td>\n",
       "    </tr>\n",
       "    <tr>\n",
       "      <th>3</th>\n",
       "      <td>Male</td>\n",
       "      <td>Yes</td>\n",
       "      <td>0.0</td>\n",
       "      <td>Not Graduate</td>\n",
       "      <td>No</td>\n",
       "      <td>2583</td>\n",
       "      <td>2358.0</td>\n",
       "      <td>120000</td>\n",
       "      <td>360.0</td>\n",
       "      <td>1.0</td>\n",
       "      <td>Urban</td>\n",
       "      <td>Y</td>\n",
       "    </tr>\n",
       "    <tr>\n",
       "      <th>4</th>\n",
       "      <td>Male</td>\n",
       "      <td>No</td>\n",
       "      <td>0.0</td>\n",
       "      <td>Graduate</td>\n",
       "      <td>No</td>\n",
       "      <td>6000</td>\n",
       "      <td>0.0</td>\n",
       "      <td>141000</td>\n",
       "      <td>360.0</td>\n",
       "      <td>1.0</td>\n",
       "      <td>Urban</td>\n",
       "      <td>Y</td>\n",
       "    </tr>\n",
       "    <tr>\n",
       "      <th>5</th>\n",
       "      <td>Male</td>\n",
       "      <td>Yes</td>\n",
       "      <td>2.0</td>\n",
       "      <td>Graduate</td>\n",
       "      <td>Yes</td>\n",
       "      <td>5417</td>\n",
       "      <td>4196.0</td>\n",
       "      <td>267000</td>\n",
       "      <td>360.0</td>\n",
       "      <td>1.0</td>\n",
       "      <td>Urban</td>\n",
       "      <td>Y</td>\n",
       "    </tr>\n",
       "  </tbody>\n",
       "</table>\n",
       "</div>"
      ],
      "text/plain": [
       "  Gender Married  Dependents     Education Self_Employed  ApplicantIncome  \\\n",
       "1   Male     Yes         1.0      Graduate            No             4583   \n",
       "2   Male     Yes         0.0      Graduate           Yes             3000   \n",
       "3   Male     Yes         0.0  Not Graduate            No             2583   \n",
       "4   Male      No         0.0      Graduate            No             6000   \n",
       "5   Male     Yes         2.0      Graduate           Yes             5417   \n",
       "\n",
       "   CoapplicantIncome  LoanAmount  Loan_Amount_Term  Credit_History  \\\n",
       "1             1508.0      128000             360.0             1.0   \n",
       "2                0.0       66000             360.0             1.0   \n",
       "3             2358.0      120000             360.0             1.0   \n",
       "4                0.0      141000             360.0             1.0   \n",
       "5             4196.0      267000             360.0             1.0   \n",
       "\n",
       "  Property_Area Loan_Status  \n",
       "1         Rural           N  \n",
       "2         Urban           Y  \n",
       "3         Urban           Y  \n",
       "4         Urban           Y  \n",
       "5         Urban           Y  "
      ]
     },
     "execution_count": 9,
     "metadata": {},
     "output_type": "execute_result"
    }
   ],
   "source": [
    "df.head()"
   ]
  },
  {
   "cell_type": "code",
   "execution_count": 10,
   "id": "6056dfc9",
   "metadata": {
    "execution": {
     "iopub.execute_input": "2022-08-21T05:42:52.984194Z",
     "iopub.status.busy": "2022-08-21T05:42:52.983914Z",
     "iopub.status.idle": "2022-08-21T05:42:52.990494Z",
     "shell.execute_reply": "2022-08-21T05:42:52.989475Z"
    },
    "papermill": {
     "duration": 0.015491,
     "end_time": "2022-08-21T05:42:52.992525",
     "exception": false,
     "start_time": "2022-08-21T05:42:52.977034",
     "status": "completed"
    },
    "tags": []
   },
   "outputs": [
    {
     "data": {
      "text/plain": [
       "Counter({'N': 148, 'Y': 332})"
      ]
     },
     "execution_count": 10,
     "metadata": {},
     "output_type": "execute_result"
    }
   ],
   "source": [
    "Counter(df['Loan_Status'])"
   ]
  },
  {
   "cell_type": "code",
   "execution_count": 11,
   "id": "593b57e4",
   "metadata": {
    "execution": {
     "iopub.execute_input": "2022-08-21T05:42:53.006756Z",
     "iopub.status.busy": "2022-08-21T05:42:53.006467Z",
     "iopub.status.idle": "2022-08-21T05:42:53.012553Z",
     "shell.execute_reply": "2022-08-21T05:42:53.011579Z"
    },
    "papermill": {
     "duration": 0.015687,
     "end_time": "2022-08-21T05:42:53.014613",
     "exception": false,
     "start_time": "2022-08-21T05:42:52.998926",
     "status": "completed"
    },
    "tags": []
   },
   "outputs": [
    {
     "data": {
      "text/plain": [
       "0.6916666666666667"
      ]
     },
     "execution_count": 11,
     "metadata": {},
     "output_type": "execute_result"
    }
   ],
   "source": [
    "Counter(df['Loan_Status'])['Y']/df['Loan_Status'].size"
   ]
  },
  {
   "cell_type": "markdown",
   "id": "9d4cd96d",
   "metadata": {
    "papermill": {
     "duration": 0.005802,
     "end_time": "2022-08-21T05:42:53.027015",
     "exception": false,
     "start_time": "2022-08-21T05:42:53.021213",
     "status": "completed"
    },
    "tags": []
   },
   "source": [
    "This is an imbalanced data and we need to balance it"
   ]
  },
  {
   "cell_type": "markdown",
   "id": "2df54d20",
   "metadata": {
    "papermill": {
     "duration": 0.006075,
     "end_time": "2022-08-21T05:42:53.039562",
     "exception": false,
     "start_time": "2022-08-21T05:42:53.033487",
     "status": "completed"
    },
    "tags": []
   },
   "source": [
    "### Importing Data"
   ]
  },
  {
   "cell_type": "code",
   "execution_count": 12,
   "id": "f56929f1",
   "metadata": {
    "execution": {
     "iopub.execute_input": "2022-08-21T05:42:53.053700Z",
     "iopub.status.busy": "2022-08-21T05:42:53.052858Z",
     "iopub.status.idle": "2022-08-21T05:42:53.069428Z",
     "shell.execute_reply": "2022-08-21T05:42:53.068392Z"
    },
    "papermill": {
     "duration": 0.025614,
     "end_time": "2022-08-21T05:42:53.071504",
     "exception": false,
     "start_time": "2022-08-21T05:42:53.045890",
     "status": "completed"
    },
    "tags": []
   },
   "outputs": [],
   "source": [
    "pre_Y= df['Loan_Status']\n",
    "pre_X = df.drop('Loan_Status',axis = 1)\n",
    "X = pd.get_dummies(pre_X)\n",
    "Y = pre_Y.map(dict(Y = 1, N = 0))"
   ]
  },
  {
   "cell_type": "code",
   "execution_count": 13,
   "id": "ced215d5",
   "metadata": {
    "execution": {
     "iopub.execute_input": "2022-08-21T05:42:53.086215Z",
     "iopub.status.busy": "2022-08-21T05:42:53.085420Z",
     "iopub.status.idle": "2022-08-21T05:42:53.102514Z",
     "shell.execute_reply": "2022-08-21T05:42:53.101364Z"
    },
    "papermill": {
     "duration": 0.026436,
     "end_time": "2022-08-21T05:42:53.104718",
     "exception": false,
     "start_time": "2022-08-21T05:42:53.078282",
     "status": "completed"
    },
    "tags": []
   },
   "outputs": [
    {
     "data": {
      "text/html": [
       "<div>\n",
       "<style scoped>\n",
       "    .dataframe tbody tr th:only-of-type {\n",
       "        vertical-align: middle;\n",
       "    }\n",
       "\n",
       "    .dataframe tbody tr th {\n",
       "        vertical-align: top;\n",
       "    }\n",
       "\n",
       "    .dataframe thead th {\n",
       "        text-align: right;\n",
       "    }\n",
       "</style>\n",
       "<table border=\"1\" class=\"dataframe\">\n",
       "  <thead>\n",
       "    <tr style=\"text-align: right;\">\n",
       "      <th></th>\n",
       "      <th>Gender</th>\n",
       "      <th>Married</th>\n",
       "      <th>Dependents</th>\n",
       "      <th>Education</th>\n",
       "      <th>Self_Employed</th>\n",
       "      <th>ApplicantIncome</th>\n",
       "      <th>CoapplicantIncome</th>\n",
       "      <th>LoanAmount</th>\n",
       "      <th>Loan_Amount_Term</th>\n",
       "      <th>Credit_History</th>\n",
       "      <th>Property_Area</th>\n",
       "    </tr>\n",
       "  </thead>\n",
       "  <tbody>\n",
       "    <tr>\n",
       "      <th>1</th>\n",
       "      <td>Male</td>\n",
       "      <td>Yes</td>\n",
       "      <td>1.0</td>\n",
       "      <td>Graduate</td>\n",
       "      <td>No</td>\n",
       "      <td>4583</td>\n",
       "      <td>1508.0</td>\n",
       "      <td>128000</td>\n",
       "      <td>360.0</td>\n",
       "      <td>1.0</td>\n",
       "      <td>Rural</td>\n",
       "    </tr>\n",
       "    <tr>\n",
       "      <th>2</th>\n",
       "      <td>Male</td>\n",
       "      <td>Yes</td>\n",
       "      <td>0.0</td>\n",
       "      <td>Graduate</td>\n",
       "      <td>Yes</td>\n",
       "      <td>3000</td>\n",
       "      <td>0.0</td>\n",
       "      <td>66000</td>\n",
       "      <td>360.0</td>\n",
       "      <td>1.0</td>\n",
       "      <td>Urban</td>\n",
       "    </tr>\n",
       "    <tr>\n",
       "      <th>3</th>\n",
       "      <td>Male</td>\n",
       "      <td>Yes</td>\n",
       "      <td>0.0</td>\n",
       "      <td>Not Graduate</td>\n",
       "      <td>No</td>\n",
       "      <td>2583</td>\n",
       "      <td>2358.0</td>\n",
       "      <td>120000</td>\n",
       "      <td>360.0</td>\n",
       "      <td>1.0</td>\n",
       "      <td>Urban</td>\n",
       "    </tr>\n",
       "    <tr>\n",
       "      <th>4</th>\n",
       "      <td>Male</td>\n",
       "      <td>No</td>\n",
       "      <td>0.0</td>\n",
       "      <td>Graduate</td>\n",
       "      <td>No</td>\n",
       "      <td>6000</td>\n",
       "      <td>0.0</td>\n",
       "      <td>141000</td>\n",
       "      <td>360.0</td>\n",
       "      <td>1.0</td>\n",
       "      <td>Urban</td>\n",
       "    </tr>\n",
       "    <tr>\n",
       "      <th>5</th>\n",
       "      <td>Male</td>\n",
       "      <td>Yes</td>\n",
       "      <td>2.0</td>\n",
       "      <td>Graduate</td>\n",
       "      <td>Yes</td>\n",
       "      <td>5417</td>\n",
       "      <td>4196.0</td>\n",
       "      <td>267000</td>\n",
       "      <td>360.0</td>\n",
       "      <td>1.0</td>\n",
       "      <td>Urban</td>\n",
       "    </tr>\n",
       "  </tbody>\n",
       "</table>\n",
       "</div>"
      ],
      "text/plain": [
       "  Gender Married  Dependents     Education Self_Employed  ApplicantIncome  \\\n",
       "1   Male     Yes         1.0      Graduate            No             4583   \n",
       "2   Male     Yes         0.0      Graduate           Yes             3000   \n",
       "3   Male     Yes         0.0  Not Graduate            No             2583   \n",
       "4   Male      No         0.0      Graduate            No             6000   \n",
       "5   Male     Yes         2.0      Graduate           Yes             5417   \n",
       "\n",
       "   CoapplicantIncome  LoanAmount  Loan_Amount_Term  Credit_History  \\\n",
       "1             1508.0      128000             360.0             1.0   \n",
       "2                0.0       66000             360.0             1.0   \n",
       "3             2358.0      120000             360.0             1.0   \n",
       "4                0.0      141000             360.0             1.0   \n",
       "5             4196.0      267000             360.0             1.0   \n",
       "\n",
       "  Property_Area  \n",
       "1         Rural  \n",
       "2         Urban  \n",
       "3         Urban  \n",
       "4         Urban  \n",
       "5         Urban  "
      ]
     },
     "execution_count": 13,
     "metadata": {},
     "output_type": "execute_result"
    }
   ],
   "source": [
    "pre_X.head()"
   ]
  },
  {
   "cell_type": "code",
   "execution_count": 14,
   "id": "5fc67a50",
   "metadata": {
    "execution": {
     "iopub.execute_input": "2022-08-21T05:42:53.119764Z",
     "iopub.status.busy": "2022-08-21T05:42:53.118951Z",
     "iopub.status.idle": "2022-08-21T05:42:53.135695Z",
     "shell.execute_reply": "2022-08-21T05:42:53.134638Z"
    },
    "papermill": {
     "duration": 0.026581,
     "end_time": "2022-08-21T05:42:53.138209",
     "exception": false,
     "start_time": "2022-08-21T05:42:53.111628",
     "status": "completed"
    },
    "tags": []
   },
   "outputs": [
    {
     "data": {
      "text/html": [
       "<div>\n",
       "<style scoped>\n",
       "    .dataframe tbody tr th:only-of-type {\n",
       "        vertical-align: middle;\n",
       "    }\n",
       "\n",
       "    .dataframe tbody tr th {\n",
       "        vertical-align: top;\n",
       "    }\n",
       "\n",
       "    .dataframe thead th {\n",
       "        text-align: right;\n",
       "    }\n",
       "</style>\n",
       "<table border=\"1\" class=\"dataframe\">\n",
       "  <thead>\n",
       "    <tr style=\"text-align: right;\">\n",
       "      <th></th>\n",
       "      <th>Dependents</th>\n",
       "      <th>ApplicantIncome</th>\n",
       "      <th>CoapplicantIncome</th>\n",
       "      <th>LoanAmount</th>\n",
       "      <th>Loan_Amount_Term</th>\n",
       "      <th>Credit_History</th>\n",
       "      <th>Gender_Female</th>\n",
       "      <th>Gender_Male</th>\n",
       "      <th>Married_No</th>\n",
       "      <th>Married_Yes</th>\n",
       "      <th>Education_Graduate</th>\n",
       "      <th>Education_Not Graduate</th>\n",
       "      <th>Self_Employed_No</th>\n",
       "      <th>Self_Employed_Yes</th>\n",
       "      <th>Property_Area_Rural</th>\n",
       "      <th>Property_Area_Semiurban</th>\n",
       "      <th>Property_Area_Urban</th>\n",
       "    </tr>\n",
       "  </thead>\n",
       "  <tbody>\n",
       "    <tr>\n",
       "      <th>1</th>\n",
       "      <td>1.0</td>\n",
       "      <td>4583</td>\n",
       "      <td>1508.0</td>\n",
       "      <td>128000</td>\n",
       "      <td>360.0</td>\n",
       "      <td>1.0</td>\n",
       "      <td>0</td>\n",
       "      <td>1</td>\n",
       "      <td>0</td>\n",
       "      <td>1</td>\n",
       "      <td>1</td>\n",
       "      <td>0</td>\n",
       "      <td>1</td>\n",
       "      <td>0</td>\n",
       "      <td>1</td>\n",
       "      <td>0</td>\n",
       "      <td>0</td>\n",
       "    </tr>\n",
       "    <tr>\n",
       "      <th>2</th>\n",
       "      <td>0.0</td>\n",
       "      <td>3000</td>\n",
       "      <td>0.0</td>\n",
       "      <td>66000</td>\n",
       "      <td>360.0</td>\n",
       "      <td>1.0</td>\n",
       "      <td>0</td>\n",
       "      <td>1</td>\n",
       "      <td>0</td>\n",
       "      <td>1</td>\n",
       "      <td>1</td>\n",
       "      <td>0</td>\n",
       "      <td>0</td>\n",
       "      <td>1</td>\n",
       "      <td>0</td>\n",
       "      <td>0</td>\n",
       "      <td>1</td>\n",
       "    </tr>\n",
       "    <tr>\n",
       "      <th>3</th>\n",
       "      <td>0.0</td>\n",
       "      <td>2583</td>\n",
       "      <td>2358.0</td>\n",
       "      <td>120000</td>\n",
       "      <td>360.0</td>\n",
       "      <td>1.0</td>\n",
       "      <td>0</td>\n",
       "      <td>1</td>\n",
       "      <td>0</td>\n",
       "      <td>1</td>\n",
       "      <td>0</td>\n",
       "      <td>1</td>\n",
       "      <td>1</td>\n",
       "      <td>0</td>\n",
       "      <td>0</td>\n",
       "      <td>0</td>\n",
       "      <td>1</td>\n",
       "    </tr>\n",
       "    <tr>\n",
       "      <th>4</th>\n",
       "      <td>0.0</td>\n",
       "      <td>6000</td>\n",
       "      <td>0.0</td>\n",
       "      <td>141000</td>\n",
       "      <td>360.0</td>\n",
       "      <td>1.0</td>\n",
       "      <td>0</td>\n",
       "      <td>1</td>\n",
       "      <td>1</td>\n",
       "      <td>0</td>\n",
       "      <td>1</td>\n",
       "      <td>0</td>\n",
       "      <td>1</td>\n",
       "      <td>0</td>\n",
       "      <td>0</td>\n",
       "      <td>0</td>\n",
       "      <td>1</td>\n",
       "    </tr>\n",
       "    <tr>\n",
       "      <th>5</th>\n",
       "      <td>2.0</td>\n",
       "      <td>5417</td>\n",
       "      <td>4196.0</td>\n",
       "      <td>267000</td>\n",
       "      <td>360.0</td>\n",
       "      <td>1.0</td>\n",
       "      <td>0</td>\n",
       "      <td>1</td>\n",
       "      <td>0</td>\n",
       "      <td>1</td>\n",
       "      <td>1</td>\n",
       "      <td>0</td>\n",
       "      <td>0</td>\n",
       "      <td>1</td>\n",
       "      <td>0</td>\n",
       "      <td>0</td>\n",
       "      <td>1</td>\n",
       "    </tr>\n",
       "  </tbody>\n",
       "</table>\n",
       "</div>"
      ],
      "text/plain": [
       "   Dependents  ApplicantIncome  CoapplicantIncome  LoanAmount  \\\n",
       "1         1.0             4583             1508.0      128000   \n",
       "2         0.0             3000                0.0       66000   \n",
       "3         0.0             2583             2358.0      120000   \n",
       "4         0.0             6000                0.0      141000   \n",
       "5         2.0             5417             4196.0      267000   \n",
       "\n",
       "   Loan_Amount_Term  Credit_History  Gender_Female  Gender_Male  Married_No  \\\n",
       "1             360.0             1.0              0            1           0   \n",
       "2             360.0             1.0              0            1           0   \n",
       "3             360.0             1.0              0            1           0   \n",
       "4             360.0             1.0              0            1           1   \n",
       "5             360.0             1.0              0            1           0   \n",
       "\n",
       "   Married_Yes  Education_Graduate  Education_Not Graduate  Self_Employed_No  \\\n",
       "1            1                   1                       0                 1   \n",
       "2            1                   1                       0                 0   \n",
       "3            1                   0                       1                 1   \n",
       "4            0                   1                       0                 1   \n",
       "5            1                   1                       0                 0   \n",
       "\n",
       "   Self_Employed_Yes  Property_Area_Rural  Property_Area_Semiurban  \\\n",
       "1                  0                    1                        0   \n",
       "2                  1                    0                        0   \n",
       "3                  0                    0                        0   \n",
       "4                  0                    0                        0   \n",
       "5                  1                    0                        0   \n",
       "\n",
       "   Property_Area_Urban  \n",
       "1                    0  \n",
       "2                    1  \n",
       "3                    1  \n",
       "4                    1  \n",
       "5                    1  "
      ]
     },
     "execution_count": 14,
     "metadata": {},
     "output_type": "execute_result"
    }
   ],
   "source": [
    "X.head()"
   ]
  },
  {
   "cell_type": "markdown",
   "id": "57d43991",
   "metadata": {
    "papermill": {
     "duration": 0.007053,
     "end_time": "2022-08-21T05:42:53.153323",
     "exception": false,
     "start_time": "2022-08-21T05:42:53.146270",
     "status": "completed"
    },
    "tags": []
   },
   "source": [
    "# Synthetic Minority Oversampling Technique - SMOTE"
   ]
  },
  {
   "cell_type": "code",
   "execution_count": 15,
   "id": "a5f2782c",
   "metadata": {
    "execution": {
     "iopub.execute_input": "2022-08-21T05:42:53.168472Z",
     "iopub.status.busy": "2022-08-21T05:42:53.168169Z",
     "iopub.status.idle": "2022-08-21T05:42:53.197439Z",
     "shell.execute_reply": "2022-08-21T05:42:53.196254Z"
    },
    "papermill": {
     "duration": 0.040213,
     "end_time": "2022-08-21T05:42:53.200465",
     "exception": false,
     "start_time": "2022-08-21T05:42:53.160252",
     "status": "completed"
    },
    "tags": []
   },
   "outputs": [],
   "source": [
    "smote = SMOTE(sampling_strategy = 'minority')\n",
    "X1 , y = smote.fit_resample(X,Y)\n",
    "sc = MinMaxScaler()\n",
    "X = sc.fit_transform(X1)"
   ]
  },
  {
   "cell_type": "code",
   "execution_count": 16,
   "id": "159171d7",
   "metadata": {
    "execution": {
     "iopub.execute_input": "2022-08-21T05:42:53.237977Z",
     "iopub.status.busy": "2022-08-21T05:42:53.237511Z",
     "iopub.status.idle": "2022-08-21T05:42:53.250609Z",
     "shell.execute_reply": "2022-08-21T05:42:53.249448Z"
    },
    "papermill": {
     "duration": 0.035543,
     "end_time": "2022-08-21T05:42:53.254350",
     "exception": false,
     "start_time": "2022-08-21T05:42:53.218807",
     "status": "completed"
    },
    "tags": []
   },
   "outputs": [
    {
     "data": {
      "text/plain": [
       "Counter({0: 332, 1: 332})"
      ]
     },
     "execution_count": 16,
     "metadata": {},
     "output_type": "execute_result"
    }
   ],
   "source": [
    "Counter(y)"
   ]
  },
  {
   "cell_type": "markdown",
   "id": "977756fc",
   "metadata": {
    "papermill": {
     "duration": 0.01748,
     "end_time": "2022-08-21T05:42:53.289461",
     "exception": false,
     "start_time": "2022-08-21T05:42:53.271981",
     "status": "completed"
    },
    "tags": []
   },
   "source": [
    "## Train Test Split"
   ]
  },
  {
   "cell_type": "code",
   "execution_count": 17,
   "id": "61ef945e",
   "metadata": {
    "execution": {
     "iopub.execute_input": "2022-08-21T05:42:53.317312Z",
     "iopub.status.busy": "2022-08-21T05:42:53.317035Z",
     "iopub.status.idle": "2022-08-21T05:42:53.323109Z",
     "shell.execute_reply": "2022-08-21T05:42:53.322162Z"
    },
    "papermill": {
     "duration": 0.01828,
     "end_time": "2022-08-21T05:42:53.325313",
     "exception": false,
     "start_time": "2022-08-21T05:42:53.307033",
     "status": "completed"
    },
    "tags": []
   },
   "outputs": [],
   "source": [
    "X_train,X_test,Y_train,Y_test = train_test_split(X,y,test_size= 0.1,shuffle = True, random_state = 42)"
   ]
  },
  {
   "cell_type": "markdown",
   "id": "d5618d98",
   "metadata": {
    "papermill": {
     "duration": 0.006439,
     "end_time": "2022-08-21T05:42:53.338576",
     "exception": false,
     "start_time": "2022-08-21T05:42:53.332137",
     "status": "completed"
    },
    "tags": []
   },
   "source": [
    "### Create the Neural Network"
   ]
  },
  {
   "cell_type": "code",
   "execution_count": 18,
   "id": "dc2028ee",
   "metadata": {
    "execution": {
     "iopub.execute_input": "2022-08-21T05:42:53.353907Z",
     "iopub.status.busy": "2022-08-21T05:42:53.352986Z",
     "iopub.status.idle": "2022-08-21T05:43:07.272232Z",
     "shell.execute_reply": "2022-08-21T05:43:07.271325Z"
    },
    "papermill": {
     "duration": 13.929139,
     "end_time": "2022-08-21T05:43:07.274368",
     "exception": false,
     "start_time": "2022-08-21T05:42:53.345229",
     "status": "completed"
    },
    "tags": []
   },
   "outputs": [
    {
     "name": "stderr",
     "output_type": "stream",
     "text": [
      "2022-08-21 05:42:53.435652: I tensorflow/stream_executor/cuda/cuda_gpu_executor.cc:937] successful NUMA node read from SysFS had negative value (-1), but there must be at least one NUMA node, so returning NUMA node zero\n",
      "2022-08-21 05:42:53.546654: I tensorflow/stream_executor/cuda/cuda_gpu_executor.cc:937] successful NUMA node read from SysFS had negative value (-1), but there must be at least one NUMA node, so returning NUMA node zero\n",
      "2022-08-21 05:42:53.547572: I tensorflow/stream_executor/cuda/cuda_gpu_executor.cc:937] successful NUMA node read from SysFS had negative value (-1), but there must be at least one NUMA node, so returning NUMA node zero\n",
      "2022-08-21 05:42:53.549153: I tensorflow/core/platform/cpu_feature_guard.cc:142] This TensorFlow binary is optimized with oneAPI Deep Neural Network Library (oneDNN) to use the following CPU instructions in performance-critical operations:  AVX2 AVX512F FMA\n",
      "To enable them in other operations, rebuild TensorFlow with the appropriate compiler flags.\n",
      "2022-08-21 05:42:53.555831: I tensorflow/stream_executor/cuda/cuda_gpu_executor.cc:937] successful NUMA node read from SysFS had negative value (-1), but there must be at least one NUMA node, so returning NUMA node zero\n",
      "2022-08-21 05:42:53.556566: I tensorflow/stream_executor/cuda/cuda_gpu_executor.cc:937] successful NUMA node read from SysFS had negative value (-1), but there must be at least one NUMA node, so returning NUMA node zero\n",
      "2022-08-21 05:42:53.557321: I tensorflow/stream_executor/cuda/cuda_gpu_executor.cc:937] successful NUMA node read from SysFS had negative value (-1), but there must be at least one NUMA node, so returning NUMA node zero\n",
      "2022-08-21 05:42:55.832158: I tensorflow/stream_executor/cuda/cuda_gpu_executor.cc:937] successful NUMA node read from SysFS had negative value (-1), but there must be at least one NUMA node, so returning NUMA node zero\n",
      "2022-08-21 05:42:55.833141: I tensorflow/stream_executor/cuda/cuda_gpu_executor.cc:937] successful NUMA node read from SysFS had negative value (-1), but there must be at least one NUMA node, so returning NUMA node zero\n",
      "2022-08-21 05:42:55.833880: I tensorflow/stream_executor/cuda/cuda_gpu_executor.cc:937] successful NUMA node read from SysFS had negative value (-1), but there must be at least one NUMA node, so returning NUMA node zero\n",
      "2022-08-21 05:42:55.834546: I tensorflow/core/common_runtime/gpu/gpu_device.cc:1510] Created device /job:localhost/replica:0/task:0/device:GPU:0 with 15403 MB memory:  -> device: 0, name: Tesla P100-PCIE-16GB, pci bus id: 0000:00:04.0, compute capability: 6.0\n",
      "2022-08-21 05:42:56.335699: I tensorflow/compiler/mlir/mlir_graph_optimization_pass.cc:185] None of the MLIR Optimization Passes are enabled (registered 2)\n"
     ]
    },
    {
     "name": "stdout",
     "output_type": "stream",
     "text": [
      "19/19 [==============================] - 0s 2ms/step - loss: 0.1858 - accuracy: 0.9246\n"
     ]
    },
    {
     "data": {
      "text/plain": [
       "[0.18584412336349487, 0.9246231317520142]"
      ]
     },
     "execution_count": 18,
     "metadata": {},
     "output_type": "execute_result"
    }
   ],
   "source": [
    "classifier = Sequential()\n",
    "classifier.add(Dense(400,activation = 'relu',kernel_initializer='random_normal',input_dim =X_test.shape[1]))\n",
    "classifier.add(Dense(800,activation = 'relu',kernel_initializer='random_normal'))\n",
    "classifier.add(Dense(10,activation = 'relu',kernel_initializer='random_normal'))\n",
    "classifier.add(Dense(1,activation = 'sigmoid',kernel_initializer='random_normal'))\n",
    "classifier.compile(optimizer = 'adam',loss= 'binary_crossentropy',metrics = ['accuracy'])\n",
    "classifier.fit(X_train,Y_train,batch_size= 20,epochs = 100,verbose = 0)\n",
    "evaluate_model = classifier.evaluate(X_train,Y_train)\n",
    "evaluate_model\n",
    "               \n",
    "               \n",
    "\n"
   ]
  },
  {
   "cell_type": "code",
   "execution_count": 19,
   "id": "b7681716",
   "metadata": {
    "execution": {
     "iopub.execute_input": "2022-08-21T05:43:07.290538Z",
     "iopub.status.busy": "2022-08-21T05:43:07.290185Z",
     "iopub.status.idle": "2022-08-21T05:43:07.398586Z",
     "shell.execute_reply": "2022-08-21T05:43:07.397572Z"
    },
    "papermill": {
     "duration": 0.119637,
     "end_time": "2022-08-21T05:43:07.401268",
     "exception": false,
     "start_time": "2022-08-21T05:43:07.281631",
     "status": "completed"
    },
    "tags": []
   },
   "outputs": [],
   "source": [
    "Y_pred = classifier.predict(X_test)\n",
    "Y_pred = (Y_pred >0.5)"
   ]
  },
  {
   "cell_type": "code",
   "execution_count": 20,
   "id": "6bd85f63",
   "metadata": {
    "execution": {
     "iopub.execute_input": "2022-08-21T05:43:07.418605Z",
     "iopub.status.busy": "2022-08-21T05:43:07.417562Z",
     "iopub.status.idle": "2022-08-21T05:43:07.426750Z",
     "shell.execute_reply": "2022-08-21T05:43:07.425826Z"
    },
    "papermill": {
     "duration": 0.020003,
     "end_time": "2022-08-21T05:43:07.428889",
     "exception": false,
     "start_time": "2022-08-21T05:43:07.408886",
     "status": "completed"
    },
    "tags": []
   },
   "outputs": [
    {
     "data": {
      "text/plain": [
       "array([[ True],\n",
       "       [False],\n",
       "       [False],\n",
       "       [ True],\n",
       "       [ True],\n",
       "       [ True],\n",
       "       [False],\n",
       "       [ True],\n",
       "       [ True],\n",
       "       [False],\n",
       "       [ True],\n",
       "       [ True],\n",
       "       [False],\n",
       "       [ True],\n",
       "       [ True],\n",
       "       [False],\n",
       "       [False],\n",
       "       [False],\n",
       "       [ True],\n",
       "       [ True],\n",
       "       [ True],\n",
       "       [ True],\n",
       "       [ True],\n",
       "       [ True],\n",
       "       [False],\n",
       "       [ True],\n",
       "       [False],\n",
       "       [False],\n",
       "       [ True],\n",
       "       [ True],\n",
       "       [False],\n",
       "       [False],\n",
       "       [False],\n",
       "       [ True],\n",
       "       [ True],\n",
       "       [False],\n",
       "       [ True],\n",
       "       [False],\n",
       "       [ True],\n",
       "       [False],\n",
       "       [False],\n",
       "       [ True],\n",
       "       [ True],\n",
       "       [ True],\n",
       "       [ True],\n",
       "       [False],\n",
       "       [False],\n",
       "       [ True],\n",
       "       [False],\n",
       "       [ True],\n",
       "       [ True],\n",
       "       [False],\n",
       "       [ True],\n",
       "       [False],\n",
       "       [ True],\n",
       "       [False],\n",
       "       [ True],\n",
       "       [ True],\n",
       "       [False],\n",
       "       [False],\n",
       "       [ True],\n",
       "       [False],\n",
       "       [ True],\n",
       "       [ True],\n",
       "       [ True],\n",
       "       [False],\n",
       "       [False]])"
      ]
     },
     "execution_count": 20,
     "metadata": {},
     "output_type": "execute_result"
    }
   ],
   "source": [
    "Y_pred"
   ]
  },
  {
   "cell_type": "code",
   "execution_count": 21,
   "id": "e3e56970",
   "metadata": {
    "execution": {
     "iopub.execute_input": "2022-08-21T05:43:07.445063Z",
     "iopub.status.busy": "2022-08-21T05:43:07.444492Z",
     "iopub.status.idle": "2022-08-21T05:43:07.708122Z",
     "shell.execute_reply": "2022-08-21T05:43:07.707200Z"
    },
    "papermill": {
     "duration": 0.274408,
     "end_time": "2022-08-21T05:43:07.710467",
     "exception": false,
     "start_time": "2022-08-21T05:43:07.436059",
     "status": "completed"
    },
    "tags": []
   },
   "outputs": [
    {
     "data": {
      "text/plain": [
       "[Text(0, 0.5, 'No'), Text(0, 1.5, 'Yes')]"
      ]
     },
     "execution_count": 21,
     "metadata": {},
     "output_type": "execute_result"
    },
    {
     "data": {
      "image/png": "[encoded data removed]",
      "text/plain": [
       "<Figure size 432x288 with 2 Axes>"
      ]
     },
     "metadata": {
      "needs_background": "light"
     },
     "output_type": "display_data"
    }
   ],
   "source": [
    "from sklearn.metrics import confusion_matrix\n",
    "cm = confusion_matrix(Y_test,Y_pred)\n",
    "axis = plt.subplot()\n",
    "sns.heatmap(cm,annot = True,ax=axis) #annote = True is to annotate cells\n",
    "#labels, titles and ticks\n",
    "axis.set_xlabel('Predicted')\n",
    "axis.set_ylabel('Actual')\n",
    "axis.set_title('Confusion Matrix')\n",
    "axis.xaxis.set_ticklabels(['No','Yes'])\n",
    "axis.yaxis.set_ticklabels(['No','Yes'])\n",
    "\n"
   ]
  },
  {
   "cell_type": "markdown",
   "id": "a43fee42",
   "metadata": {
    "papermill": {
     "duration": 0.007898,
     "end_time": "2022-08-21T05:43:07.726073",
     "exception": false,
     "start_time": "2022-08-21T05:43:07.718175",
     "status": "completed"
    },
    "tags": []
   },
   "source": [
    "We have created a model called classifier and it can be pickled and reused"
   ]
  },
  {
   "cell_type": "code",
   "execution_count": 22,
   "id": "51165b28",
   "metadata": {
    "execution": {
     "iopub.execute_input": "2022-08-21T05:43:07.744942Z",
     "iopub.status.busy": "2022-08-21T05:43:07.743384Z",
     "iopub.status.idle": "2022-08-21T05:43:07.752781Z",
     "shell.execute_reply": "2022-08-21T05:43:07.751849Z"
    },
    "papermill": {
     "duration": 0.020889,
     "end_time": "2022-08-21T05:43:07.755051",
     "exception": false,
     "start_time": "2022-08-21T05:43:07.734162",
     "status": "completed"
    },
    "tags": []
   },
   "outputs": [
    {
     "data": {
      "text/plain": [
       "['loan_model.pkl']"
      ]
     },
     "execution_count": 22,
     "metadata": {},
     "output_type": "execute_result"
    }
   ],
   "source": [
    "import pickle\n",
    "import joblib\n",
    "filename = 'loan_model.pkl'\n",
    "joblib.dump('classifier',filename)"
   ]
  },
  {
   "cell_type": "code",
   "execution_count": null,
   "id": "7ee20d9c",
   "metadata": {
    "papermill": {
     "duration": 0.007735,
     "end_time": "2022-08-21T05:43:07.770634",
     "exception": false,
     "start_time": "2022-08-21T05:43:07.762899",
     "status": "completed"
    },
    "tags": []
   },
   "outputs": [],
   "source": []
  }
 ],
 "metadata": {
  "kernelspec": {
   "display_name": "Python 3",
   "language": "python",
   "name": "python3"
  },
  "language_info": {
   "codemirror_mode": {
    "name": "ipython",
    "version": 3
   },
   "file_extension": ".py",
   "mimetype": "text/x-python",
   "name": "python",
   "nbconvert_exporter": "python",
   "pygments_lexer": "ipython3",
   "version": "3.7.12"
  },
  "papermill": {
   "default_parameters": {},
   "duration": 32.69024,
   "end_time": "2022-08-21T05:43:10.548752",
   "environment_variables": {},
   "exception": null,
   "input_path": "__notebook__.ipynb",
   "output_path": "__notebook__.ipynb",
   "parameters": {},
   "start_time": "2022-08-21T05:42:37.858512",
   "version": "2.3.4"
  }
 },
 "nbformat": 4,
 "nbformat_minor": 5
}
