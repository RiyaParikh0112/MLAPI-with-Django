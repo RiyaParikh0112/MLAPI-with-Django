{
 "cells": [
  {
   "cell_type": "code",
   "execution_count": 1,
   "id": "22f7acd1",
   "metadata": {
    "_cell_guid": "b1076dfc-b9ad-4769-8c92-a6c4dae69d19",
    "_uuid": "8f2839f25d086af736a60e9eeb907d3b93b6e0e5",
    "execution": {
     "iopub.execute_input": "2022-08-21T05:48:50.439115Z",
     "iopub.status.busy": "2022-08-21T05:48:50.438601Z",
     "iopub.status.idle": "2022-08-21T05:48:56.738651Z",
     "shell.execute_reply": "2022-08-21T05:48:56.737657Z"
    },
    "papermill": {
     "duration": 6.311115,
     "end_time": "2022-08-21T05:48:56.741313",
     "exception": false,
     "start_time": "2022-08-21T05:48:50.430198",
     "status": "completed"
    },
    "tags": []
   },
   "outputs": [],
   "source": [
    "import pandas as pd\n",
    "import numpy as np\n",
    "import seaborn as sns\n",
    "import matplotlib.pyplot as plt\n",
    "from keras import Sequential\n",
    "from keras.layers import Dense\n",
    "from sklearn.model_selection import train_test_split\n",
    "from sklearn.metrics import accuracy_score,confusion_matrix\n",
    "from imblearn.over_sampling import SMOTE  # as it is an imbalanced data\n",
    "from sklearn.preprocessing import MinMaxScaler\n",
    "import warnings\n",
    "from collections import Counter #imbalanced dataset\n",
    "warnings.filterwarnings('ignore')\n",
    "\n"
   ]
  },
  {
   "cell_type": "code",
   "execution_count": 2,
   "id": "689fa413",
   "metadata": {
    "execution": {
     "iopub.execute_input": "2022-08-21T05:48:56.754807Z",
     "iopub.status.busy": "2022-08-21T05:48:56.753635Z",
     "iopub.status.idle": "2022-08-21T05:48:56.770346Z",
     "shell.execute_reply": "2022-08-21T05:48:56.769373Z"
    },
    "papermill": {
     "duration": 0.025277,
     "end_time": "2022-08-21T05:48:56.772345",
     "exception": false,
     "start_time": "2022-08-21T05:48:56.747068",
     "status": "completed"
    },
    "tags": []
   },
   "outputs": [],
   "source": [
    "df = pd.read_csv('../input/bankloan/bankloan.csv')"
   ]
  },
  {
   "cell_type": "code",
   "execution_count": 3,
   "id": "a9664dd9",
   "metadata": {
    "execution": {
     "iopub.execute_input": "2022-08-21T05:48:56.785025Z",
     "iopub.status.busy": "2022-08-21T05:48:56.784148Z",
     "iopub.status.idle": "2022-08-21T05:48:56.807580Z",
     "shell.execute_reply": "2022-08-21T05:48:56.806438Z"
    },
    "papermill": {
     "duration": 0.032668,
     "end_time": "2022-08-21T05:48:56.810759",
     "exception": false,
     "start_time": "2022-08-21T05:48:56.778091",
     "status": "completed"
    },
    "tags": []
   },
   "outputs": [
    {
     "data": {
      "text/html": [
       "<div>\n",
       "<style scoped>\n",
       "    .dataframe tbody tr th:only-of-type {\n",
       "        vertical-align: middle;\n",
       "    }\n",
       "\n",
       "    .dataframe tbody tr th {\n",
       "        vertical-align: top;\n",
       "    }\n",
       "\n",
       "    .dataframe thead th {\n",
       "        text-align: right;\n",
       "    }\n",
       "</style>\n",
       "<table border=\"1\" class=\"dataframe\">\n",
       "  <thead>\n",
       "    <tr style=\"text-align: right;\">\n",
       "      <th></th>\n",
       "      <th>Loan_ID</th>\n",
       "      <th>Gender</th>\n",
       "      <th>Married</th>\n",
       "      <th>Dependents</th>\n",
       "      <th>Education</th>\n",
       "      <th>Self_Employed</th>\n",
       "      <th>ApplicantIncome</th>\n",
       "      <th>CoapplicantIncome</th>\n",
       "      <th>LoanAmount</th>\n",
       "      <th>Loan_Amount_Term</th>\n",
       "      <th>Credit_History</th>\n",
       "      <th>Property_Area</th>\n",
       "      <th>Loan_Status</th>\n",
       "    </tr>\n",
       "  </thead>\n",
       "  <tbody>\n",
       "    <tr>\n",
       "      <th>0</th>\n",
       "      <td>LP001002</td>\n",
       "      <td>Male</td>\n",
       "      <td>No</td>\n",
       "      <td>0.0</td>\n",
       "      <td>Graduate</td>\n",
       "      <td>No</td>\n",
       "      <td>5849</td>\n",
       "      <td>0.0</td>\n",
       "      <td>NaN</td>\n",
       "      <td>360.0</td>\n",
       "      <td>1.0</td>\n",
       "      <td>Urban</td>\n",
       "      <td>Y</td>\n",
       "    </tr>\n",
       "    <tr>\n",
       "      <th>1</th>\n",
       "      <td>LP001003</td>\n",
       "      <td>Male</td>\n",
       "      <td>Yes</td>\n",
       "      <td>1.0</td>\n",
       "      <td>Graduate</td>\n",
       "      <td>No</td>\n",
       "      <td>4583</td>\n",
       "      <td>1508.0</td>\n",
       "      <td>128.0</td>\n",
       "      <td>360.0</td>\n",
       "      <td>1.0</td>\n",
       "      <td>Rural</td>\n",
       "      <td>N</td>\n",
       "    </tr>\n",
       "    <tr>\n",
       "      <th>2</th>\n",
       "      <td>LP001005</td>\n",
       "      <td>Male</td>\n",
       "      <td>Yes</td>\n",
       "      <td>0.0</td>\n",
       "      <td>Graduate</td>\n",
       "      <td>Yes</td>\n",
       "      <td>3000</td>\n",
       "      <td>0.0</td>\n",
       "      <td>66.0</td>\n",
       "      <td>360.0</td>\n",
       "      <td>1.0</td>\n",
       "      <td>Urban</td>\n",
       "      <td>Y</td>\n",
       "    </tr>\n",
       "    <tr>\n",
       "      <th>3</th>\n",
       "      <td>LP001006</td>\n",
       "      <td>Male</td>\n",
       "      <td>Yes</td>\n",
       "      <td>0.0</td>\n",
       "      <td>Not Graduate</td>\n",
       "      <td>No</td>\n",
       "      <td>2583</td>\n",
       "      <td>2358.0</td>\n",
       "      <td>120.0</td>\n",
       "      <td>360.0</td>\n",
       "      <td>1.0</td>\n",
       "      <td>Urban</td>\n",
       "      <td>Y</td>\n",
       "    </tr>\n",
       "    <tr>\n",
       "      <th>4</th>\n",
       "      <td>LP001008</td>\n",
       "      <td>Male</td>\n",
       "      <td>No</td>\n",
       "      <td>0.0</td>\n",
       "      <td>Graduate</td>\n",
       "      <td>No</td>\n",
       "      <td>6000</td>\n",
       "      <td>0.0</td>\n",
       "      <td>141.0</td>\n",
       "      <td>360.0</td>\n",
       "      <td>1.0</td>\n",
       "      <td>Urban</td>\n",
       "      <td>Y</td>\n",
       "    </tr>\n",
       "  </tbody>\n",
       "</table>\n",
       "</div>"
      ],
      "text/plain": [
       "    Loan_ID Gender Married  Dependents     Education Self_Employed  \\\n",
       "0  LP001002   Male      No         0.0      Graduate            No   \n",
       "1  LP001003   Male     Yes         1.0      Graduate            No   \n",
       "2  LP001005   Male     Yes         0.0      Graduate           Yes   \n",
       "3  LP001006   Male     Yes         0.0  Not Graduate            No   \n",
       "4  LP001008   Male      No         0.0      Graduate            No   \n",
       "\n",
       "   ApplicantIncome  CoapplicantIncome  LoanAmount  Loan_Amount_Term  \\\n",
       "0             5849                0.0         NaN             360.0   \n",
       "1             4583             1508.0       128.0             360.0   \n",
       "2             3000                0.0        66.0             360.0   \n",
       "3             2583             2358.0       120.0             360.0   \n",
       "4             6000                0.0       141.0             360.0   \n",
       "\n",
       "   Credit_History Property_Area Loan_Status  \n",
       "0             1.0         Urban           Y  \n",
       "1             1.0         Rural           N  \n",
       "2             1.0         Urban           Y  \n",
       "3             1.0         Urban           Y  \n",
       "4             1.0         Urban           Y  "
      ]
     },
     "execution_count": 3,
     "metadata": {},
     "output_type": "execute_result"
    }
   ],
   "source": [
    "df.head()"
   ]
  },
  {
   "cell_type": "code",
   "execution_count": 4,
   "id": "70deb791",
   "metadata": {
    "execution": {
     "iopub.execute_input": "2022-08-21T05:48:56.823699Z",
     "iopub.status.busy": "2022-08-21T05:48:56.822892Z",
     "iopub.status.idle": "2022-08-21T05:48:56.829642Z",
     "shell.execute_reply": "2022-08-21T05:48:56.828642Z"
    },
    "papermill": {
     "duration": 0.015159,
     "end_time": "2022-08-21T05:48:56.831715",
     "exception": false,
     "start_time": "2022-08-21T05:48:56.816556",
     "status": "completed"
    },
    "tags": []
   },
   "outputs": [
    {
     "data": {
      "text/plain": [
       "(614, 13)"
      ]
     },
     "execution_count": 4,
     "metadata": {},
     "output_type": "execute_result"
    }
   ],
   "source": [
    "df.shape"
   ]
  },
  {
   "cell_type": "code",
   "execution_count": 5,
   "id": "055c712d",
   "metadata": {
    "execution": {
     "iopub.execute_input": "2022-08-21T05:48:56.844229Z",
     "iopub.status.busy": "2022-08-21T05:48:56.843965Z",
     "iopub.status.idle": "2022-08-21T05:48:56.854202Z",
     "shell.execute_reply": "2022-08-21T05:48:56.853317Z"
    },
    "papermill": {
     "duration": 0.018785,
     "end_time": "2022-08-21T05:48:56.856139",
     "exception": false,
     "start_time": "2022-08-21T05:48:56.837354",
     "status": "completed"
    },
    "tags": []
   },
   "outputs": [
    {
     "data": {
      "text/plain": [
       "True     7\n",
       "False    6\n",
       "dtype: int64"
      ]
     },
     "execution_count": 5,
     "metadata": {},
     "output_type": "execute_result"
    }
   ],
   "source": [
    "df.isna().any().value_counts()"
   ]
  },
  {
   "cell_type": "code",
   "execution_count": 6,
   "id": "137d6608",
   "metadata": {
    "execution": {
     "iopub.execute_input": "2022-08-21T05:48:56.869959Z",
     "iopub.status.busy": "2022-08-21T05:48:56.868957Z",
     "iopub.status.idle": "2022-08-21T05:48:56.878750Z",
     "shell.execute_reply": "2022-08-21T05:48:56.877912Z"
    },
    "papermill": {
     "duration": 0.018545,
     "end_time": "2022-08-21T05:48:56.880664",
     "exception": false,
     "start_time": "2022-08-21T05:48:56.862119",
     "status": "completed"
    },
    "tags": []
   },
   "outputs": [],
   "source": [
    "df = df.dropna()"
   ]
  },
  {
   "cell_type": "code",
   "execution_count": 7,
   "id": "42aae119",
   "metadata": {
    "execution": {
     "iopub.execute_input": "2022-08-21T05:48:56.893174Z",
     "iopub.status.busy": "2022-08-21T05:48:56.892904Z",
     "iopub.status.idle": "2022-08-21T05:48:56.899040Z",
     "shell.execute_reply": "2022-08-21T05:48:56.898197Z"
    },
    "papermill": {
     "duration": 0.014732,
     "end_time": "2022-08-21T05:48:56.901040",
     "exception": false,
     "start_time": "2022-08-21T05:48:56.886308",
     "status": "completed"
    },
    "tags": []
   },
   "outputs": [],
   "source": [
    "df = df.drop('Loan_ID',axis = 1)"
   ]
  },
  {
   "cell_type": "code",
   "execution_count": 8,
   "id": "c2e7c204",
   "metadata": {
    "execution": {
     "iopub.execute_input": "2022-08-21T05:48:56.914074Z",
     "iopub.status.busy": "2022-08-21T05:48:56.913564Z",
     "iopub.status.idle": "2022-08-21T05:48:56.919943Z",
     "shell.execute_reply": "2022-08-21T05:48:56.918858Z"
    },
    "papermill": {
     "duration": 0.015234,
     "end_time": "2022-08-21T05:48:56.921953",
     "exception": false,
     "start_time": "2022-08-21T05:48:56.906719",
     "status": "completed"
    },
    "tags": []
   },
   "outputs": [],
   "source": [
    "df['LoanAmount'] = (df['LoanAmount']*1000).astype(int)"
   ]
  },
  {
   "cell_type": "code",
   "execution_count": 9,
   "id": "54cf3b37",
   "metadata": {
    "execution": {
     "iopub.execute_input": "2022-08-21T05:48:56.935147Z",
     "iopub.status.busy": "2022-08-21T05:48:56.934703Z",
     "iopub.status.idle": "2022-08-21T05:48:56.950584Z",
     "shell.execute_reply": "2022-08-21T05:48:56.949446Z"
    },
    "papermill": {
     "duration": 0.025153,
     "end_time": "2022-08-21T05:48:56.952754",
     "exception": false,
     "start_time": "2022-08-21T05:48:56.927601",
     "status": "completed"
    },
    "tags": []
   },
   "outputs": [
    {
     "data": {
      "text/html": [
       "<div>\n",
       "<style scoped>\n",
       "    .dataframe tbody tr th:only-of-type {\n",
       "        vertical-align: middle;\n",
       "    }\n",
       "\n",
       "    .dataframe tbody tr th {\n",
       "        vertical-align: top;\n",
       "    }\n",
       "\n",
       "    .dataframe thead th {\n",
       "        text-align: right;\n",
       "    }\n",
       "</style>\n",
       "<table border=\"1\" class=\"dataframe\">\n",
       "  <thead>\n",
       "    <tr style=\"text-align: right;\">\n",
       "      <th></th>\n",
       "      <th>Gender</th>\n",
       "      <th>Married</th>\n",
       "      <th>Dependents</th>\n",
       "      <th>Education</th>\n",
       "      <th>Self_Employed</th>\n",
       "      <th>ApplicantIncome</th>\n",
       "      <th>CoapplicantIncome</th>\n",
       "      <th>LoanAmount</th>\n",
       "      <th>Loan_Amount_Term</th>\n",
       "      <th>Credit_History</th>\n",
       "      <th>Property_Area</th>\n",
       "      <th>Loan_Status</th>\n",
       "    </tr>\n",
       "  </thead>\n",
       "  <tbody>\n",
       "    <tr>\n",
       "      <th>1</th>\n",
       "      <td>Male</td>\n",
       "      <td>Yes</td>\n",
       "      <td>1.0</td>\n",
       "      <td>Graduate</td>\n",
       "      <td>No</td>\n",
       "      <td>4583</td>\n",
       "      <td>1508.0</td>\n",
       "      <td>128000</td>\n",
       "      <td>360.0</td>\n",
       "      <td>1.0</td>\n",
       "      <td>Rural</td>\n",
       "      <td>N</td>\n",
       "    </tr>\n",
       "    <tr>\n",
       "      <th>2</th>\n",
       "      <td>Male</td>\n",
       "      <td>Yes</td>\n",
       "      <td>0.0</td>\n",
       "      <td>Graduate</td>\n",
       "      <td>Yes</td>\n",
       "      <td>3000</td>\n",
       "      <td>0.0</td>\n",
       "      <td>66000</td>\n",
       "      <td>360.0</td>\n",
       "      <td>1.0</td>\n",
       "      <td>Urban</td>\n",
       "      <td>Y</td>\n",
       "    </tr>\n",
       "    <tr>\n",
       "      <th>3</th>\n",
       "      <td>Male</td>\n",
       "      <td>Yes</td>\n",
       "      <td>0.0</td>\n",
       "      <td>Not Graduate</td>\n",
       "      <td>No</td>\n",
       "      <td>2583</td>\n",
       "      <td>2358.0</td>\n",
       "      <td>120000</td>\n",
       "      <td>360.0</td>\n",
       "      <td>1.0</td>\n",
       "      <td>Urban</td>\n",
       "      <td>Y</td>\n",
       "    </tr>\n",
       "    <tr>\n",
       "      <th>4</th>\n",
       "      <td>Male</td>\n",
       "      <td>No</td>\n",
       "      <td>0.0</td>\n",
       "      <td>Graduate</td>\n",
       "      <td>No</td>\n",
       "      <td>6000</td>\n",
       "      <td>0.0</td>\n",
       "      <td>141000</td>\n",
       "      <td>360.0</td>\n",
       "      <td>1.0</td>\n",
       "      <td>Urban</td>\n",
       "      <td>Y</td>\n",
       "    </tr>\n",
       "    <tr>\n",
       "      <th>5</th>\n",
       "      <td>Male</td>\n",
       "      <td>Yes</td>\n",
       "      <td>2.0</td>\n",
       "      <td>Graduate</td>\n",
       "      <td>Yes</td>\n",
       "      <td>5417</td>\n",
       "      <td>4196.0</td>\n",
       "      <td>267000</td>\n",
       "      <td>360.0</td>\n",
       "      <td>1.0</td>\n",
       "      <td>Urban</td>\n",
       "      <td>Y</td>\n",
       "    </tr>\n",
       "  </tbody>\n",
       "</table>\n",
       "</div>"
      ],
      "text/plain": [
       "  Gender Married  Dependents     Education Self_Employed  ApplicantIncome  \\\n",
       "1   Male     Yes         1.0      Graduate            No             4583   \n",
       "2   Male     Yes         0.0      Graduate           Yes             3000   \n",
       "3   Male     Yes         0.0  Not Graduate            No             2583   \n",
       "4   Male      No         0.0      Graduate            No             6000   \n",
       "5   Male     Yes         2.0      Graduate           Yes             5417   \n",
       "\n",
       "   CoapplicantIncome  LoanAmount  Loan_Amount_Term  Credit_History  \\\n",
       "1             1508.0      128000             360.0             1.0   \n",
       "2                0.0       66000             360.0             1.0   \n",
       "3             2358.0      120000             360.0             1.0   \n",
       "4                0.0      141000             360.0             1.0   \n",
       "5             4196.0      267000             360.0             1.0   \n",
       "\n",
       "  Property_Area Loan_Status  \n",
       "1         Rural           N  \n",
       "2         Urban           Y  \n",
       "3         Urban           Y  \n",
       "4         Urban           Y  \n",
       "5         Urban           Y  "
      ]
     },
     "execution_count": 9,
     "metadata": {},
     "output_type": "execute_result"
    }
   ],
   "source": [
    "df.head()"
   ]
  },
  {
   "cell_type": "code",
   "execution_count": 10,
   "id": "3adf37bc",
   "metadata": {
    "execution": {
     "iopub.execute_input": "2022-08-21T05:48:56.965880Z",
     "iopub.status.busy": "2022-08-21T05:48:56.965371Z",
     "iopub.status.idle": "2022-08-21T05:48:56.971722Z",
     "shell.execute_reply": "2022-08-21T05:48:56.970754Z"
    },
    "papermill": {
     "duration": 0.014962,
     "end_time": "2022-08-21T05:48:56.973608",
     "exception": false,
     "start_time": "2022-08-21T05:48:56.958646",
     "status": "completed"
    },
    "tags": []
   },
   "outputs": [
    {
     "data": {
      "text/plain": [
       "Counter({'N': 148, 'Y': 332})"
      ]
     },
     "execution_count": 10,
     "metadata": {},
     "output_type": "execute_result"
    }
   ],
   "source": [
    "Counter(df['Loan_Status'])"
   ]
  },
  {
   "cell_type": "code",
   "execution_count": 11,
   "id": "3ea3469a",
   "metadata": {
    "execution": {
     "iopub.execute_input": "2022-08-21T05:48:56.987741Z",
     "iopub.status.busy": "2022-08-21T05:48:56.986984Z",
     "iopub.status.idle": "2022-08-21T05:48:56.993485Z",
     "shell.execute_reply": "2022-08-21T05:48:56.992613Z"
    },
    "papermill": {
     "duration": 0.014998,
     "end_time": "2022-08-21T05:48:56.995365",
     "exception": false,
     "start_time": "2022-08-21T05:48:56.980367",
     "status": "completed"
    },
    "tags": []
   },
   "outputs": [
    {
     "data": {
      "text/plain": [
       "0.6916666666666667"
      ]
     },
     "execution_count": 11,
     "metadata": {},
     "output_type": "execute_result"
    }
   ],
   "source": [
    "Counter(df['Loan_Status'])['Y']/df['Loan_Status'].size"
   ]
  },
  {
   "cell_type": "markdown",
   "id": "590bfa68",
   "metadata": {
    "papermill": {
     "duration": 0.005799,
     "end_time": "2022-08-21T05:48:57.007118",
     "exception": false,
     "start_time": "2022-08-21T05:48:57.001319",
     "status": "completed"
    },
    "tags": []
   },
   "source": [
    "This is an imbalanced data and we need to balance it"
   ]
  },
  {
   "cell_type": "markdown",
   "id": "8a1049d9",
   "metadata": {
    "papermill": {
     "duration": 0.005791,
     "end_time": "2022-08-21T05:48:57.019174",
     "exception": false,
     "start_time": "2022-08-21T05:48:57.013383",
     "status": "completed"
    },
    "tags": []
   },
   "source": [
    "### Importing Data"
   ]
  },
  {
   "cell_type": "code",
   "execution_count": 12,
   "id": "23cad170",
   "metadata": {
    "execution": {
     "iopub.execute_input": "2022-08-21T05:48:57.032572Z",
     "iopub.status.busy": "2022-08-21T05:48:57.032292Z",
     "iopub.status.idle": "2022-08-21T05:48:57.047753Z",
     "shell.execute_reply": "2022-08-21T05:48:57.046886Z"
    },
    "papermill": {
     "duration": 0.024866,
     "end_time": "2022-08-21T05:48:57.050170",
     "exception": false,
     "start_time": "2022-08-21T05:48:57.025304",
     "status": "completed"
    },
    "tags": []
   },
   "outputs": [],
   "source": [
    "pre_Y= df['Loan_Status']\n",
    "pre_X = df.drop('Loan_Status',axis = 1)\n",
    "X = pd.get_dummies(pre_X)\n",
    "Y = pre_Y.map(dict(Y = 1, N = 0))"
   ]
  },
  {
   "cell_type": "code",
   "execution_count": 13,
   "id": "f3440413",
   "metadata": {
    "execution": {
     "iopub.execute_input": "2022-08-21T05:48:57.063360Z",
     "iopub.status.busy": "2022-08-21T05:48:57.063097Z",
     "iopub.status.idle": "2022-08-21T05:48:57.079285Z",
     "shell.execute_reply": "2022-08-21T05:48:57.078442Z"
    },
    "papermill": {
     "duration": 0.02484,
     "end_time": "2022-08-21T05:48:57.081254",
     "exception": false,
     "start_time": "2022-08-21T05:48:57.056414",
     "status": "completed"
    },
    "tags": []
   },
   "outputs": [
    {
     "data": {
      "text/html": [
       "<div>\n",
       "<style scoped>\n",
       "    .dataframe tbody tr th:only-of-type {\n",
       "        vertical-align: middle;\n",
       "    }\n",
       "\n",
       "    .dataframe tbody tr th {\n",
       "        vertical-align: top;\n",
       "    }\n",
       "\n",
       "    .dataframe thead th {\n",
       "        text-align: right;\n",
       "    }\n",
       "</style>\n",
       "<table border=\"1\" class=\"dataframe\">\n",
       "  <thead>\n",
       "    <tr style=\"text-align: right;\">\n",
       "      <th></th>\n",
       "      <th>Gender</th>\n",
       "      <th>Married</th>\n",
       "      <th>Dependents</th>\n",
       "      <th>Education</th>\n",
       "      <th>Self_Employed</th>\n",
       "      <th>ApplicantIncome</th>\n",
       "      <th>CoapplicantIncome</th>\n",
       "      <th>LoanAmount</th>\n",
       "      <th>Loan_Amount_Term</th>\n",
       "      <th>Credit_History</th>\n",
       "      <th>Property_Area</th>\n",
       "    </tr>\n",
       "  </thead>\n",
       "  <tbody>\n",
       "    <tr>\n",
       "      <th>1</th>\n",
       "      <td>Male</td>\n",
       "      <td>Yes</td>\n",
       "      <td>1.0</td>\n",
       "      <td>Graduate</td>\n",
       "      <td>No</td>\n",
       "      <td>4583</td>\n",
       "      <td>1508.0</td>\n",
       "      <td>128000</td>\n",
       "      <td>360.0</td>\n",
       "      <td>1.0</td>\n",
       "      <td>Rural</td>\n",
       "    </tr>\n",
       "    <tr>\n",
       "      <th>2</th>\n",
       "      <td>Male</td>\n",
       "      <td>Yes</td>\n",
       "      <td>0.0</td>\n",
       "      <td>Graduate</td>\n",
       "      <td>Yes</td>\n",
       "      <td>3000</td>\n",
       "      <td>0.0</td>\n",
       "      <td>66000</td>\n",
       "      <td>360.0</td>\n",
       "      <td>1.0</td>\n",
       "      <td>Urban</td>\n",
       "    </tr>\n",
       "    <tr>\n",
       "      <th>3</th>\n",
       "      <td>Male</td>\n",
       "      <td>Yes</td>\n",
       "      <td>0.0</td>\n",
       "      <td>Not Graduate</td>\n",
       "      <td>No</td>\n",
       "      <td>2583</td>\n",
       "      <td>2358.0</td>\n",
       "      <td>120000</td>\n",
       "      <td>360.0</td>\n",
       "      <td>1.0</td>\n",
       "      <td>Urban</td>\n",
       "    </tr>\n",
       "    <tr>\n",
       "      <th>4</th>\n",
       "      <td>Male</td>\n",
       "      <td>No</td>\n",
       "      <td>0.0</td>\n",
       "      <td>Graduate</td>\n",
       "      <td>No</td>\n",
       "      <td>6000</td>\n",
       "      <td>0.0</td>\n",
       "      <td>141000</td>\n",
       "      <td>360.0</td>\n",
       "      <td>1.0</td>\n",
       "      <td>Urban</td>\n",
       "    </tr>\n",
       "    <tr>\n",
       "      <th>5</th>\n",
       "      <td>Male</td>\n",
       "      <td>Yes</td>\n",
       "      <td>2.0</td>\n",
       "      <td>Graduate</td>\n",
       "      <td>Yes</td>\n",
       "      <td>5417</td>\n",
       "      <td>4196.0</td>\n",
       "      <td>267000</td>\n",
       "      <td>360.0</td>\n",
       "      <td>1.0</td>\n",
       "      <td>Urban</td>\n",
       "    </tr>\n",
       "  </tbody>\n",
       "</table>\n",
       "</div>"
      ],
      "text/plain": [
       "  Gender Married  Dependents     Education Self_Employed  ApplicantIncome  \\\n",
       "1   Male     Yes         1.0      Graduate            No             4583   \n",
       "2   Male     Yes         0.0      Graduate           Yes             3000   \n",
       "3   Male     Yes         0.0  Not Graduate            No             2583   \n",
       "4   Male      No         0.0      Graduate            No             6000   \n",
       "5   Male     Yes         2.0      Graduate           Yes             5417   \n",
       "\n",
       "   CoapplicantIncome  LoanAmount  Loan_Amount_Term  Credit_History  \\\n",
       "1             1508.0      128000             360.0             1.0   \n",
       "2                0.0       66000             360.0             1.0   \n",
       "3             2358.0      120000             360.0             1.0   \n",
       "4                0.0      141000             360.0             1.0   \n",
       "5             4196.0      267000             360.0             1.0   \n",
       "\n",
       "  Property_Area  \n",
       "1         Rural  \n",
       "2         Urban  \n",
       "3         Urban  \n",
       "4         Urban  \n",
       "5         Urban  "
      ]
     },
     "execution_count": 13,
     "metadata": {},
     "output_type": "execute_result"
    }
   ],
   "source": [
    "pre_X.head()"
   ]
  },
  {
   "cell_type": "code",
   "execution_count": 14,
   "id": "5042cdf1",
   "metadata": {
    "execution": {
     "iopub.execute_input": "2022-08-21T05:48:57.095255Z",
     "iopub.status.busy": "2022-08-21T05:48:57.094990Z",
     "iopub.status.idle": "2022-08-21T05:48:57.112179Z",
     "shell.execute_reply": "2022-08-21T05:48:57.111321Z"
    },
    "papermill": {
     "duration": 0.026593,
     "end_time": "2022-08-21T05:48:57.114335",
     "exception": false,
     "start_time": "2022-08-21T05:48:57.087742",
     "status": "completed"
    },
    "tags": []
   },
   "outputs": [
    {
     "data": {
      "text/html": [
       "<div>\n",
       "<style scoped>\n",
       "    .dataframe tbody tr th:only-of-type {\n",
       "        vertical-align: middle;\n",
       "    }\n",
       "\n",
       "    .dataframe tbody tr th {\n",
       "        vertical-align: top;\n",
       "    }\n",
       "\n",
       "    .dataframe thead th {\n",
       "        text-align: right;\n",
       "    }\n",
       "</style>\n",
       "<table border=\"1\" class=\"dataframe\">\n",
       "  <thead>\n",
       "    <tr style=\"text-align: right;\">\n",
       "      <th></th>\n",
       "      <th>Dependents</th>\n",
       "      <th>ApplicantIncome</th>\n",
       "      <th>CoapplicantIncome</th>\n",
       "      <th>LoanAmount</th>\n",
       "      <th>Loan_Amount_Term</th>\n",
       "      <th>Credit_History</th>\n",
       "      <th>Gender_Female</th>\n",
       "      <th>Gender_Male</th>\n",
       "      <th>Married_No</th>\n",
       "      <th>Married_Yes</th>\n",
       "      <th>Education_Graduate</th>\n",
       "      <th>Education_Not Graduate</th>\n",
       "      <th>Self_Employed_No</th>\n",
       "      <th>Self_Employed_Yes</th>\n",
       "      <th>Property_Area_Rural</th>\n",
       "      <th>Property_Area_Semiurban</th>\n",
       "      <th>Property_Area_Urban</th>\n",
       "    </tr>\n",
       "  </thead>\n",
       "  <tbody>\n",
       "    <tr>\n",
       "      <th>1</th>\n",
       "      <td>1.0</td>\n",
       "      <td>4583</td>\n",
       "      <td>1508.0</td>\n",
       "      <td>128000</td>\n",
       "      <td>360.0</td>\n",
       "      <td>1.0</td>\n",
       "      <td>0</td>\n",
       "      <td>1</td>\n",
       "      <td>0</td>\n",
       "      <td>1</td>\n",
       "      <td>1</td>\n",
       "      <td>0</td>\n",
       "      <td>1</td>\n",
       "      <td>0</td>\n",
       "      <td>1</td>\n",
       "      <td>0</td>\n",
       "      <td>0</td>\n",
       "    </tr>\n",
       "    <tr>\n",
       "      <th>2</th>\n",
       "      <td>0.0</td>\n",
       "      <td>3000</td>\n",
       "      <td>0.0</td>\n",
       "      <td>66000</td>\n",
       "      <td>360.0</td>\n",
       "      <td>1.0</td>\n",
       "      <td>0</td>\n",
       "      <td>1</td>\n",
       "      <td>0</td>\n",
       "      <td>1</td>\n",
       "      <td>1</td>\n",
       "      <td>0</td>\n",
       "      <td>0</td>\n",
       "      <td>1</td>\n",
       "      <td>0</td>\n",
       "      <td>0</td>\n",
       "      <td>1</td>\n",
       "    </tr>\n",
       "    <tr>\n",
       "      <th>3</th>\n",
       "      <td>0.0</td>\n",
       "      <td>2583</td>\n",
       "      <td>2358.0</td>\n",
       "      <td>120000</td>\n",
       "      <td>360.0</td>\n",
       "      <td>1.0</td>\n",
       "      <td>0</td>\n",
       "      <td>1</td>\n",
       "      <td>0</td>\n",
       "      <td>1</td>\n",
       "      <td>0</td>\n",
       "      <td>1</td>\n",
       "      <td>1</td>\n",
       "      <td>0</td>\n",
       "      <td>0</td>\n",
       "      <td>0</td>\n",
       "      <td>1</td>\n",
       "    </tr>\n",
       "    <tr>\n",
       "      <th>4</th>\n",
       "      <td>0.0</td>\n",
       "      <td>6000</td>\n",
       "      <td>0.0</td>\n",
       "      <td>141000</td>\n",
       "      <td>360.0</td>\n",
       "      <td>1.0</td>\n",
       "      <td>0</td>\n",
       "      <td>1</td>\n",
       "      <td>1</td>\n",
       "      <td>0</td>\n",
       "      <td>1</td>\n",
       "      <td>0</td>\n",
       "      <td>1</td>\n",
       "      <td>0</td>\n",
       "      <td>0</td>\n",
       "      <td>0</td>\n",
       "      <td>1</td>\n",
       "    </tr>\n",
       "    <tr>\n",
       "      <th>5</th>\n",
       "      <td>2.0</td>\n",
       "      <td>5417</td>\n",
       "      <td>4196.0</td>\n",
       "      <td>267000</td>\n",
       "      <td>360.0</td>\n",
       "      <td>1.0</td>\n",
       "      <td>0</td>\n",
       "      <td>1</td>\n",
       "      <td>0</td>\n",
       "      <td>1</td>\n",
       "      <td>1</td>\n",
       "      <td>0</td>\n",
       "      <td>0</td>\n",
       "      <td>1</td>\n",
       "      <td>0</td>\n",
       "      <td>0</td>\n",
       "      <td>1</td>\n",
       "    </tr>\n",
       "  </tbody>\n",
       "</table>\n",
       "</div>"
      ],
      "text/plain": [
       "   Dependents  ApplicantIncome  CoapplicantIncome  LoanAmount  \\\n",
       "1         1.0             4583             1508.0      128000   \n",
       "2         0.0             3000                0.0       66000   \n",
       "3         0.0             2583             2358.0      120000   \n",
       "4         0.0             6000                0.0      141000   \n",
       "5         2.0             5417             4196.0      267000   \n",
       "\n",
       "   Loan_Amount_Term  Credit_History  Gender_Female  Gender_Male  Married_No  \\\n",
       "1             360.0             1.0              0            1           0   \n",
       "2             360.0             1.0              0            1           0   \n",
       "3             360.0             1.0              0            1           0   \n",
       "4             360.0             1.0              0            1           1   \n",
       "5             360.0             1.0              0            1           0   \n",
       "\n",
       "   Married_Yes  Education_Graduate  Education_Not Graduate  Self_Employed_No  \\\n",
       "1            1                   1                       0                 1   \n",
       "2            1                   1                       0                 0   \n",
       "3            1                   0                       1                 1   \n",
       "4            0                   1                       0                 1   \n",
       "5            1                   1                       0                 0   \n",
       "\n",
       "   Self_Employed_Yes  Property_Area_Rural  Property_Area_Semiurban  \\\n",
       "1                  0                    1                        0   \n",
       "2                  1                    0                        0   \n",
       "3                  0                    0                        0   \n",
       "4                  0                    0                        0   \n",
       "5                  1                    0                        0   \n",
       "\n",
       "   Property_Area_Urban  \n",
       "1                    0  \n",
       "2                    1  \n",
       "3                    1  \n",
       "4                    1  \n",
       "5                    1  "
      ]
     },
     "execution_count": 14,
     "metadata": {},
     "output_type": "execute_result"
    }
   ],
   "source": [
    "X.head()"
   ]
  },
  {
   "cell_type": "markdown",
   "id": "6af039c0",
   "metadata": {
    "papermill": {
     "duration": 0.007026,
     "end_time": "2022-08-21T05:48:57.128442",
     "exception": false,
     "start_time": "2022-08-21T05:48:57.121416",
     "status": "completed"
    },
    "tags": []
   },
   "source": [
    "# Synthetic Minority Oversampling Technique - SMOTE"
   ]
  },
  {
   "cell_type": "code",
   "execution_count": 15,
   "id": "3ca82c38",
   "metadata": {
    "execution": {
     "iopub.execute_input": "2022-08-21T05:48:57.145118Z",
     "iopub.status.busy": "2022-08-21T05:48:57.144860Z",
     "iopub.status.idle": "2022-08-21T05:48:57.176958Z",
     "shell.execute_reply": "2022-08-21T05:48:57.175651Z"
    },
    "papermill": {
     "duration": 0.044107,
     "end_time": "2022-08-21T05:48:57.180327",
     "exception": false,
     "start_time": "2022-08-21T05:48:57.136220",
     "status": "completed"
    },
    "tags": []
   },
   "outputs": [],
   "source": [
    "smote = SMOTE(sampling_strategy = 'minority')\n",
    "X1 , y = smote.fit_resample(X,Y)\n",
    "sc = MinMaxScaler()\n",
    "X = sc.fit_transform(X1)"
   ]
  },
  {
   "cell_type": "code",
   "execution_count": 16,
   "id": "1d10d16c",
   "metadata": {
    "execution": {
     "iopub.execute_input": "2022-08-21T05:48:57.215345Z",
     "iopub.status.busy": "2022-08-21T05:48:57.214884Z",
     "iopub.status.idle": "2022-08-21T05:48:57.222382Z",
     "shell.execute_reply": "2022-08-21T05:48:57.221514Z"
    },
    "papermill": {
     "duration": 0.028353,
     "end_time": "2022-08-21T05:48:57.225401",
     "exception": false,
     "start_time": "2022-08-21T05:48:57.197048",
     "status": "completed"
    },
    "tags": []
   },
   "outputs": [
    {
     "data": {
      "text/plain": [
       "Counter({0: 332, 1: 332})"
      ]
     },
     "execution_count": 16,
     "metadata": {},
     "output_type": "execute_result"
    }
   ],
   "source": [
    "Counter(y)"
   ]
  },
  {
   "cell_type": "markdown",
   "id": "61ff203c",
   "metadata": {
    "papermill": {
     "duration": 0.016863,
     "end_time": "2022-08-21T05:48:57.259584",
     "exception": false,
     "start_time": "2022-08-21T05:48:57.242721",
     "status": "completed"
    },
    "tags": []
   },
   "source": [
    "## Train Test Split"
   ]
  },
  {
   "cell_type": "code",
   "execution_count": 17,
   "id": "7a26d913",
   "metadata": {
    "execution": {
     "iopub.execute_input": "2022-08-21T05:48:57.292789Z",
     "iopub.status.busy": "2022-08-21T05:48:57.292528Z",
     "iopub.status.idle": "2022-08-21T05:48:57.298357Z",
     "shell.execute_reply": "2022-08-21T05:48:57.297521Z"
    },
    "papermill": {
     "duration": 0.023514,
     "end_time": "2022-08-21T05:48:57.300343",
     "exception": false,
     "start_time": "2022-08-21T05:48:57.276829",
     "status": "completed"
    },
    "tags": []
   },
   "outputs": [],
   "source": [
    "X_train,X_test,Y_train,Y_test = train_test_split(X,y,test_size= 0.1,shuffle = True, random_state = 42)"
   ]
  },
  {
   "cell_type": "markdown",
   "id": "a9bf4fa7",
   "metadata": {
    "papermill": {
     "duration": 0.006336,
     "end_time": "2022-08-21T05:48:57.313198",
     "exception": false,
     "start_time": "2022-08-21T05:48:57.306862",
     "status": "completed"
    },
    "tags": []
   },
   "source": [
    "### Create the Neural Network"
   ]
  },
  {
   "cell_type": "code",
   "execution_count": 18,
   "id": "26b540c7",
   "metadata": {
    "execution": {
     "iopub.execute_input": "2022-08-21T05:48:57.328955Z",
     "iopub.status.busy": "2022-08-21T05:48:57.327409Z",
     "iopub.status.idle": "2022-08-21T05:49:11.204701Z",
     "shell.execute_reply": "2022-08-21T05:49:11.203765Z"
    },
    "papermill": {
     "duration": 13.886984,
     "end_time": "2022-08-21T05:49:11.206696",
     "exception": false,
     "start_time": "2022-08-21T05:48:57.319712",
     "status": "completed"
    },
    "tags": []
   },
   "outputs": [
    {
     "name": "stderr",
     "output_type": "stream",
     "text": [
      "2022-08-21 05:48:57.418623: I tensorflow/stream_executor/cuda/cuda_gpu_executor.cc:937] successful NUMA node read from SysFS had negative value (-1), but there must be at least one NUMA node, so returning NUMA node zero\n",
      "2022-08-21 05:48:57.525928: I tensorflow/stream_executor/cuda/cuda_gpu_executor.cc:937] successful NUMA node read from SysFS had negative value (-1), but there must be at least one NUMA node, so returning NUMA node zero\n",
      "2022-08-21 05:48:57.526761: I tensorflow/stream_executor/cuda/cuda_gpu_executor.cc:937] successful NUMA node read from SysFS had negative value (-1), but there must be at least one NUMA node, so returning NUMA node zero\n",
      "2022-08-21 05:48:57.529061: I tensorflow/core/platform/cpu_feature_guard.cc:142] This TensorFlow binary is optimized with oneAPI Deep Neural Network Library (oneDNN) to use the following CPU instructions in performance-critical operations:  AVX2 AVX512F FMA\n",
      "To enable them in other operations, rebuild TensorFlow with the appropriate compiler flags.\n",
      "2022-08-21 05:48:57.533524: I tensorflow/stream_executor/cuda/cuda_gpu_executor.cc:937] successful NUMA node read from SysFS had negative value (-1), but there must be at least one NUMA node, so returning NUMA node zero\n",
      "2022-08-21 05:48:57.534281: I tensorflow/stream_executor/cuda/cuda_gpu_executor.cc:937] successful NUMA node read from SysFS had negative value (-1), but there must be at least one NUMA node, so returning NUMA node zero\n",
      "2022-08-21 05:48:57.535024: I tensorflow/stream_executor/cuda/cuda_gpu_executor.cc:937] successful NUMA node read from SysFS had negative value (-1), but there must be at least one NUMA node, so returning NUMA node zero\n",
      "2022-08-21 05:48:59.823533: I tensorflow/stream_executor/cuda/cuda_gpu_executor.cc:937] successful NUMA node read from SysFS had negative value (-1), but there must be at least one NUMA node, so returning NUMA node zero\n",
      "2022-08-21 05:48:59.824406: I tensorflow/stream_executor/cuda/cuda_gpu_executor.cc:937] successful NUMA node read from SysFS had negative value (-1), but there must be at least one NUMA node, so returning NUMA node zero\n",
      "2022-08-21 05:48:59.825196: I tensorflow/stream_executor/cuda/cuda_gpu_executor.cc:937] successful NUMA node read from SysFS had negative value (-1), but there must be at least one NUMA node, so returning NUMA node zero\n",
      "2022-08-21 05:48:59.825817: I tensorflow/core/common_runtime/gpu/gpu_device.cc:1510] Created device /job:localhost/replica:0/task:0/device:GPU:0 with 15403 MB memory:  -> device: 0, name: Tesla P100-PCIE-16GB, pci bus id: 0000:00:04.0, compute capability: 6.0\n",
      "2022-08-21 05:49:00.316938: I tensorflow/compiler/mlir/mlir_graph_optimization_pass.cc:185] None of the MLIR Optimization Passes are enabled (registered 2)\n"
     ]
    },
    {
     "name": "stdout",
     "output_type": "stream",
     "text": [
      "19/19 [==============================] - 0s 2ms/step - loss: 0.1758 - accuracy: 0.9263\n"
     ]
    },
    {
     "data": {
      "text/plain": [
       "[0.1757746934890747, 0.9262981414794922]"
      ]
     },
     "execution_count": 18,
     "metadata": {},
     "output_type": "execute_result"
    }
   ],
   "source": [
    "classifier = Sequential()\n",
    "classifier.add(Dense(400,activation = 'relu',kernel_initializer='random_normal',input_dim =X_test.shape[1]))\n",
    "classifier.add(Dense(800,activation = 'relu',kernel_initializer='random_normal'))\n",
    "classifier.add(Dense(10,activation = 'relu',kernel_initializer='random_normal'))\n",
    "classifier.add(Dense(1,activation = 'sigmoid',kernel_initializer='random_normal'))\n",
    "classifier.compile(optimizer = 'adam',loss= 'binary_crossentropy',metrics = ['accuracy'])\n",
    "classifier.fit(X_train,Y_train,batch_size= 20,epochs = 100,verbose = 0)\n",
    "evaluate_model = classifier.evaluate(X_train,Y_train)\n",
    "evaluate_model\n",
    "               \n",
    "               \n",
    "\n"
   ]
  },
  {
   "cell_type": "code",
   "execution_count": 19,
   "id": "51ef017f",
   "metadata": {
    "execution": {
     "iopub.execute_input": "2022-08-21T05:49:11.222981Z",
     "iopub.status.busy": "2022-08-21T05:49:11.222112Z",
     "iopub.status.idle": "2022-08-21T05:49:11.336592Z",
     "shell.execute_reply": "2022-08-21T05:49:11.335516Z"
    },
    "papermill": {
     "duration": 0.12493,
     "end_time": "2022-08-21T05:49:11.339059",
     "exception": false,
     "start_time": "2022-08-21T05:49:11.214129",
     "status": "completed"
    },
    "tags": []
   },
   "outputs": [],
   "source": [
    "Y_pred = classifier.predict(X_test)\n",
    "Y_pred = (Y_pred >0.5)"
   ]
  },
  {
   "cell_type": "code",
   "execution_count": 20,
   "id": "cc8796b5",
   "metadata": {
    "execution": {
     "iopub.execute_input": "2022-08-21T05:49:11.356056Z",
     "iopub.status.busy": "2022-08-21T05:49:11.354321Z",
     "iopub.status.idle": "2022-08-21T05:49:11.361773Z",
     "shell.execute_reply": "2022-08-21T05:49:11.360713Z"
    },
    "papermill": {
     "duration": 0.018104,
     "end_time": "2022-08-21T05:49:11.364350",
     "exception": false,
     "start_time": "2022-08-21T05:49:11.346246",
     "status": "completed"
    },
    "tags": []
   },
   "outputs": [
    {
     "data": {
      "text/plain": [
       "array([[ True],\n",
       "       [False],\n",
       "       [False],\n",
       "       [ True],\n",
       "       [ True],\n",
       "       [ True],\n",
       "       [False],\n",
       "       [ True],\n",
       "       [False],\n",
       "       [ True],\n",
       "       [ True],\n",
       "       [ True],\n",
       "       [False],\n",
       "       [ True],\n",
       "       [ True],\n",
       "       [False],\n",
       "       [False],\n",
       "       [False],\n",
       "       [ True],\n",
       "       [ True],\n",
       "       [ True],\n",
       "       [ True],\n",
       "       [ True],\n",
       "       [ True],\n",
       "       [False],\n",
       "       [ True],\n",
       "       [False],\n",
       "       [False],\n",
       "       [ True],\n",
       "       [ True],\n",
       "       [False],\n",
       "       [False],\n",
       "       [False],\n",
       "       [ True],\n",
       "       [ True],\n",
       "       [False],\n",
       "       [ True],\n",
       "       [False],\n",
       "       [ True],\n",
       "       [ True],\n",
       "       [False],\n",
       "       [False],\n",
       "       [ True],\n",
       "       [ True],\n",
       "       [ True],\n",
       "       [False],\n",
       "       [False],\n",
       "       [ True],\n",
       "       [False],\n",
       "       [ True],\n",
       "       [ True],\n",
       "       [False],\n",
       "       [ True],\n",
       "       [False],\n",
       "       [ True],\n",
       "       [False],\n",
       "       [ True],\n",
       "       [ True],\n",
       "       [False],\n",
       "       [False],\n",
       "       [ True],\n",
       "       [False],\n",
       "       [ True],\n",
       "       [ True],\n",
       "       [ True],\n",
       "       [False],\n",
       "       [False]])"
      ]
     },
     "execution_count": 20,
     "metadata": {},
     "output_type": "execute_result"
    }
   ],
   "source": [
    "Y_pred"
   ]
  },
  {
   "cell_type": "code",
   "execution_count": 21,
   "id": "baabd7e1",
   "metadata": {
    "execution": {
     "iopub.execute_input": "2022-08-21T05:49:11.380112Z",
     "iopub.status.busy": "2022-08-21T05:49:11.379851Z",
     "iopub.status.idle": "2022-08-21T05:49:11.621359Z",
     "shell.execute_reply": "2022-08-21T05:49:11.620372Z"
    },
    "papermill": {
     "duration": 0.251908,
     "end_time": "2022-08-21T05:49:11.623410",
     "exception": false,
     "start_time": "2022-08-21T05:49:11.371502",
     "status": "completed"
    },
    "tags": []
   },
   "outputs": [
    {
     "data": {
      "text/plain": [
       "[Text(0, 0.5, 'No'), Text(0, 1.5, 'Yes')]"
      ]
     },
     "execution_count": 21,
     "metadata": {},
     "output_type": "execute_result"
    },
    {
     "data": {
      "image/png": "[encoded data removed]",
      "text/plain": [
       "<Figure size 432x288 with 2 Axes>"
      ]
     },
     "metadata": {
      "needs_background": "light"
     },
     "output_type": "display_data"
    }
   ],
   "source": [
    "from sklearn.metrics import confusion_matrix\n",
    "cm = confusion_matrix(Y_test,Y_pred)\n",
    "axis = plt.subplot()\n",
    "sns.heatmap(cm,annot = True,ax=axis) #annote = True is to annotate cells\n",
    "#labels, titles and ticks\n",
    "axis.set_xlabel('Predicted')\n",
    "axis.set_ylabel('Actual')\n",
    "axis.set_title('Confusion Matrix')\n",
    "axis.xaxis.set_ticklabels(['No','Yes'])\n",
    "axis.yaxis.set_ticklabels(['No','Yes'])\n",
    "\n"
   ]
  },
  {
   "cell_type": "markdown",
   "id": "033c236d",
   "metadata": {
    "papermill": {
     "duration": 0.007189,
     "end_time": "2022-08-21T05:49:11.638771",
     "exception": false,
     "start_time": "2022-08-21T05:49:11.631582",
     "status": "completed"
    },
    "tags": []
   },
   "source": [
    "We have created a model called classifier and it can be pickled and reused"
   ]
  },
  {
   "cell_type": "code",
   "execution_count": 22,
   "id": "d52923f4",
   "metadata": {
    "execution": {
     "iopub.execute_input": "2022-08-21T05:49:11.655545Z",
     "iopub.status.busy": "2022-08-21T05:49:11.654092Z",
     "iopub.status.idle": "2022-08-21T05:49:11.662826Z",
     "shell.execute_reply": "2022-08-21T05:49:11.661981Z"
    },
    "papermill": {
     "duration": 0.01883,
     "end_time": "2022-08-21T05:49:11.664800",
     "exception": false,
     "start_time": "2022-08-21T05:49:11.645970",
     "status": "completed"
    },
    "tags": []
   },
   "outputs": [
    {
     "data": {
      "text/plain": [
       "['loan_model.pkl']"
      ]
     },
     "execution_count": 22,
     "metadata": {},
     "output_type": "execute_result"
    }
   ],
   "source": [
    "import pickle\n",
    "import joblib\n",
    "filename = 'loan_model.pkl'\n",
    "joblib.dump('classifier',filename)"
   ]
  },
  {
   "cell_type": "code",
   "execution_count": null,
   "id": "a153f2e0",
   "metadata": {
    "papermill": {
     "duration": 0.007134,
     "end_time": "2022-08-21T05:49:11.679430",
     "exception": false,
     "start_time": "2022-08-21T05:49:11.672296",
     "status": "completed"
    },
    "tags": []
   },
   "outputs": [],
   "source": []
  }
 ],
 "metadata": {
  "kernelspec": {
   "display_name": "Python 3",
   "language": "python",
   "name": "python3"
  },
  "language_info": {
   "codemirror_mode": {
    "name": "ipython",
    "version": 3
   },
   "file_extension": ".py",
   "mimetype": "text/x-python",
   "name": "python",
   "nbconvert_exporter": "python",
   "pygments_lexer": "ipython3",
   "version": "3.7.12"
  },
  "papermill": {
   "default_parameters": {},
   "duration": 32.264839,
   "end_time": "2022-08-21T05:49:15.126894",
   "environment_variables": {},
   "exception": null,
   "input_path": "__notebook__.ipynb",
   "output_path": "__notebook__.ipynb",
   "parameters": {},
   "start_time": "2022-08-21T05:48:42.862055",
   "version": "2.3.4"
  }
 },
 "nbformat": 4,
 "nbformat_minor": 5
}
