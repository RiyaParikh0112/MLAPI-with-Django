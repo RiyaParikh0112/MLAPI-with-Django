{
 "cells": [
  {
   "cell_type": "code",
   "execution_count": 1,
   "id": "000fc166",
   "metadata": {
    "_cell_guid": "b1076dfc-b9ad-4769-8c92-a6c4dae69d19",
    "_uuid": "8f2839f25d086af736a60e9eeb907d3b93b6e0e5",
    "execution": {
     "iopub.execute_input": "2022-08-21T04:49:40.098559Z",
     "iopub.status.busy": "2022-08-21T04:49:40.097913Z",
     "iopub.status.idle": "2022-08-21T04:49:47.415608Z",
     "shell.execute_reply": "2022-08-21T04:49:47.414726Z"
    },
    "papermill": {
     "duration": 7.325728,
     "end_time": "2022-08-21T04:49:47.418438",
     "exception": false,
     "start_time": "2022-08-21T04:49:40.092710",
     "status": "completed"
    },
    "tags": []
   },
   "outputs": [],
   "source": [
    "import pandas as pd\n",
    "import numpy as np\n",
    "import seaborn as sns\n",
    "import matplotlib.pyplot as plt\n",
    "from keras import Sequential\n",
    "from keras.layers import Dense\n",
    "from sklearn.model_selection import train_test_split\n",
    "from sklearn.metrics import accuracy_score,confusion_matrix\n",
    "from imblearn.over_sampling import SMOTE  # as it is an imbalanced data\n",
    "from sklearn.preprocessing import MinMaxScaler\n",
    "import warnings\n",
    "from collections import Counter\n",
    "warnings.filterwarnings('ignore')\n",
    "\n"
   ]
  },
  {
   "cell_type": "code",
   "execution_count": 2,
   "id": "a18f9404",
   "metadata": {
    "execution": {
     "iopub.execute_input": "2022-08-21T04:49:47.426355Z",
     "iopub.status.busy": "2022-08-21T04:49:47.425357Z",
     "iopub.status.idle": "2022-08-21T04:49:47.446848Z",
     "shell.execute_reply": "2022-08-21T04:49:47.445523Z"
    },
    "papermill": {
     "duration": 0.028077,
     "end_time": "2022-08-21T04:49:47.449564",
     "exception": false,
     "start_time": "2022-08-21T04:49:47.421487",
     "status": "completed"
    },
    "tags": []
   },
   "outputs": [],
   "source": [
    "df = pd.read_csv('../input/bankloan/bankloan.csv')"
   ]
  },
  {
   "cell_type": "code",
   "execution_count": 3,
   "id": "4a6363d5",
   "metadata": {
    "execution": {
     "iopub.execute_input": "2022-08-21T04:49:47.457149Z",
     "iopub.status.busy": "2022-08-21T04:49:47.456644Z",
     "iopub.status.idle": "2022-08-21T04:49:47.481651Z",
     "shell.execute_reply": "2022-08-21T04:49:47.480511Z"
    },
    "papermill": {
     "duration": 0.031078,
     "end_time": "2022-08-21T04:49:47.483706",
     "exception": false,
     "start_time": "2022-08-21T04:49:47.452628",
     "status": "completed"
    },
    "tags": []
   },
   "outputs": [
    {
     "data": {
      "text/html": [
       "<div>\n",
       "<style scoped>\n",
       "    .dataframe tbody tr th:only-of-type {\n",
       "        vertical-align: middle;\n",
       "    }\n",
       "\n",
       "    .dataframe tbody tr th {\n",
       "        vertical-align: top;\n",
       "    }\n",
       "\n",
       "    .dataframe thead th {\n",
       "        text-align: right;\n",
       "    }\n",
       "</style>\n",
       "<table border=\"1\" class=\"dataframe\">\n",
       "  <thead>\n",
       "    <tr style=\"text-align: right;\">\n",
       "      <th></th>\n",
       "      <th>Loan_ID</th>\n",
       "      <th>Gender</th>\n",
       "      <th>Married</th>\n",
       "      <th>Dependents</th>\n",
       "      <th>Education</th>\n",
       "      <th>Self_Employed</th>\n",
       "      <th>ApplicantIncome</th>\n",
       "      <th>CoapplicantIncome</th>\n",
       "      <th>LoanAmount</th>\n",
       "      <th>Loan_Amount_Term</th>\n",
       "      <th>Credit_History</th>\n",
       "      <th>Property_Area</th>\n",
       "      <th>Loan_Status</th>\n",
       "    </tr>\n",
       "  </thead>\n",
       "  <tbody>\n",
       "    <tr>\n",
       "      <th>0</th>\n",
       "      <td>LP001002</td>\n",
       "      <td>Male</td>\n",
       "      <td>No</td>\n",
       "      <td>0.0</td>\n",
       "      <td>Graduate</td>\n",
       "      <td>No</td>\n",
       "      <td>5849</td>\n",
       "      <td>0.0</td>\n",
       "      <td>NaN</td>\n",
       "      <td>360.0</td>\n",
       "      <td>1.0</td>\n",
       "      <td>Urban</td>\n",
       "      <td>Y</td>\n",
       "    </tr>\n",
       "    <tr>\n",
       "      <th>1</th>\n",
       "      <td>LP001003</td>\n",
       "      <td>Male</td>\n",
       "      <td>Yes</td>\n",
       "      <td>1.0</td>\n",
       "      <td>Graduate</td>\n",
       "      <td>No</td>\n",
       "      <td>4583</td>\n",
       "      <td>1508.0</td>\n",
       "      <td>128.0</td>\n",
       "      <td>360.0</td>\n",
       "      <td>1.0</td>\n",
       "      <td>Rural</td>\n",
       "      <td>N</td>\n",
       "    </tr>\n",
       "    <tr>\n",
       "      <th>2</th>\n",
       "      <td>LP001005</td>\n",
       "      <td>Male</td>\n",
       "      <td>Yes</td>\n",
       "      <td>0.0</td>\n",
       "      <td>Graduate</td>\n",
       "      <td>Yes</td>\n",
       "      <td>3000</td>\n",
       "      <td>0.0</td>\n",
       "      <td>66.0</td>\n",
       "      <td>360.0</td>\n",
       "      <td>1.0</td>\n",
       "      <td>Urban</td>\n",
       "      <td>Y</td>\n",
       "    </tr>\n",
       "    <tr>\n",
       "      <th>3</th>\n",
       "      <td>LP001006</td>\n",
       "      <td>Male</td>\n",
       "      <td>Yes</td>\n",
       "      <td>0.0</td>\n",
       "      <td>Not Graduate</td>\n",
       "      <td>No</td>\n",
       "      <td>2583</td>\n",
       "      <td>2358.0</td>\n",
       "      <td>120.0</td>\n",
       "      <td>360.0</td>\n",
       "      <td>1.0</td>\n",
       "      <td>Urban</td>\n",
       "      <td>Y</td>\n",
       "    </tr>\n",
       "    <tr>\n",
       "      <th>4</th>\n",
       "      <td>LP001008</td>\n",
       "      <td>Male</td>\n",
       "      <td>No</td>\n",
       "      <td>0.0</td>\n",
       "      <td>Graduate</td>\n",
       "      <td>No</td>\n",
       "      <td>6000</td>\n",
       "      <td>0.0</td>\n",
       "      <td>141.0</td>\n",
       "      <td>360.0</td>\n",
       "      <td>1.0</td>\n",
       "      <td>Urban</td>\n",
       "      <td>Y</td>\n",
       "    </tr>\n",
       "  </tbody>\n",
       "</table>\n",
       "</div>"
      ],
      "text/plain": [
       "    Loan_ID Gender Married  Dependents     Education Self_Employed  \\\n",
       "0  LP001002   Male      No         0.0      Graduate            No   \n",
       "1  LP001003   Male     Yes         1.0      Graduate            No   \n",
       "2  LP001005   Male     Yes         0.0      Graduate           Yes   \n",
       "3  LP001006   Male     Yes         0.0  Not Graduate            No   \n",
       "4  LP001008   Male      No         0.0      Graduate            No   \n",
       "\n",
       "   ApplicantIncome  CoapplicantIncome  LoanAmount  Loan_Amount_Term  \\\n",
       "0             5849                0.0         NaN             360.0   \n",
       "1             4583             1508.0       128.0             360.0   \n",
       "2             3000                0.0        66.0             360.0   \n",
       "3             2583             2358.0       120.0             360.0   \n",
       "4             6000                0.0       141.0             360.0   \n",
       "\n",
       "   Credit_History Property_Area Loan_Status  \n",
       "0             1.0         Urban           Y  \n",
       "1             1.0         Rural           N  \n",
       "2             1.0         Urban           Y  \n",
       "3             1.0         Urban           Y  \n",
       "4             1.0         Urban           Y  "
      ]
     },
     "execution_count": 3,
     "metadata": {},
     "output_type": "execute_result"
    }
   ],
   "source": [
    "df.head()"
   ]
  },
  {
   "cell_type": "code",
   "execution_count": 4,
   "id": "2d14cfde",
   "metadata": {
    "execution": {
     "iopub.execute_input": "2022-08-21T04:49:47.491140Z",
     "iopub.status.busy": "2022-08-21T04:49:47.490722Z",
     "iopub.status.idle": "2022-08-21T04:49:47.498035Z",
     "shell.execute_reply": "2022-08-21T04:49:47.496592Z"
    },
    "papermill": {
     "duration": 0.013911,
     "end_time": "2022-08-21T04:49:47.500676",
     "exception": false,
     "start_time": "2022-08-21T04:49:47.486765",
     "status": "completed"
    },
    "tags": []
   },
   "outputs": [
    {
     "data": {
      "text/plain": [
       "(614, 13)"
      ]
     },
     "execution_count": 4,
     "metadata": {},
     "output_type": "execute_result"
    }
   ],
   "source": [
    "df.shape"
   ]
  },
  {
   "cell_type": "code",
   "execution_count": 5,
   "id": "8bdce267",
   "metadata": {
    "execution": {
     "iopub.execute_input": "2022-08-21T04:49:47.509395Z",
     "iopub.status.busy": "2022-08-21T04:49:47.508735Z",
     "iopub.status.idle": "2022-08-21T04:49:47.521924Z",
     "shell.execute_reply": "2022-08-21T04:49:47.520763Z"
    },
    "papermill": {
     "duration": 0.020566,
     "end_time": "2022-08-21T04:49:47.524634",
     "exception": false,
     "start_time": "2022-08-21T04:49:47.504068",
     "status": "completed"
    },
    "tags": []
   },
   "outputs": [
    {
     "data": {
      "text/plain": [
       "True     7\n",
       "False    6\n",
       "dtype: int64"
      ]
     },
     "execution_count": 5,
     "metadata": {},
     "output_type": "execute_result"
    }
   ],
   "source": [
    "df.isna().any().value_counts()"
   ]
  },
  {
   "cell_type": "code",
   "execution_count": 6,
   "id": "9d11aa54",
   "metadata": {
    "execution": {
     "iopub.execute_input": "2022-08-21T04:49:47.533701Z",
     "iopub.status.busy": "2022-08-21T04:49:47.532888Z",
     "iopub.status.idle": "2022-08-21T04:49:47.544993Z",
     "shell.execute_reply": "2022-08-21T04:49:47.543783Z"
    },
    "papermill": {
     "duration": 0.019615,
     "end_time": "2022-08-21T04:49:47.547986",
     "exception": false,
     "start_time": "2022-08-21T04:49:47.528371",
     "status": "completed"
    },
    "tags": []
   },
   "outputs": [],
   "source": [
    "df = df.dropna()"
   ]
  },
  {
   "cell_type": "code",
   "execution_count": 7,
   "id": "e5fb7dd4",
   "metadata": {
    "execution": {
     "iopub.execute_input": "2022-08-21T04:49:47.556703Z",
     "iopub.status.busy": "2022-08-21T04:49:47.555906Z",
     "iopub.status.idle": "2022-08-21T04:49:47.562750Z",
     "shell.execute_reply": "2022-08-21T04:49:47.561621Z"
    },
    "papermill": {
     "duration": 0.013376,
     "end_time": "2022-08-21T04:49:47.564736",
     "exception": false,
     "start_time": "2022-08-21T04:49:47.551360",
     "status": "completed"
    },
    "tags": []
   },
   "outputs": [],
   "source": [
    "df = df.drop('Loan_ID',axis = 1)"
   ]
  },
  {
   "cell_type": "code",
   "execution_count": null,
   "id": "d417900f",
   "metadata": {
    "execution": {
     "iopub.execute_input": "2022-08-21T04:48:45.050086Z",
     "iopub.status.busy": "2022-08-21T04:48:45.049651Z",
     "iopub.status.idle": "2022-08-21T04:48:45.079443Z",
     "shell.execute_reply": "2022-08-21T04:48:45.078089Z",
     "shell.execute_reply.started": "2022-08-21T04:48:45.050052Z"
    },
    "papermill": {
     "duration": 0.002653,
     "end_time": "2022-08-21T04:49:47.570729",
     "exception": false,
     "start_time": "2022-08-21T04:49:47.568076",
     "status": "completed"
    },
    "tags": []
   },
   "outputs": [],
   "source": []
  },
  {
   "cell_type": "code",
   "execution_count": null,
   "id": "8eba12f8",
   "metadata": {
    "papermill": {
     "duration": 0.002618,
     "end_time": "2022-08-21T04:49:47.576288",
     "exception": false,
     "start_time": "2022-08-21T04:49:47.573670",
     "status": "completed"
    },
    "tags": []
   },
   "outputs": [],
   "source": []
  }
 ],
 "metadata": {
  "kernelspec": {
   "display_name": "Python 3",
   "language": "python",
   "name": "python3"
  },
  "language_info": {
   "codemirror_mode": {
    "name": "ipython",
    "version": 3
   },
   "file_extension": ".py",
   "mimetype": "text/x-python",
   "name": "python",
   "nbconvert_exporter": "python",
   "pygments_lexer": "ipython3",
   "version": "3.7.12"
  },
  "papermill": {
   "default_parameters": {},
   "duration": 18.999839,
   "end_time": "2022-08-21T04:49:51.172972",
   "environment_variables": {},
   "exception": null,
   "input_path": "__notebook__.ipynb",
   "output_path": "__notebook__.ipynb",
   "parameters": {},
   "start_time": "2022-08-21T04:49:32.173133",
   "version": "2.3.4"
  }
 },
 "nbformat": 4,
 "nbformat_minor": 5
}
